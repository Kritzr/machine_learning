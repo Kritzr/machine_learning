{
 "cells": [
  {
   "cell_type": "code",
   "execution_count": 1,
   "id": "7b30c614-1c55-440b-9d79-523061ae7cf7",
   "metadata": {
    "tags": []
   },
   "outputs": [],
   "source": [
    "import numpy as np\n",
    "import pandas as pd\n"
   ]
  },
  {
   "cell_type": "code",
   "execution_count": 66,
   "id": "87809616-9022-43c5-afdf-787676ba857a",
   "metadata": {
    "tags": []
   },
   "outputs": [
    {
     "name": "stdout",
     "output_type": "stream",
     "text": [
      "question 1\n",
      "Krithika Ravishankar - 2022503035\n",
      "\n",
      "integers\n",
      "1D Array: [10 20 30 40 50 60]\n",
      "Datatype of 1D Array: int32\n",
      "Shape of 1D Array: (6,)\n",
      "Dimension of 1D Array: 1\n",
      "\n",
      "\n",
      "2D Array:\n",
      "[[10 20 30]\n",
      " [40 50 60]]\n",
      "Datatype of 2D Array: int32\n",
      "Shape of 2D Array: (2, 3)\n",
      "Dimension of 2D Array: 2\n",
      "\n",
      "floats\n",
      "1D Array: [10.2 20.3 30.4 40.5 50.6 60.7]\n",
      "Datatype of 1D Array: float64\n",
      "Shape of 1D Array: (6,)\n",
      "Dimension of 1D Array: 1\n",
      "\n",
      "\n",
      "2D Array:\n",
      "[[10.12 20.13 30.14]\n",
      " [40.15 50.16 60.17]]\n",
      "Datatype of 2D Array: float64\n",
      "Shape of 2D Array: (2, 3)\n",
      "Dimension of 2D Array: 2\n",
      "\n",
      "complexnumbers\n",
      "1D Array: [15. +8.j  1. +8.j 25. +9.j  9.+24.j]\n",
      "Datatype of 1D Array: complex128\n",
      "Shape of 1D Array: (4,)\n",
      "Dimension of 1D Array: 1\n",
      "\n",
      "\n",
      "2D Array:\n",
      "[[15. +8.j  1. +8.j]\n",
      " [25. +9.j  9.+24.j]]\n",
      "Datatype of 2D Array: complex128\n",
      "Shape of 2D Array: (2, 2)\n",
      "Dimension of 2D Array: 2\n",
      "\n",
      "boolean\n",
      "1D Array: [ True False False  True]\n",
      "Datatype of 1D Array: bool\n",
      "Shape of 1D Array: (4,)\n",
      "Dimension of 1D Array: 1\n",
      "\n",
      "\n",
      "2D Array:\n",
      "[[ True False]\n",
      " [False  True]]\n",
      "Datatype of 2D Array: bool\n",
      "Shape of 2D Array: (2, 2)\n",
      "Dimension of 2D Array: 2\n",
      "\n",
      "string\n",
      "1D Array: ['krithika' 'krithikaravishankar' 'krithikar' 'kritz']\n",
      "Datatype of 1D Array: <U19\n",
      "Shape of 1D Array: (4,)\n",
      "Dimension of 1D Array: 1\n",
      "\n",
      "\n",
      "2D Array:\n",
      "[['krithika' 'krithikaravishankar' 'krithikar' 'kritz']\n",
      " ['machine' 'learning' 'lab' 'exercise']]\n",
      "Datatype of 2D Array: <U19\n",
      "Shape of 2D Array: (2, 4)\n",
      "Dimension of 2D Array: 2\n"
     ]
    }
   ],
   "source": [
    "print(\"question 1\")\n",
    "print(\"Krithika Ravishankar - 2022503035\")\n",
    "print(\"\\nintegers\")\n",
    "arr1D = np.array([10, 20, 30, 40, 50, 60])\n",
    "print(\"1D Array:\", arr1D)\n",
    "print(\"Datatype of 1D Array:\", arr1D.dtype)\n",
    "print(\"Shape of 1D Array:\", arr1D.shape)\n",
    "print(\"Dimension of 1D Array:\", arr1D.ndim)\n",
    "print(\"\\n\")\n",
    "arr2D = np.array([[10, 20, 30], [40, 50, 60]])\n",
    "print(\"2D Array:\")\n",
    "print( arr2D)\n",
    "print(\"Datatype of 2D Array:\", arr2D.dtype)\n",
    "print(\"Shape of 2D Array:\", arr2D.shape)\n",
    "print(\"Dimension of 2D Array:\", arr2D.ndim)\n",
    "print(\"\\nfloats\")\n",
    "float1D = np.array([10.2, 20.3, 30.4, 40.5, 50.6, 60.7])\n",
    "print(\"1D Array:\", float1D)\n",
    "print(\"Datatype of 1D Array:\", float1D.dtype)\n",
    "print(\"Shape of 1D Array:\", float1D.shape)\n",
    "print(\"Dimension of 1D Array:\",float1D.ndim)\n",
    "print(\"\\n\")\n",
    "float2D = np.array([[10.12, 20.13, 30.14], [40.15, 50.16, 60.17]])\n",
    "print(\"2D Array:\")\n",
    "print( float2D)\n",
    "print(\"Datatype of 2D Array:\", float2D.dtype)\n",
    "print(\"Shape of 2D Array:\", float2D.shape)\n",
    "print(\"Dimension of 2D Array:\",float2D.ndim)\n",
    "print(\"\\ncomplexnumbers\")\n",
    "complex1D = np.array([15 + 8j, 1 + 8j, 25 + 9j, 9 + 24j ])\n",
    "print(\"1D Array:\", complex1D)\n",
    "print(\"Datatype of 1D Array:\", complex1D.dtype)\n",
    "print(\"Shape of 1D Array:\", complex1D.shape)\n",
    "print(\"Dimension of 1D Array:\",complex1D.ndim)\n",
    "print(\"\\n\")\n",
    "complex2D = np.array([[15 + 8j, 1 + 8j], [25 + 9j, 9 + 24j]])\n",
    "print(\"2D Array:\")\n",
    "print( complex2D)\n",
    "print(\"Datatype of 2D Array:\",complex2D.dtype)\n",
    "print(\"Shape of 2D Array:\", complex2D.shape)\n",
    "print(\"Dimension of 2D Array:\",complex2D.ndim)\n",
    "print(\"\\nboolean\")\n",
    "bool1D = np.array([True, False, False, True ])\n",
    "print(\"1D Array:\", bool1D)\n",
    "print(\"Datatype of 1D Array:\",bool1D.dtype)\n",
    "print(\"Shape of 1D Array:\", bool1D.shape)\n",
    "print(\"Dimension of 1D Array:\",bool1D.ndim)\n",
    "print(\"\\n\")\n",
    "bool2D = np.array([[True, False], [ False, True]])\n",
    "print(\"2D Array:\")\n",
    "print( bool2D)\n",
    "print(\"Datatype of 2D Array:\",bool2D.dtype)\n",
    "print(\"Shape of 2D Array:\", bool2D.shape)\n",
    "print(\"Dimension of 2D Array:\",bool2D.ndim)\n",
    "print(\"\\nstring\")\n",
    "str1D = np.array(['krithika','krithikaravishankar','krithikar','kritz']) \n",
    "print(\"1D Array:\", str1D)\n",
    "print(\"Datatype of 1D Array:\",str1D.dtype)\n",
    "print(\"Shape of 1D Array:\", str1D.shape)\n",
    "print(\"Dimension of 1D Array:\",str1D.ndim)\n",
    "print(\"\\n\")\n",
    "str2D = np.array([['krithika', 'krithikaravishankar', 'krithikar', 'kritz'], \n",
    "                  ['machine', 'learning', 'lab', 'exercise']])\n",
    "print(\"2D Array:\")\n",
    "print(str2D)\n",
    "print(\"Datatype of 2D Array:\", str2D.dtype)\n",
    "print(\"Shape of 2D Array:\", str2D.shape)\n",
    "print(\"Dimension of 2D Array:\", str2D.ndim)"
   ]
  },
  {
   "cell_type": "code",
   "execution_count": 67,
   "id": "c82548c5-32ce-4a4e-86c1-b5015690a298",
   "metadata": {
    "tags": []
   },
   "outputs": [
    {
     "name": "stdout",
     "output_type": "stream",
     "text": [
      "question 2\n",
      "Krithika Ravishankar - 2022503035\n",
      "randomly initialising: \n",
      "\n",
      "\n",
      "random 1D array is: \n",
      "\n",
      "[34 50 42 20 40  9 54 59]\n",
      "\n",
      "random 2D array is: \n",
      "\n",
      "[[27 54 15]\n",
      " [24  6  8]\n",
      " [59 51 38]]\n",
      "\n",
      "default initialising: \n",
      "\n",
      "\n",
      "zeros 1D array is: \n",
      "\n",
      "[0. 0. 0. 0. 0.]\n",
      "\n",
      "zeros 2D array is: \n",
      "\n",
      "[[0 0 0]\n",
      " [0 0 0]\n",
      " [0 0 0]]\n",
      "\n",
      "diagonal values of 2d array\n",
      "\n",
      "[27  6 38]\n",
      "\n",
      " first element of the array:\n",
      "\n",
      "27\n",
      "\n",
      " last element of the array:\n",
      "\n",
      "38\n",
      "\n",
      " the second row and the second column element\n",
      "\n",
      "6\n",
      "\n",
      " the number of elements in the array\n",
      "\n",
      "9\n"
     ]
    }
   ],
   "source": [
    "print(\"question 2\")\n",
    "print(\"Krithika Ravishankar - 2022503035\")\n",
    "print(\"randomly initialising: \\n\")\n",
    "randomarr_1D = np.random.randint(5,60, 8)\n",
    "randomarr_2D = np.random.randint(5,60, (3,3))\n",
    "#here, if i just give it as random.rand, the default value is taken as float\n",
    "print(\"\\nrandom 1D array is: \\n\") \n",
    "print(randomarr_1D)\n",
    "print(\"\\nrandom 2D array is: \\n\")\n",
    "print(randomarr_2D)\n",
    "\n",
    "print(\"\\ndefault initialising: \\n\")\n",
    "zeros_1D = np.zeros(5)\n",
    "zeros_2D = np.zeros((3, 3),dtype='int')\n",
    "print(\"\\nzeros 1D array is: \\n\") \n",
    "print(zeros_1D)\n",
    "print(\"\\nzeros 2D array is: \\n\")\n",
    "print(zeros_2D)\n",
    "\n",
    "print(\"\\ndiagonal values of 2d array\\n\")\n",
    "print(np.diagonal(randomarr_2D))\n",
    "\n",
    "print(\"\\n first element of the array:\\n\")\n",
    "print(randomarr_2D[0, 0])\n",
    "\n",
    "print(\"\\n last element of the array:\\n\")\n",
    "print(randomarr_2D[-1, -1])\n",
    "\n",
    "print(\"\\n the second row and the second column element\\n\")\n",
    "print(randomarr_2D[1,1])\n",
    "\n",
    "print(\"\\n the number of elements in the array\\n\")\n",
    "print(randomarr_2D.size)\n"
   ]
  },
  {
   "cell_type": "code",
   "execution_count": 68,
   "id": "120ac16f-838e-47b0-9753-dfd6b2584faa",
   "metadata": {
    "tags": []
   },
   "outputs": [
    {
     "name": "stdout",
     "output_type": "stream",
     "text": [
      "question 3\n",
      "Krithika Ravishankar - 2022503035\n",
      "\n",
      "Determinant of matrix 1: 174.0\n",
      "\n",
      "Determinant of matrix 2: -83.00000000000003\n",
      "\n",
      "Addition:\n",
      " [[16 31]\n",
      " [15 41]]\n",
      "\n",
      " multiplication:\n",
      " [[ 15 198]\n",
      " [ 36 400]]\n",
      "Subtraction :\n",
      " [[14 13]\n",
      " [-9 -9]]\n",
      "division:\n",
      " [[15.    2.44]\n",
      " [ 0.25  0.64]]\n",
      "Transpose of matrix 1:\n",
      " [[15  3]\n",
      " [22 16]]\n",
      "Transpose of matrix 2:\n",
      " [[ 1 12]\n",
      " [ 9 25]]\n",
      "Cross product: [ 113 -117]\n",
      "Dot product:\n",
      " [[279 685]\n",
      " [195 427]]\n"
     ]
    }
   ],
   "source": [
    "print(\"question 3\")\n",
    "print(\"Krithika Ravishankar - 2022503035\")\n",
    "matrix1 = np.array([[15, 22], [3, 16]])\n",
    "matrix2 = np.array([[1, 9], [12, 25]])\n",
    "\n",
    "det1 = np.linalg.det(matrix1)\n",
    "print(\"\\nDeterminant of matrix 1:\", det1)\n",
    "det2 = np.linalg.det(matrix2)\n",
    "print(\"\\nDeterminant of matrix 2:\", det2)\n",
    "\n",
    "addition = matrix1 + matrix2\n",
    "print(\"\\nAddition:\\n\", addition)\n",
    "\n",
    "multiplication =matrix1 * matrix2\n",
    "print(\"\\n multiplication:\\n\", multiplication)\n",
    "\n",
    "subtraction = matrix1- matrix2\n",
    "print(\"Subtraction :\\n\", subtraction)\n",
    "\n",
    "division =np.divide(matrix1, matrix2, where = matrix2!=0)\n",
    "print(\"division:\\n\", np.round(division,2))\n",
    "\n",
    "transpose1 = matrix1.T\n",
    "print(\"Transpose of matrix 1:\\n\", transpose1)\n",
    "transpose2 = matrix2.T\n",
    "print(\"Transpose of matrix 2:\\n\", transpose2)\n",
    "\n",
    "cross_product = np.cross(matrix1, matrix2)\n",
    "print(\"Cross product:\", cross_product)\n",
    "\n",
    "dot_product = np.dot(matrix1, matrix2)\n",
    "print(\"Dot product:\\n\", dot_product)"
   ]
  },
  {
   "cell_type": "code",
   "execution_count": 69,
   "id": "7fdf9b12-9a4d-440a-b5b2-03090a46fdfa",
   "metadata": {
    "tags": []
   },
   "outputs": [
    {
     "name": "stdout",
     "output_type": "stream",
     "text": [
      "question 4\n",
      "Krithika Ravishankar - 2022503035\n",
      "\n",
      "1D Range: [0 1 2 3 4 5 6 7 8 9]\n",
      "\n",
      "2D Range:\n",
      " [0 1 2 3 4 5 6 7 8]\n"
     ]
    }
   ],
   "source": [
    "print(\"question 4\")\n",
    "print(\"Krithika Ravishankar - 2022503035\")\n",
    "range_1D = np.arange(0, 10)\n",
    "print(\"\\n1D Range:\", range_1D)\n",
    "range_2D = np.arange(0, 9)\n",
    "print(\"\\n2D Range:\\n\", range_2D)"
   ]
  },
  {
   "cell_type": "code",
   "execution_count": 70,
   "id": "2ab881fb-69c1-46d5-9aae-ab90eac98b3a",
   "metadata": {
    "tags": []
   },
   "outputs": [
    {
     "name": "stdout",
     "output_type": "stream",
     "text": [
      "question 5\n",
      "Krithika Ravishankar - 2022503035\n",
      "Reshaped Array:\n",
      " [[0 1 2]\n",
      " [3 4 5]\n",
      " [6 7 8]]\n"
     ]
    }
   ],
   "source": [
    "print(\"question 5\")\n",
    "print(\"Krithika Ravishankar - 2022503035\")\n",
    "print(\"Reshaped Array:\\n\", range_2D.reshape(3, 3))"
   ]
  },
  {
   "cell_type": "code",
   "execution_count": 71,
   "id": "3b5d60ff-8581-49ba-a1d3-f6667477f123",
   "metadata": {
    "tags": []
   },
   "outputs": [
    {
     "name": "stdout",
     "output_type": "stream",
     "text": [
      "question 6\n",
      "Krithika Ravishankar - 2022503035\n",
      " Minimum:  1\n",
      " Maximum:  90\n",
      " Sum:  495\n",
      " Mean:  49.5\n",
      " Median:  50.5\n",
      "Mode:  1\n",
      " SD:  30.137186331839274\n"
     ]
    }
   ],
   "source": [
    "import statistics as stats\n",
    "print(\"question 6\")\n",
    "print(\"Krithika Ravishankar - 2022503035\")\n",
    "data = ([1,12,23,34,45,56,67,78,89,90])\n",
    "print(\" Minimum: \" ,np.min(data))\n",
    "print(\" Maximum: \" ,np.max(data))\n",
    "print(\" Sum: \" ,np.sum(data))\n",
    "print(\" Mean: \" ,np.mean(data))\n",
    "print(\" Median: \", np.median(data))\n",
    "print( \"Mode: \", stats.mode(data))\n",
    "print(\" SD: \", np.std(data))"
   ]
  },
  {
   "cell_type": "code",
   "execution_count": 72,
   "id": "ec6e4806-bf86-412b-89e5-1d642de48ac5",
   "metadata": {
    "tags": []
   },
   "outputs": [
    {
     "name": "stdout",
     "output_type": "stream",
     "text": [
      "question 7\n",
      "Krithika Ravishankar - 2022503035\n",
      "Mask (greater than 5): [False False  True  True  True]\n",
      "Filtered values (greater than 5): [ 6  8 10]\n",
      "Number of values greater than 5: 3\n"
     ]
    }
   ],
   "source": [
    "print(\"question 7\")\n",
    "print(\"Krithika Ravishankar - 2022503035\")\n",
    "bool_mask= np.array([2, 4, 6, 8, 10])\n",
    "\n",
    "mask = bool_mask > 5\n",
    "print(\"Mask (greater than 5):\", mask)\n",
    "\n",
    "filtered_values = bool_mask[mask]\n",
    "print(\"Filtered values (greater than 5):\", filtered_values)\n",
    "\n",
    "count_greater_than_5 = np.sum(mask)\n",
    "print(\"Number of values greater than 5:\", count_greater_than_5)\n"
   ]
  },
  {
   "cell_type": "code",
   "execution_count": 73,
   "id": "ed285f6a-3061-474b-83c2-f8f3a4a7cfbd",
   "metadata": {
    "tags": []
   },
   "outputs": [
    {
     "name": "stdout",
     "output_type": "stream",
     "text": [
      "question 8\n",
      "Krithika Ravishankar - 2022503035\n",
      "Fancy Indexing (accessing 1st, 3rd, 5th elements): [0 2 4]\n",
      "Every other element: [0 2 4 6 8]\n"
     ]
    }
   ],
   "source": [
    "print(\"question 8\")\n",
    "print(\"Krithika Ravishankar - 2022503035\")\n",
    "print(\"Fancy Indexing (accessing 1st, 3rd, 5th elements):\", range_1D[[0, 2, 4]])\n",
    "new_arr = range_1D[::2]\n",
    "print(\"Every other element:\", new_arr)"
   ]
  },
  {
   "cell_type": "code",
   "execution_count": 75,
   "id": "ad7a27fa-4b07-4351-a6a1-86affe30ae11",
   "metadata": {
    "tags": []
   },
   "outputs": [
    {
     "name": "stdout",
     "output_type": "stream",
     "text": [
      "question 9\n",
      "Krithika Ravishankar - 2022503035\n",
      "Student Names: ['Krithika' 'Samyuktha ' 'Viji']\n",
      "First Student: ('Krithika', 20, 8.5)\n",
      "Modified Student Array:\n",
      " [('Krithika', 20, 8.5) ('Samyuktha ', 21, 9.5) ('Viji', 22, 7.9)]\n"
     ]
    }
   ],
   "source": [
    "print(\"question 9\")\n",
    "print(\"Krithika Ravishankar - 2022503035\")\n",
    "dtype = [('Name', 'U10'), ('Age', 'i4'), ('Grade', 'f4')]\n",
    "students = np.array([('Krithika', 20, 8.5), ('Samyuktha ', 21, 9.3), ('Viji', 22, 7.9)], dtype=dtype)\n",
    "print(\"Student Names:\", students['Name'])\n",
    "print(\"First Student:\", students[0])\n",
    "students[1]['Grade'] = 9.5\n",
    "print(\"Modified Student Array:\\n\", students)"
   ]
  },
  {
   "cell_type": "code",
   "execution_count": 88,
   "id": "eef178ee-f038-4c4f-bfe1-d1a9d98db28e",
   "metadata": {
    "tags": []
   },
   "outputs": [
    {
     "name": "stdout",
     "output_type": "stream",
     "text": [
      "question 10\n",
      "Krithika Ravishankar - 2022503035\n",
      "Regression Equation: y = 50.00 + (5.00) * x1 + (-0.00) * x2\n",
      "Intercept (b): 49.999999999999204\n",
      "Slope for study hours (x1): 5.000000000000227\n",
      "Slope for practice tests (x2): -4.547473508864641e-13\n",
      "Predicted Score for Study Hours = 7, Practice Tests = 4: 84.99999999999898\n"
     ]
    },
    {
     "name": "stdin",
     "output_type": "stream",
     "text": [
      "Enter study hours:  7\n",
      "Enter practice tests:  4\n"
     ]
    },
    {
     "name": "stdout",
     "output_type": "stream",
     "text": [
      "Best fit line: 5.00000000000023*x1 - 4.54747350886464e-13*x2 + 49.9999999999992\n",
      "Predicted score: 84.9999999999990\n"
     ]
    }
   ],
   "source": [
    "print(\"question 10\")\n",
    "print(\"Krithika Ravishankar - 2022503035\")\n",
    "from sympy import symbols, Eq\n",
    "X1 = np.array([2, 3, 4, 5, 6]) \n",
    "X2 = np.array([1, 2, 2, 3, 3]) \n",
    "y = np.array([60, 65, 70, 75, 80])\n",
    "X = np.column_stack((np.ones(len(X1)), X1, X2))\n",
    "\n",
    "XtX = np.dot(X.T, X)\n",
    "XtX_inverse = np.linalg.inv(XtX)\n",
    "XtY = np.dot(X.T, y)\n",
    "theta = np.dot(XtX_inverse, XtY)\n",
    "\n",
    "intercept, slope1, slope2 = theta\n",
    "\n",
    "print(f\"Regression Equation: y = {intercept:.2f} + ({slope1:.2f}) * x1 + ({slope2:.2f}) * x2\")\n",
    "print(f\"Intercept (b): {intercept}\")\n",
    "print(f\"Slope for study hours (x1): {slope1}\")\n",
    "print(f\"Slope for practice tests (x2): {slope2}\")\n",
    "\n",
    "xnew = np.array([1, 7, 4]) \n",
    "predicted = np.dot(xnew, theta)\n",
    "print(f\"Predicted Score for Study Hours = 7, Practice Tests = 4: {predicted}\")\n",
    "\n",
    "x1, x2 = symbols('x1 x2')\n",
    "\n",
    "y_symbolic = intercept + slope1 * x1 + slope2 * x2\n",
    "\n",
    "\n",
    "hours = float(input(\"Enter study hours: \"))\n",
    "practice_Test = float(input(\"Enter practice tests: \"))\n",
    "\n",
    "predicted_score = y_symbolic.subs([(x1, hours), (x2, practice_Test)])\n",
    "\n",
    "print(\"Best fit line:\", y_symbolic)\n",
    "print(\"Predicted score:\", predicted_score)\n"
   ]
  },
  {
   "cell_type": "code",
   "execution_count": null,
   "id": "54a2845b-439a-40e9-8ca0-86b66dbee4af",
   "metadata": {},
   "outputs": [],
   "source": []
  }
 ],
 "metadata": {
  "kernelspec": {
   "display_name": "Python 3 (ipykernel)",
   "language": "python",
   "name": "python3"
  },
  "language_info": {
   "codemirror_mode": {
    "name": "ipython",
    "version": 3
   },
   "file_extension": ".py",
   "mimetype": "text/x-python",
   "name": "python",
   "nbconvert_exporter": "python",
   "pygments_lexer": "ipython3",
   "version": "3.11.5"
  }
 },
 "nbformat": 4,
 "nbformat_minor": 5
}
