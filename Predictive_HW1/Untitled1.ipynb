{
 "cells": [
  {
   "cell_type": "code",
   "execution_count": 264,
   "metadata": {},
   "outputs": [],
   "source": [
    "# Importing packages\n",
    "import matplotlib.pyplot as plt\n",
    "import numpy as np\n",
    "import pandas as pd\n",
    "import os\n",
    "import warnings\n",
    "warnings.filterwarnings('ignore')\n",
    "\n",
    "from sklearn import tree, linear_model, neighbors, svm, naive_bayes\n",
    "from sklearn import metrics\n",
    "from sklearn.model_selection import cross_val_score, train_test_split, GridSearchCV\n",
    "from sklearn.metrics import classification_report, confusion_matrix, accuracy_score\n",
    "from sklearn.preprocessing import MinMaxScaler\n",
    "from sklearn.preprocessing import LabelEncoder\n",
    "import scikitplot as sckplt"
   ]
  },
  {
   "cell_type": "code",
   "execution_count": 186,
   "metadata": {},
   "outputs": [],
   "source": [
    "# setting OS directory\n",
    "os.chdir('C:\\\\Users\\\\rckar\\\\OneDrive\\\\Documents\\\\MSBA\\\\Fall Semester\\\\6420 Predictive Analytics\\\\HW2')"
   ]
  },
  {
   "cell_type": "code",
   "execution_count": 213,
   "metadata": {},
   "outputs": [],
   "source": [
    "# Reading Data\n",
    "car = pd.read_csv(\"car.data\", header = None)"
   ]
  },
  {
   "cell_type": "code",
   "execution_count": 214,
   "metadata": {},
   "outputs": [],
   "source": [
    "# Renaming column names\n",
    "col_names = ['buying_price','maint_price',\n",
    "                 'doors','persons','lug_boot_size','safety',\n",
    "                 'eval_class']\n",
    "\n",
    "car.columns = col_names"
   ]
  },
  {
   "cell_type": "code",
   "execution_count": 215,
   "metadata": {},
   "outputs": [
    {
     "data": {
      "text/html": [
       "<div>\n",
       "<style scoped>\n",
       "    .dataframe tbody tr th:only-of-type {\n",
       "        vertical-align: middle;\n",
       "    }\n",
       "\n",
       "    .dataframe tbody tr th {\n",
       "        vertical-align: top;\n",
       "    }\n",
       "\n",
       "    .dataframe thead th {\n",
       "        text-align: right;\n",
       "    }\n",
       "</style>\n",
       "<table border=\"1\" class=\"dataframe\">\n",
       "  <thead>\n",
       "    <tr style=\"text-align: right;\">\n",
       "      <th></th>\n",
       "      <th>buying_price</th>\n",
       "      <th>maint_price</th>\n",
       "      <th>doors</th>\n",
       "      <th>persons</th>\n",
       "      <th>lug_boot_size</th>\n",
       "      <th>safety</th>\n",
       "      <th>eval_class</th>\n",
       "    </tr>\n",
       "  </thead>\n",
       "  <tbody>\n",
       "    <tr>\n",
       "      <th>count</th>\n",
       "      <td>1728</td>\n",
       "      <td>1728</td>\n",
       "      <td>1728</td>\n",
       "      <td>1728</td>\n",
       "      <td>1728</td>\n",
       "      <td>1728</td>\n",
       "      <td>1728</td>\n",
       "    </tr>\n",
       "    <tr>\n",
       "      <th>unique</th>\n",
       "      <td>4</td>\n",
       "      <td>4</td>\n",
       "      <td>4</td>\n",
       "      <td>3</td>\n",
       "      <td>3</td>\n",
       "      <td>3</td>\n",
       "      <td>4</td>\n",
       "    </tr>\n",
       "    <tr>\n",
       "      <th>top</th>\n",
       "      <td>low</td>\n",
       "      <td>low</td>\n",
       "      <td>5more</td>\n",
       "      <td>more</td>\n",
       "      <td>med</td>\n",
       "      <td>low</td>\n",
       "      <td>unacc</td>\n",
       "    </tr>\n",
       "    <tr>\n",
       "      <th>freq</th>\n",
       "      <td>432</td>\n",
       "      <td>432</td>\n",
       "      <td>432</td>\n",
       "      <td>576</td>\n",
       "      <td>576</td>\n",
       "      <td>576</td>\n",
       "      <td>1210</td>\n",
       "    </tr>\n",
       "  </tbody>\n",
       "</table>\n",
       "</div>"
      ],
      "text/plain": [
       "       buying_price maint_price  doors persons lug_boot_size safety eval_class\n",
       "count          1728        1728   1728    1728          1728   1728       1728\n",
       "unique            4           4      4       3             3      3          4\n",
       "top             low         low  5more    more           med    low      unacc\n",
       "freq            432         432    432     576           576    576       1210"
      ]
     },
     "execution_count": 215,
     "metadata": {},
     "output_type": "execute_result"
    }
   ],
   "source": [
    "car.describe()"
   ]
  },
  {
   "cell_type": "code",
   "execution_count": 216,
   "metadata": {},
   "outputs": [
    {
     "data": {
      "text/html": [
       "<div>\n",
       "<style scoped>\n",
       "    .dataframe tbody tr th:only-of-type {\n",
       "        vertical-align: middle;\n",
       "    }\n",
       "\n",
       "    .dataframe tbody tr th {\n",
       "        vertical-align: top;\n",
       "    }\n",
       "\n",
       "    .dataframe thead th {\n",
       "        text-align: right;\n",
       "    }\n",
       "</style>\n",
       "<table border=\"1\" class=\"dataframe\">\n",
       "  <thead>\n",
       "    <tr style=\"text-align: right;\">\n",
       "      <th></th>\n",
       "      <th>buying_price</th>\n",
       "      <th>maint_price</th>\n",
       "      <th>doors</th>\n",
       "      <th>persons</th>\n",
       "      <th>lug_boot_size</th>\n",
       "      <th>safety</th>\n",
       "      <th>eval_class</th>\n",
       "    </tr>\n",
       "  </thead>\n",
       "  <tbody>\n",
       "    <tr>\n",
       "      <th>0</th>\n",
       "      <td>vhigh</td>\n",
       "      <td>vhigh</td>\n",
       "      <td>2</td>\n",
       "      <td>2</td>\n",
       "      <td>small</td>\n",
       "      <td>low</td>\n",
       "      <td>unacc</td>\n",
       "    </tr>\n",
       "    <tr>\n",
       "      <th>1</th>\n",
       "      <td>vhigh</td>\n",
       "      <td>vhigh</td>\n",
       "      <td>2</td>\n",
       "      <td>2</td>\n",
       "      <td>small</td>\n",
       "      <td>med</td>\n",
       "      <td>unacc</td>\n",
       "    </tr>\n",
       "    <tr>\n",
       "      <th>2</th>\n",
       "      <td>vhigh</td>\n",
       "      <td>vhigh</td>\n",
       "      <td>2</td>\n",
       "      <td>2</td>\n",
       "      <td>small</td>\n",
       "      <td>high</td>\n",
       "      <td>unacc</td>\n",
       "    </tr>\n",
       "    <tr>\n",
       "      <th>3</th>\n",
       "      <td>vhigh</td>\n",
       "      <td>vhigh</td>\n",
       "      <td>2</td>\n",
       "      <td>2</td>\n",
       "      <td>med</td>\n",
       "      <td>low</td>\n",
       "      <td>unacc</td>\n",
       "    </tr>\n",
       "    <tr>\n",
       "      <th>4</th>\n",
       "      <td>vhigh</td>\n",
       "      <td>vhigh</td>\n",
       "      <td>2</td>\n",
       "      <td>2</td>\n",
       "      <td>med</td>\n",
       "      <td>med</td>\n",
       "      <td>unacc</td>\n",
       "    </tr>\n",
       "  </tbody>\n",
       "</table>\n",
       "</div>"
      ],
      "text/plain": [
       "  buying_price maint_price doors persons lug_boot_size safety eval_class\n",
       "0        vhigh       vhigh     2       2         small    low      unacc\n",
       "1        vhigh       vhigh     2       2         small    med      unacc\n",
       "2        vhigh       vhigh     2       2         small   high      unacc\n",
       "3        vhigh       vhigh     2       2           med    low      unacc\n",
       "4        vhigh       vhigh     2       2           med    med      unacc"
      ]
     },
     "execution_count": 216,
     "metadata": {},
     "output_type": "execute_result"
    }
   ],
   "source": [
    "car.head()"
   ]
  },
  {
   "cell_type": "code",
   "execution_count": 217,
   "metadata": {},
   "outputs": [],
   "source": [
    "ord_mapper = {'vhigh':3, \n",
    "                'high':2,\n",
    "                'med':1,\n",
    "             'low':0}\n",
    "car['BuyingPrice_ord_coded'] = car['buying_price'].replace(ord_mapper)"
   ]
  },
  {
   "cell_type": "code",
   "execution_count": 218,
   "metadata": {},
   "outputs": [],
   "source": [
    "ord_mapper = {'vhigh':3, \n",
    "                'high':2,\n",
    "                'med':1,\n",
    "             'low':0}\n",
    "car['MaintPrice_ord_coded'] = car['maint_price'].replace(ord_mapper)"
   ]
  },
  {
   "cell_type": "code",
   "execution_count": 219,
   "metadata": {},
   "outputs": [],
   "source": [
    "ord_mapper = {'2':2,'3':3,'4':4,'5more':5}\n",
    "car['doors_ord_coded'] = car['doors'].replace(ord_mapper)"
   ]
  },
  {
   "cell_type": "code",
   "execution_count": 220,
   "metadata": {},
   "outputs": [],
   "source": [
    "ord_mapper = {'2':2,'4':4,'more':6}\n",
    "car['persons_ord_coded'] = car['persons'].replace(ord_mapper)"
   ]
  },
  {
   "cell_type": "code",
   "execution_count": 221,
   "metadata": {},
   "outputs": [],
   "source": [
    "ord_mapper = {'big':2,'med':1,'small':0}\n",
    "car['LugBootSize_ord_coded'] = car['lug_boot_size'].replace(ord_mapper)"
   ]
  },
  {
   "cell_type": "code",
   "execution_count": 222,
   "metadata": {},
   "outputs": [],
   "source": [
    "ord_mapper = {'high':2,'med':1,'low':0}\n",
    "car['Safety_ord_coded'] = car['safety'].replace(ord_mapper)"
   ]
  },
  {
   "cell_type": "code",
   "execution_count": 223,
   "metadata": {},
   "outputs": [
    {
     "name": "stdout",
     "output_type": "stream",
     "text": [
      "Index(['unacc', 'acc', 'vgood', 'good'], dtype='object')\n"
     ]
    },
    {
     "data": {
      "text/html": [
       "<div>\n",
       "<style scoped>\n",
       "    .dataframe tbody tr th:only-of-type {\n",
       "        vertical-align: middle;\n",
       "    }\n",
       "\n",
       "    .dataframe tbody tr th {\n",
       "        vertical-align: top;\n",
       "    }\n",
       "\n",
       "    .dataframe thead th {\n",
       "        text-align: right;\n",
       "    }\n",
       "</style>\n",
       "<table border=\"1\" class=\"dataframe\">\n",
       "  <thead>\n",
       "    <tr style=\"text-align: right;\">\n",
       "      <th></th>\n",
       "      <th>eval_class</th>\n",
       "      <th>evaluation</th>\n",
       "    </tr>\n",
       "  </thead>\n",
       "  <tbody>\n",
       "    <tr>\n",
       "      <th>0</th>\n",
       "      <td>unacc</td>\n",
       "      <td>0</td>\n",
       "    </tr>\n",
       "    <tr>\n",
       "      <th>1</th>\n",
       "      <td>unacc</td>\n",
       "      <td>0</td>\n",
       "    </tr>\n",
       "  </tbody>\n",
       "</table>\n",
       "</div>"
      ],
      "text/plain": [
       "  eval_class  evaluation\n",
       "0      unacc           0\n",
       "1      unacc           0"
      ]
     },
     "execution_count": 223,
     "metadata": {},
     "output_type": "execute_result"
    }
   ],
   "source": [
    "# Factorizing evaluation class for modelling purpose\n",
    "car['evaluation'],class_names = pd.factorize(car['eval_class'])\n",
    "print(class_names)\n",
    "car[['eval_class','evaluation']].head(n=2)"
   ]
  },
  {
   "cell_type": "code",
   "execution_count": 224,
   "metadata": {},
   "outputs": [
    {
     "data": {
      "text/plain": [
       "unacc    1210\n",
       "acc       384\n",
       "good       69\n",
       "vgood      65\n",
       "Name: eval_class, dtype: int64"
      ]
     },
     "execution_count": 224,
     "metadata": {},
     "output_type": "execute_result"
    }
   ],
   "source": [
    "# Checking for class imbalance\n",
    "car['eval_class'].value_counts()"
   ]
  },
  {
   "cell_type": "code",
   "execution_count": 228,
   "metadata": {},
   "outputs": [
    {
     "data": {
      "text/html": [
       "<div>\n",
       "<style scoped>\n",
       "    .dataframe tbody tr th:only-of-type {\n",
       "        vertical-align: middle;\n",
       "    }\n",
       "\n",
       "    .dataframe tbody tr th {\n",
       "        vertical-align: top;\n",
       "    }\n",
       "\n",
       "    .dataframe thead th {\n",
       "        text-align: right;\n",
       "    }\n",
       "</style>\n",
       "<table border=\"1\" class=\"dataframe\">\n",
       "  <thead>\n",
       "    <tr style=\"text-align: right;\">\n",
       "      <th></th>\n",
       "      <th>buying_price</th>\n",
       "      <th>maint_price</th>\n",
       "      <th>doors</th>\n",
       "      <th>persons</th>\n",
       "      <th>lug_boot_size</th>\n",
       "      <th>safety</th>\n",
       "      <th>eval_class</th>\n",
       "      <th>BuyingPrice_ord_coded</th>\n",
       "      <th>MaintPrice_ord_coded</th>\n",
       "      <th>doors_ord_coded</th>\n",
       "      <th>persons_ord_coded</th>\n",
       "      <th>LugBootSize_ord_coded</th>\n",
       "      <th>Safety_ord_coded</th>\n",
       "      <th>evaluation</th>\n",
       "    </tr>\n",
       "  </thead>\n",
       "  <tbody>\n",
       "    <tr>\n",
       "      <th>0</th>\n",
       "      <td>vhigh</td>\n",
       "      <td>vhigh</td>\n",
       "      <td>2</td>\n",
       "      <td>2</td>\n",
       "      <td>small</td>\n",
       "      <td>low</td>\n",
       "      <td>unacc</td>\n",
       "      <td>3</td>\n",
       "      <td>3</td>\n",
       "      <td>2</td>\n",
       "      <td>2</td>\n",
       "      <td>0</td>\n",
       "      <td>0</td>\n",
       "      <td>0</td>\n",
       "    </tr>\n",
       "    <tr>\n",
       "      <th>1</th>\n",
       "      <td>vhigh</td>\n",
       "      <td>vhigh</td>\n",
       "      <td>2</td>\n",
       "      <td>2</td>\n",
       "      <td>small</td>\n",
       "      <td>med</td>\n",
       "      <td>unacc</td>\n",
       "      <td>3</td>\n",
       "      <td>3</td>\n",
       "      <td>2</td>\n",
       "      <td>2</td>\n",
       "      <td>0</td>\n",
       "      <td>1</td>\n",
       "      <td>0</td>\n",
       "    </tr>\n",
       "  </tbody>\n",
       "</table>\n",
       "</div>"
      ],
      "text/plain": [
       "  buying_price maint_price doors persons lug_boot_size safety eval_class  \\\n",
       "0        vhigh       vhigh     2       2         small    low      unacc   \n",
       "1        vhigh       vhigh     2       2         small    med      unacc   \n",
       "\n",
       "   BuyingPrice_ord_coded  MaintPrice_ord_coded  doors_ord_coded  \\\n",
       "0                      3                     3                2   \n",
       "1                      3                     3                2   \n",
       "\n",
       "   persons_ord_coded  LugBootSize_ord_coded  Safety_ord_coded  evaluation  \n",
       "0                  2                      0                 0           0  \n",
       "1                  2                      0                 1           0  "
      ]
     },
     "execution_count": 228,
     "metadata": {},
     "output_type": "execute_result"
    }
   ],
   "source": [
    "car.head(n=2)"
   ]
  },
  {
   "cell_type": "code",
   "execution_count": 226,
   "metadata": {},
   "outputs": [],
   "source": [
    "car_ord_coded = car.iloc[:,7:14]"
   ]
  },
  {
   "cell_type": "code",
   "execution_count": 229,
   "metadata": {},
   "outputs": [
    {
     "data": {
      "text/html": [
       "<div>\n",
       "<style scoped>\n",
       "    .dataframe tbody tr th:only-of-type {\n",
       "        vertical-align: middle;\n",
       "    }\n",
       "\n",
       "    .dataframe tbody tr th {\n",
       "        vertical-align: top;\n",
       "    }\n",
       "\n",
       "    .dataframe thead th {\n",
       "        text-align: right;\n",
       "    }\n",
       "</style>\n",
       "<table border=\"1\" class=\"dataframe\">\n",
       "  <thead>\n",
       "    <tr style=\"text-align: right;\">\n",
       "      <th></th>\n",
       "      <th>BuyingPrice_ord_coded</th>\n",
       "      <th>MaintPrice_ord_coded</th>\n",
       "      <th>doors_ord_coded</th>\n",
       "      <th>persons_ord_coded</th>\n",
       "      <th>LugBootSize_ord_coded</th>\n",
       "      <th>Safety_ord_coded</th>\n",
       "      <th>evaluation</th>\n",
       "    </tr>\n",
       "  </thead>\n",
       "  <tbody>\n",
       "    <tr>\n",
       "      <th>0</th>\n",
       "      <td>3</td>\n",
       "      <td>3</td>\n",
       "      <td>2</td>\n",
       "      <td>2</td>\n",
       "      <td>0</td>\n",
       "      <td>0</td>\n",
       "      <td>0</td>\n",
       "    </tr>\n",
       "    <tr>\n",
       "      <th>1</th>\n",
       "      <td>3</td>\n",
       "      <td>3</td>\n",
       "      <td>2</td>\n",
       "      <td>2</td>\n",
       "      <td>0</td>\n",
       "      <td>1</td>\n",
       "      <td>0</td>\n",
       "    </tr>\n",
       "  </tbody>\n",
       "</table>\n",
       "</div>"
      ],
      "text/plain": [
       "   BuyingPrice_ord_coded  MaintPrice_ord_coded  doors_ord_coded  \\\n",
       "0                      3                     3                2   \n",
       "1                      3                     3                2   \n",
       "\n",
       "   persons_ord_coded  LugBootSize_ord_coded  Safety_ord_coded  evaluation  \n",
       "0                  2                      0                 0           0  \n",
       "1                  2                      0                 1           0  "
      ]
     },
     "execution_count": 229,
     "metadata": {},
     "output_type": "execute_result"
    }
   ],
   "source": [
    "car_ord_coded.head(n=2)"
   ]
  },
  {
   "cell_type": "code",
   "execution_count": 230,
   "metadata": {},
   "outputs": [],
   "source": [
    "car_category = car.iloc[:,[0,1,2,3,4,5,13]]"
   ]
  },
  {
   "cell_type": "code",
   "execution_count": 232,
   "metadata": {},
   "outputs": [
    {
     "data": {
      "text/html": [
       "<div>\n",
       "<style scoped>\n",
       "    .dataframe tbody tr th:only-of-type {\n",
       "        vertical-align: middle;\n",
       "    }\n",
       "\n",
       "    .dataframe tbody tr th {\n",
       "        vertical-align: top;\n",
       "    }\n",
       "\n",
       "    .dataframe thead th {\n",
       "        text-align: right;\n",
       "    }\n",
       "</style>\n",
       "<table border=\"1\" class=\"dataframe\">\n",
       "  <thead>\n",
       "    <tr style=\"text-align: right;\">\n",
       "      <th></th>\n",
       "      <th>buying_price</th>\n",
       "      <th>maint_price</th>\n",
       "      <th>doors</th>\n",
       "      <th>persons</th>\n",
       "      <th>lug_boot_size</th>\n",
       "      <th>safety</th>\n",
       "      <th>evaluation</th>\n",
       "    </tr>\n",
       "  </thead>\n",
       "  <tbody>\n",
       "    <tr>\n",
       "      <th>0</th>\n",
       "      <td>vhigh</td>\n",
       "      <td>vhigh</td>\n",
       "      <td>2</td>\n",
       "      <td>2</td>\n",
       "      <td>small</td>\n",
       "      <td>low</td>\n",
       "      <td>0</td>\n",
       "    </tr>\n",
       "    <tr>\n",
       "      <th>1</th>\n",
       "      <td>vhigh</td>\n",
       "      <td>vhigh</td>\n",
       "      <td>2</td>\n",
       "      <td>2</td>\n",
       "      <td>small</td>\n",
       "      <td>med</td>\n",
       "      <td>0</td>\n",
       "    </tr>\n",
       "  </tbody>\n",
       "</table>\n",
       "</div>"
      ],
      "text/plain": [
       "  buying_price maint_price doors persons lug_boot_size safety  evaluation\n",
       "0        vhigh       vhigh     2       2         small    low           0\n",
       "1        vhigh       vhigh     2       2         small    med           0"
      ]
     },
     "execution_count": 232,
     "metadata": {},
     "output_type": "execute_result"
    }
   ],
   "source": [
    "car_category.head(n=2)"
   ]
  },
  {
   "cell_type": "code",
   "execution_count": 233,
   "metadata": {},
   "outputs": [],
   "source": [
    "#car_ohe = pd.get_dummies(car_ohe,columns=['buying_price','maint_price','doors','persons','lug_boot_size','safety'])\n",
    "\n",
    "\n",
    "car_category['buying_price'] = pd.factorize(car_category.iloc[:,0])[0]\n",
    "car_category['maint_price'] = pd.factorize(car_category.iloc[:,1])[0]\n",
    "car_category['doors'] = pd.factorize(car_category.iloc[:,2])[0]\n",
    "car_category['persons'] = pd.factorize(car_category.iloc[:,3])[0]\n",
    "car_category['lug_boot_size'] = pd.factorize(car_category.iloc[:,4])[0]\n",
    "car_category['safety'] = pd.factorize(car_category.iloc[:,5])[0]"
   ]
  },
  {
   "cell_type": "code",
   "execution_count": 234,
   "metadata": {},
   "outputs": [
    {
     "data": {
      "text/html": [
       "<div>\n",
       "<style scoped>\n",
       "    .dataframe tbody tr th:only-of-type {\n",
       "        vertical-align: middle;\n",
       "    }\n",
       "\n",
       "    .dataframe tbody tr th {\n",
       "        vertical-align: top;\n",
       "    }\n",
       "\n",
       "    .dataframe thead th {\n",
       "        text-align: right;\n",
       "    }\n",
       "</style>\n",
       "<table border=\"1\" class=\"dataframe\">\n",
       "  <thead>\n",
       "    <tr style=\"text-align: right;\">\n",
       "      <th></th>\n",
       "      <th>buying_price</th>\n",
       "      <th>maint_price</th>\n",
       "      <th>doors</th>\n",
       "      <th>persons</th>\n",
       "      <th>lug_boot_size</th>\n",
       "      <th>safety</th>\n",
       "      <th>evaluation</th>\n",
       "    </tr>\n",
       "  </thead>\n",
       "  <tbody>\n",
       "    <tr>\n",
       "      <th>0</th>\n",
       "      <td>0</td>\n",
       "      <td>0</td>\n",
       "      <td>0</td>\n",
       "      <td>0</td>\n",
       "      <td>0</td>\n",
       "      <td>0</td>\n",
       "      <td>0</td>\n",
       "    </tr>\n",
       "    <tr>\n",
       "      <th>1</th>\n",
       "      <td>0</td>\n",
       "      <td>0</td>\n",
       "      <td>0</td>\n",
       "      <td>0</td>\n",
       "      <td>0</td>\n",
       "      <td>1</td>\n",
       "      <td>0</td>\n",
       "    </tr>\n",
       "  </tbody>\n",
       "</table>\n",
       "</div>"
      ],
      "text/plain": [
       "   buying_price  maint_price  doors  persons  lug_boot_size  safety  \\\n",
       "0             0            0      0        0              0       0   \n",
       "1             0            0      0        0              0       1   \n",
       "\n",
       "   evaluation  \n",
       "0           0  \n",
       "1           0  "
      ]
     },
     "execution_count": 234,
     "metadata": {},
     "output_type": "execute_result"
    }
   ],
   "source": [
    "car_category.head(n=2)"
   ]
  },
  {
   "cell_type": "markdown",
   "metadata": {},
   "source": [
    "# Considering Ordinal variables as categorical"
   ]
  },
  {
   "cell_type": "markdown",
   "metadata": {},
   "source": [
    "##### Creating the Train and Test data"
   ]
  },
  {
   "cell_type": "code",
   "execution_count": 280,
   "metadata": {},
   "outputs": [],
   "source": [
    "X_df = car_category.iloc[:,0:6]\n",
    "y_df = car_category.iloc[:,6:]"
   ]
  },
  {
   "cell_type": "code",
   "execution_count": 281,
   "metadata": {},
   "outputs": [],
   "source": [
    "X_train, X_test_holdout, y_train, y_test_holdout = train_test_split(X_df, y_df, test_size=0.25)"
   ]
  },
  {
   "cell_type": "markdown",
   "metadata": {},
   "source": [
    "### Decision Tree"
   ]
  },
  {
   "cell_type": "markdown",
   "metadata": {},
   "source": [
    "###### Tuning the model using GridSearch Cross Validation to find the values of hyperparameters that best fit the model"
   ]
  },
  {
   "cell_type": "code",
   "execution_count": 282,
   "metadata": {},
   "outputs": [
    {
     "data": {
      "text/plain": [
       "GridSearchCV(cv=5, error_score='raise-deprecating',\n",
       "       estimator=DecisionTreeClassifier(class_weight=None, criterion='gini', max_depth=None,\n",
       "            max_features=None, max_leaf_nodes=None,\n",
       "            min_impurity_decrease=0.0, min_impurity_split=None,\n",
       "            min_samples_leaf=1, min_samples_split=2,\n",
       "            min_weight_fraction_leaf=0.0, presort=False, random_state=None,\n",
       "            splitter='best'),\n",
       "       fit_params=None, iid='warn', n_jobs=None,\n",
       "       param_grid={'max_depth': range(1, 20), 'min_samples_split': range(3, 30), 'criterion': ['gini', 'entropy']},\n",
       "       pre_dispatch='2*n_jobs', refit=True, return_train_score='warn',\n",
       "       scoring='accuracy', verbose=0)"
      ]
     },
     "execution_count": 282,
     "metadata": {},
     "output_type": "execute_result"
    }
   ],
   "source": [
    "# Hyper parameter tuning using GridSearch\n",
    "param_set ={'max_depth': range(1,20), 'min_samples_split' : range(3,30), 'criterion' : [\"gini\", \"entropy\"]}\n",
    "clf_DTree = tree.DecisionTreeClassifier()\n",
    "grid_DTree = GridSearchCV(clf_DTree, param_grid = param_set, cv=5, scoring='accuracy')\n",
    "grid_DTree.fit(X_train,y_train)"
   ]
  },
  {
   "cell_type": "markdown",
   "metadata": {},
   "source": [
    "##### Examining the best model"
   ]
  },
  {
   "cell_type": "code",
   "execution_count": 283,
   "metadata": {},
   "outputs": [
    {
     "name": "stdout",
     "output_type": "stream",
     "text": [
      "Best score achieved across all parameters:  0.9683641975308642\n",
      " \n",
      "Best parameters\n",
      "{'criterion': 'entropy', 'max_depth': 19, 'min_samples_split': 3}\n",
      " \n",
      "Best estimator\n",
      "DecisionTreeClassifier(class_weight=None, criterion='entropy', max_depth=19,\n",
      "            max_features=None, max_leaf_nodes=None,\n",
      "            min_impurity_decrease=0.0, min_impurity_split=None,\n",
      "            min_samples_leaf=1, min_samples_split=3,\n",
      "            min_weight_fraction_leaf=0.0, presort=False, random_state=None,\n",
      "            splitter='best')\n"
     ]
    }
   ],
   "source": [
    "# examine the best model\n",
    "\n",
    "print(\"Best score achieved across all parameters: \", grid_DTree.best_score_)\n",
    "\n",
    "# Dictionary containing the parameters used to generate that score\n",
    "print(\" \")\n",
    "print(\"Best parameters\")\n",
    "print(grid_DTree.best_params_)\n",
    "\n",
    "print(\" \")\n",
    "print(\"Best estimator\")\n",
    "print(grid_DTree.best_estimator_)"
   ]
  },
  {
   "cell_type": "markdown",
   "metadata": {},
   "source": [
    "##### cross - validation with the best hyperparameters"
   ]
  },
  {
   "cell_type": "code",
   "execution_count": 284,
   "metadata": {},
   "outputs": [
    {
     "name": "stdout",
     "output_type": "stream",
     "text": [
      "Below are the scores for each model run\n",
      "[0.96934866 0.98084291 0.96138996 0.93410853 0.97276265]\n",
      " \n",
      "Mean Accuracy and variance: 0.96 (+/- 0.03)\n"
     ]
    }
   ],
   "source": [
    "clf_Dtree_best = grid_DTree.best_estimator_\n",
    "\n",
    "scores = cross_val_score(clf_Dtree_best, X_train, y_train, cv=5)\n",
    "\n",
    "print(\"Below are the scores for each model run\")\n",
    "print(scores)\n",
    "\n",
    "print(\" \")\n",
    "print(\"Mean Accuracy and variance: %0.2f (+/- %0.2f)\" % (scores.mean(), scores.std() * 2))"
   ]
  },
  {
   "cell_type": "markdown",
   "metadata": {},
   "source": [
    "##### Fitting the Train data and Prediction on test data"
   ]
  },
  {
   "cell_type": "code",
   "execution_count": 285,
   "metadata": {},
   "outputs": [
    {
     "name": "stdout",
     "output_type": "stream",
     "text": [
      "Decision Tree : accuracy on test data is  97.69 %\n",
      " \n",
      "Decision Tree : Confusion Matrix\n",
      " \n",
      "[[313   0   0   0]\n",
      " [  7  87   0   2]\n",
      " [  0   0  16   0]\n",
      " [  0   1   0   6]]\n",
      " \n",
      "Decision Tree : Classification Report\n",
      "              precision    recall  f1-score   support\n",
      "\n",
      "           0       0.98      1.00      0.99       313\n",
      "           1       0.99      0.91      0.95        96\n",
      "           2       1.00      1.00      1.00        16\n",
      "           3       0.75      0.86      0.80         7\n",
      "\n",
      "   micro avg       0.98      0.98      0.98       432\n",
      "   macro avg       0.93      0.94      0.93       432\n",
      "weighted avg       0.98      0.98      0.98       432\n",
      "\n"
     ]
    }
   ],
   "source": [
    "clf_Dtree_best.fit(X_train,y_train)\n",
    "\n",
    "y_pred = clf_Dtree_best.predict(X_test_holdout)\n",
    "print(\"Decision Tree : accuracy on test data is \",round(accuracy_score(y_test_holdout, y_pred)*100,2),\"%\")\n",
    "print(\" \")\n",
    "print(\"Decision Tree : Confusion Matrix\")\n",
    "print(\" \")\n",
    "print(confusion_matrix(y_test_holdout, y_pred))\n",
    "print(\" \")\n",
    "print(\"Decision Tree : Classification Report\")\n",
    "print(classification_report(y_test_holdout, y_pred))"
   ]
  },
  {
   "cell_type": "markdown",
   "metadata": {},
   "source": [
    "##### ROC curve and Area Under the Curve"
   ]
  },
  {
   "cell_type": "code",
   "execution_count": 286,
   "metadata": {},
   "outputs": [
    {
     "data": {
      "image/png": "[encoded data removed]",
      "text/plain": [
       "<Figure size 432x288 with 1 Axes>"
      ]
     },
     "metadata": {
      "needs_background": "light"
     },
     "output_type": "display_data"
    }
   ],
   "source": [
    "y_probas =  clf_Dtree_best.predict_proba(X_test_holdout) # predicted probabilities generated by classifier\n",
    "sckplt.metrics.plot_roc_curve(y_test_holdout, y_probas)\n",
    "plt.show()"
   ]
  },
  {
   "cell_type": "markdown",
   "metadata": {},
   "source": [
    "### Logistic Regression"
   ]
  },
  {
   "cell_type": "code",
   "execution_count": 287,
   "metadata": {},
   "outputs": [
    {
     "data": {
      "text/plain": [
       "GridSearchCV(cv=5, error_score='raise-deprecating',\n",
       "       estimator=LogisticRegression(C=1.0, class_weight=None, dual=False, fit_intercept=True,\n",
       "          intercept_scaling=1, max_iter=100, multi_class='warn',\n",
       "          n_jobs=None, penalty='l2', random_state=None, solver='warn',\n",
       "          tol=0.0001, verbose=0, warm_start=False),\n",
       "       fit_params=None, iid='warn', n_jobs=None,\n",
       "       param_grid={'multi_class': ['multinomial'], 'C': array([0.2, 0.3, 0.4, 0.5, 0.6, 0.7, 0.8, 0.9]), 'class_weight': [None, 'balanced'], 'solver': ['newton-cg', 'lbfgs', 'sag', 'saga']},\n",
       "       pre_dispatch='2*n_jobs', refit=True, return_train_score='warn',\n",
       "       scoring='accuracy', verbose=0)"
      ]
     },
     "execution_count": 287,
     "metadata": {},
     "output_type": "execute_result"
    }
   ],
   "source": [
    "param_set ={'multi_class' : ['multinomial'], 'C':np.arange(0.2,1,0.1),\n",
    "            'class_weight': [None, 'balanced'], 'solver': ['newton-cg', 'lbfgs','sag','saga']}\n",
    "\n",
    "clf_logistic = linear_model.LogisticRegression()\n",
    "\n",
    "grid_logistic = GridSearchCV(clf_logistic, param_grid = param_set, cv=5, scoring='accuracy')\n",
    "grid_logistic.fit(X_train,y_train)"
   ]
  },
  {
   "cell_type": "code",
   "execution_count": 288,
   "metadata": {},
   "outputs": [
    {
     "name": "stdout",
     "output_type": "stream",
     "text": [
      "Best score achieved across all parameters:  0.8341049382716049\n",
      " \n",
      "Best parameters\n",
      "{'C': 0.9000000000000001, 'class_weight': None, 'multi_class': 'multinomial', 'solver': 'newton-cg'}\n",
      " \n",
      "Best estimator\n",
      "LogisticRegression(C=0.9000000000000001, class_weight=None, dual=False,\n",
      "          fit_intercept=True, intercept_scaling=1, max_iter=100,\n",
      "          multi_class='multinomial', n_jobs=None, penalty='l2',\n",
      "          random_state=None, solver='newton-cg', tol=0.0001, verbose=0,\n",
      "          warm_start=False)\n"
     ]
    }
   ],
   "source": [
    "# Single best score achieved across all params\n",
    "print(\"Best score achieved across all parameters: \", grid_logistic.best_score_)\n",
    "\n",
    "# Dictionary containing the parameters used to generate that score\n",
    "print(\" \")\n",
    "print(\"Best parameters\")\n",
    "print(grid_logistic.best_params_)\n",
    "\n",
    "# Actual model object fit with those best parameters\n",
    "# Shows default parameters that we did not specify\n",
    "print(\" \")\n",
    "print(\"Best estimator\")\n",
    "print(grid_logistic.best_estimator_)"
   ]
  },
  {
   "cell_type": "code",
   "execution_count": 289,
   "metadata": {},
   "outputs": [
    {
     "name": "stdout",
     "output_type": "stream",
     "text": [
      "Below are the scores for each model run\n",
      "[0.83141762 0.86206897 0.8030888  0.8255814  0.84824903]\n",
      " \n",
      "Mean Accuracy and variance: 0.83 (+/- 0.04)\n"
     ]
    }
   ],
   "source": [
    "clf_logistic_best = grid_logistic.best_estimator_\n",
    "\n",
    "scores = cross_val_score(clf_logistic_best, X_train, y_train, cv=5)\n",
    "\n",
    "print(\"Below are the scores for each model run\")\n",
    "print(scores)\n",
    "\n",
    "print(\" \")\n",
    "print(\"Mean Accuracy and variance: %0.2f (+/- %0.2f)\" % (scores.mean(), scores.std() * 2))"
   ]
  },
  {
   "cell_type": "code",
   "execution_count": 290,
   "metadata": {},
   "outputs": [
    {
     "name": "stdout",
     "output_type": "stream",
     "text": [
      "Logistic Regression : accuracy on test data is  81.48 %\n",
      " \n",
      "Logistic Regression : Confusion Matrix\n",
      " \n",
      "[[280  24   4   5]\n",
      " [ 37  57   1   1]\n",
      " [  0   4  11   1]\n",
      " [  0   3   0   4]]\n",
      " \n",
      "Logistic Regression : Classification Report\n",
      "              precision    recall  f1-score   support\n",
      "\n",
      "           0       0.88      0.89      0.89       313\n",
      "           1       0.65      0.59      0.62        96\n",
      "           2       0.69      0.69      0.69        16\n",
      "           3       0.36      0.57      0.44         7\n",
      "\n",
      "   micro avg       0.81      0.81      0.81       432\n",
      "   macro avg       0.65      0.69      0.66       432\n",
      "weighted avg       0.82      0.81      0.81       432\n",
      "\n"
     ]
    }
   ],
   "source": [
    "clf_logistic_best.fit(X_train,y_train)\n",
    "\n",
    "y_pred = clf_logistic_best.predict(X_test_holdout)\n",
    "\n",
    "print(\"Logistic Regression : accuracy on test data is \",round(accuracy_score(y_test_holdout, y_pred)*100,2),\"%\")\n",
    "print(\" \")\n",
    "print(\"Logistic Regression : Confusion Matrix\")\n",
    "print(\" \")\n",
    "print(confusion_matrix(y_test_holdout, y_pred))\n",
    "print(\" \")\n",
    "print(\"Logistic Regression : Classification Report\")\n",
    "print(classification_report(y_test_holdout, y_pred))"
   ]
  },
  {
   "cell_type": "code",
   "execution_count": 291,
   "metadata": {},
   "outputs": [
    {
     "data": {
      "image/png": "[encoded data removed]",
      "text/plain": [
       "<Figure size 432x288 with 1 Axes>"
      ]
     },
     "metadata": {
      "needs_background": "light"
     },
     "output_type": "display_data"
    }
   ],
   "source": [
    "y_probas =  clf_logistic_best.predict_proba(X_test_holdout) # predicted probabilities generated by classifier\n",
    "sckplt.metrics.plot_roc_curve(y_test_holdout, y_probas)\n",
    "plt.show()"
   ]
  },
  {
   "cell_type": "markdown",
   "metadata": {},
   "source": [
    "### KNN"
   ]
  },
  {
   "cell_type": "code",
   "execution_count": 292,
   "metadata": {},
   "outputs": [],
   "source": [
    "scaler = MinMaxScaler(feature_range=(0, 1))"
   ]
  },
  {
   "cell_type": "code",
   "execution_count": 293,
   "metadata": {},
   "outputs": [],
   "source": [
    "x_train_scaled = scaler.fit_transform(X_train)\n",
    "x_train_scaled = pd.DataFrame(x_train_scaled)\n",
    "\n",
    "x_test_scaled = scaler.fit_transform(X_test_holdout)\n",
    "x_test_scaled = pd.DataFrame(x_test_scaled)"
   ]
  },
  {
   "cell_type": "code",
   "execution_count": 294,
   "metadata": {},
   "outputs": [
    {
     "data": {
      "text/plain": [
       "GridSearchCV(cv=5, error_score='raise-deprecating',\n",
       "       estimator=KNeighborsClassifier(algorithm='auto', leaf_size=30, metric='minkowski',\n",
       "           metric_params=None, n_jobs=None, n_neighbors=5, p=2,\n",
       "           weights='uniform'),\n",
       "       fit_params=None, iid='warn', n_jobs=None,\n",
       "       param_grid={'n_neighbors': [1, 2, 3, 4, 5, 6, 7, 8, 9, 10, 11, 12, 13, 14, 15, 16, 17, 18, 19, 20, 21, 22, 23, 24, 25, 26, 27, 28, 29], 'weights': ['uniform', 'distance']},\n",
       "       pre_dispatch='2*n_jobs', refit=True, return_train_score='warn',\n",
       "       scoring='accuracy', verbose=0)"
      ]
     },
     "execution_count": 294,
     "metadata": {},
     "output_type": "execute_result"
    }
   ],
   "source": [
    "param_set ={'n_neighbors': list(range(1,30)), 'weights': [\"uniform\", \"distance\"]}\n",
    "\n",
    "clf_knn = neighbors.KNeighborsClassifier()\n",
    "\n",
    "grid_knn = GridSearchCV(clf_knn, param_grid = param_set, cv=5, scoring='accuracy')\n",
    "grid_knn.fit(x_train_scaled,y_train)"
   ]
  },
  {
   "cell_type": "code",
   "execution_count": 295,
   "metadata": {},
   "outputs": [
    {
     "name": "stdout",
     "output_type": "stream",
     "text": [
      "Best score achieved across all parameters:  0.9513888888888888\n",
      " \n",
      "Best parameters\n",
      "{'n_neighbors': 13, 'weights': 'distance'}\n",
      " \n",
      "Best estimator\n",
      "KNeighborsClassifier(algorithm='auto', leaf_size=30, metric='minkowski',\n",
      "           metric_params=None, n_jobs=None, n_neighbors=13, p=2,\n",
      "           weights='distance')\n"
     ]
    }
   ],
   "source": [
    "# Single best score achieved across all params\n",
    "print(\"Best score achieved across all parameters: \", grid_knn.best_score_)\n",
    "\n",
    "# Dictionary containing the parameters used to generate that score\n",
    "print(\" \")\n",
    "print(\"Best parameters\")\n",
    "print(grid_knn.best_params_)\n",
    "\n",
    "# Actual model object fit with those best parameters\n",
    "# Shows default parameters that we did not specify\n",
    "print(\" \")\n",
    "print(\"Best estimator\")\n",
    "print(grid_knn.best_estimator_)"
   ]
  },
  {
   "cell_type": "code",
   "execution_count": 296,
   "metadata": {},
   "outputs": [
    {
     "name": "stdout",
     "output_type": "stream",
     "text": [
      "Below are the scores for each model run\n",
      "[0.94656489 0.96183206 0.96153846 0.96923077 0.95384615 0.93846154\n",
      " 0.97692308 0.96124031 0.9609375  0.92125984]\n",
      " \n",
      "Mean Accuracy and variance: 0.96 (+/- 0.03)\n"
     ]
    }
   ],
   "source": [
    "clf_knn_best = grid_knn.best_estimator_\n",
    "\n",
    "scores = cross_val_score(clf_knn_best, x_train_scaled, y_train, cv=10)\n",
    "\n",
    "print(\"Below are the scores for each model run\")\n",
    "print(scores)\n",
    "\n",
    "print(\" \")\n",
    "print(\"Mean Accuracy and variance: %0.2f (+/- %0.2f)\" % (scores.mean(), scores.std() * 2))"
   ]
  },
  {
   "cell_type": "code",
   "execution_count": 297,
   "metadata": {},
   "outputs": [
    {
     "name": "stdout",
     "output_type": "stream",
     "text": [
      "KNN : accuracy on test data is  90.74 %\n",
      " \n",
      "KNN : Confusion Matrix\n",
      " \n",
      "[[309   3   0   1]\n",
      " [ 29  67   0   0]\n",
      " [  0   5   9   2]\n",
      " [  0   0   0   7]]\n",
      " \n",
      "KNN : Classification Report\n",
      "              precision    recall  f1-score   support\n",
      "\n",
      "           0       0.91      0.99      0.95       313\n",
      "           1       0.89      0.70      0.78        96\n",
      "           2       1.00      0.56      0.72        16\n",
      "           3       0.70      1.00      0.82         7\n",
      "\n",
      "   micro avg       0.91      0.91      0.91       432\n",
      "   macro avg       0.88      0.81      0.82       432\n",
      "weighted avg       0.91      0.91      0.90       432\n",
      "\n"
     ]
    }
   ],
   "source": [
    "clf_knn_best.fit(X_train,y_train)\n",
    "\n",
    "\n",
    "y_pred = clf_knn_best.predict(X_test_holdout)\n",
    "\n",
    "print(\"KNN : accuracy on test data is \",round(accuracy_score(y_test_holdout, y_pred)*100,2),\"%\")\n",
    "print(\" \")\n",
    "print(\"KNN : Confusion Matrix\")\n",
    "print(\" \")\n",
    "print(confusion_matrix(y_test_holdout, y_pred))\n",
    "print(\" \")\n",
    "print(\"KNN : Classification Report\")\n",
    "print(classification_report(y_test_holdout, y_pred))"
   ]
  },
  {
   "cell_type": "code",
   "execution_count": 298,
   "metadata": {},
   "outputs": [
    {
     "data": {
      "image/png": "[encoded data removed]",
      "text/plain": [
       "<Figure size 432x288 with 1 Axes>"
      ]
     },
     "metadata": {
      "needs_background": "light"
     },
     "output_type": "display_data"
    }
   ],
   "source": [
    "y_probas =  clf_knn_best.predict_proba(X_test_holdout) # predicted probabilities generated by classifier\n",
    "sckplt.metrics.plot_roc_curve(y_test_holdout, y_probas)\n",
    "plt.show()"
   ]
  },
  {
   "cell_type": "markdown",
   "metadata": {},
   "source": [
    "### Naive Bayes"
   ]
  },
  {
   "cell_type": "code",
   "execution_count": 299,
   "metadata": {},
   "outputs": [
    {
     "name": "stdout",
     "output_type": "stream",
     "text": [
      "Below are the scores for each model run\n",
      "[0.66666667 0.7164751  0.67567568 0.71705426 0.71984436]\n",
      " \n",
      "Mean Accuracy and variance: 0.70 (+/- 0.05)\n"
     ]
    }
   ],
   "source": [
    "clf_NB = naive_bayes.GaussianNB()\n",
    "\n",
    "scores = cross_val_score(clf_NB, X_train, y_train, cv=5)\n",
    "\n",
    "print(\"Below are the scores for each model run\")\n",
    "print(scores)\n",
    "\n",
    "print(\" \")\n",
    "print(\"Mean Accuracy and variance: %0.2f (+/- %0.2f)\" % (scores.mean(), scores.std() * 2))"
   ]
  },
  {
   "cell_type": "code",
   "execution_count": 300,
   "metadata": {},
   "outputs": [
    {
     "name": "stdout",
     "output_type": "stream",
     "text": [
      "Naive Bayes : accuracy on test data is  69.68 %\n",
      " \n",
      "Naive Bayes : Confusion Matrix\n",
      " \n",
      "[[269   9  35   0]\n",
      " [ 40  13  40   3]\n",
      " [  0   0  16   0]\n",
      " [  0   3   1   3]]\n",
      " \n",
      "Naive Bayes : Classification Report\n",
      "              precision    recall  f1-score   support\n",
      "\n",
      "           0       0.87      0.86      0.86       313\n",
      "           1       0.52      0.14      0.21        96\n",
      "           2       0.17      1.00      0.30        16\n",
      "           3       0.50      0.43      0.46         7\n",
      "\n",
      "   micro avg       0.70      0.70      0.70       432\n",
      "   macro avg       0.52      0.61      0.46       432\n",
      "weighted avg       0.76      0.70      0.69       432\n",
      "\n"
     ]
    }
   ],
   "source": [
    "clf_NB.fit(X_train,y_train)\n",
    "\n",
    "y_pred = clf_NB.predict(X_test_holdout)\n",
    "\n",
    "print(\"Naive Bayes : accuracy on test data is \",round(accuracy_score(y_test_holdout, y_pred)*100,2),\"%\")\n",
    "print(\" \")\n",
    "print(\"Naive Bayes : Confusion Matrix\")\n",
    "print(\" \")\n",
    "print(confusion_matrix(y_test_holdout, y_pred))\n",
    "print(\" \")\n",
    "print(\"Naive Bayes : Classification Report\")\n",
    "print(classification_report(y_test_holdout, y_pred))"
   ]
  },
  {
   "cell_type": "code",
   "execution_count": 301,
   "metadata": {},
   "outputs": [
    {
     "data": {
      "image/png": "[encoded data removed]",
      "text/plain": [
       "<Figure size 432x288 with 1 Axes>"
      ]
     },
     "metadata": {
      "needs_background": "light"
     },
     "output_type": "display_data"
    }
   ],
   "source": [
    "y_probas =  clf_NB.predict_proba(X_test_holdout) # predicted probabilities generated by classifier\n",
    "sckplt.metrics.plot_roc_curve(y_test_holdout, y_probas)\n",
    "plt.show()"
   ]
  },
  {
   "cell_type": "markdown",
   "metadata": {},
   "source": [
    "### SVM"
   ]
  },
  {
   "cell_type": "code",
   "execution_count": 302,
   "metadata": {},
   "outputs": [
    {
     "data": {
      "text/plain": [
       "GridSearchCV(cv=5, error_score='raise-deprecating',\n",
       "       estimator=SVC(C=1.0, cache_size=200, class_weight=None, coef0=0.0,\n",
       "  decision_function_shape='ovr', degree=3, gamma='auto_deprecated',\n",
       "  kernel='rbf', max_iter=-1, probability=True, random_state=None,\n",
       "  shrinking=True, tol=0.001, verbose=False),\n",
       "       fit_params=None, iid='warn', n_jobs=None,\n",
       "       param_grid=[{'kernel': ['rbf'], 'gamma': [0.001, 0.0001], 'C': [1, 2, 3, 4, 5, 10, 100], 'decision_function_shape': ['ovr', 'ovo']}, {'kernel': ['linear'], 'C': [1, 2, 3, 4, 5, 10, 100], 'decision_function_shape': ['ovr', 'ovo']}],\n",
       "       pre_dispatch='2*n_jobs', refit=True, return_train_score='warn',\n",
       "       scoring=None, verbose=0)"
      ]
     },
     "execution_count": 302,
     "metadata": {},
     "output_type": "execute_result"
    }
   ],
   "source": [
    "# Hyper parameter tuning using GridSearch\n",
    "param_set = [{'kernel': ['rbf'], 'gamma': [1e-3, 1e-4],\n",
    "                     'C': [1,2,3,4,5,10,100], 'decision_function_shape':['ovr','ovo']},\n",
    "                    {'kernel': ['linear'], 'C': [1,2,3,4,5,10,100], 'decision_function_shape':['ovr','ovo']}]\n",
    "clf_SVC = svm.SVC(probability=True)\n",
    "grid_SVC = GridSearchCV(clf_SVC, param_grid = param_set, cv=5)\n",
    "grid_SVC.fit(X_train,y_train)"
   ]
  },
  {
   "cell_type": "code",
   "execution_count": 303,
   "metadata": {},
   "outputs": [
    {
     "name": "stdout",
     "output_type": "stream",
     "text": [
      "Best score achieved across all parameters:  0.8634259259259259\n",
      " \n",
      "Best parameters\n",
      "{'C': 10, 'decision_function_shape': 'ovr', 'kernel': 'linear'}\n",
      " \n",
      "Best estimator\n",
      "SVC(C=10, cache_size=200, class_weight=None, coef0=0.0,\n",
      "  decision_function_shape='ovr', degree=3, gamma='auto_deprecated',\n",
      "  kernel='linear', max_iter=-1, probability=True, random_state=None,\n",
      "  shrinking=True, tol=0.001, verbose=False)\n"
     ]
    }
   ],
   "source": [
    "# examine the best model\n",
    "\n",
    "print(\"Best score achieved across all parameters: \", grid_SVC.best_score_)\n",
    "\n",
    "# Dictionary containing the parameters used to generate that score\n",
    "print(\" \")\n",
    "print(\"Best parameters\")\n",
    "print(grid_SVC.best_params_)\n",
    "\n",
    "print(\" \")\n",
    "print(\"Best estimator\")\n",
    "print(grid_SVC.best_estimator_)"
   ]
  },
  {
   "cell_type": "code",
   "execution_count": 304,
   "metadata": {},
   "outputs": [
    {
     "name": "stdout",
     "output_type": "stream",
     "text": [
      "Below are the scores for each model run\n",
      "[0.84732824 0.82442748 0.88461538 0.88461538 0.83846154 0.89230769\n",
      " 0.86923077 0.82170543 0.84375    0.88976378]\n",
      " \n",
      "Mean Accuracy and variance: 0.86 (+/- 0.05)\n"
     ]
    }
   ],
   "source": [
    "clf_SVC_best = grid_SVC.best_estimator_\n",
    "\n",
    "scores = cross_val_score(clf_SVC_best, X_train, y_train, cv=10)\n",
    "\n",
    "print(\"Below are the scores for each model run\")\n",
    "print(scores)\n",
    "\n",
    "print(\" \")\n",
    "print(\"Mean Accuracy and variance: %0.2f (+/- %0.2f)\" % (scores.mean(), scores.std() * 2))"
   ]
  },
  {
   "cell_type": "code",
   "execution_count": 305,
   "metadata": {},
   "outputs": [
    {
     "name": "stdout",
     "output_type": "stream",
     "text": [
      "SVC : accuracy on test data is  83.33 %\n",
      " \n",
      "SVC : Confusion Matrix\n",
      " \n",
      "[[283  22   4   4]\n",
      " [ 37  58   0   1]\n",
      " [  0   2  12   2]\n",
      " [  0   0   0   7]]\n",
      " \n",
      "SVC : Classification Report\n",
      "              precision    recall  f1-score   support\n",
      "\n",
      "           0       0.88      0.90      0.89       313\n",
      "           1       0.71      0.60      0.65        96\n",
      "           2       0.75      0.75      0.75        16\n",
      "           3       0.50      1.00      0.67         7\n",
      "\n",
      "   micro avg       0.83      0.83      0.83       432\n",
      "   macro avg       0.71      0.81      0.74       432\n",
      "weighted avg       0.83      0.83      0.83       432\n",
      "\n"
     ]
    }
   ],
   "source": [
    "clf_SVC_best.fit(X_train,y_train)\n",
    "\n",
    "y_pred = clf_SVC_best.predict(X_test_holdout)\n",
    "print(\"SVC : accuracy on test data is \",round(accuracy_score(y_test_holdout, y_pred)*100,2),\"%\")\n",
    "print(\" \")\n",
    "print(\"SVC : Confusion Matrix\")\n",
    "print(\" \")\n",
    "print(confusion_matrix(y_test_holdout, y_pred))\n",
    "print(\" \")\n",
    "print(\"SVC : Classification Report\")\n",
    "print(classification_report(y_test_holdout, y_pred))"
   ]
  },
  {
   "cell_type": "code",
   "execution_count": 306,
   "metadata": {},
   "outputs": [
    {
     "data": {
      "image/png": "[encoded data removed]",
      "text/plain": [
       "<Figure size 432x288 with 1 Axes>"
      ]
     },
     "metadata": {
      "needs_background": "light"
     },
     "output_type": "display_data"
    }
   ],
   "source": [
    "y_probas =  clf_SVC_best.predict_proba(X_test_holdout) # predicted probabilities generated by classifier\n",
    "sckplt.metrics.plot_roc_curve(y_test_holdout, y_probas)\n",
    "plt.show()"
   ]
  },
  {
   "cell_type": "code",
   "execution_count": null,
   "metadata": {},
   "outputs": [],
   "source": []
  }
 ],
 "metadata": {
  "kernelspec": {
   "display_name": "Python 3",
   "language": "python",
   "name": "python3"
  },
  "language_info": {
   "codemirror_mode": {
    "name": "ipython",
    "version": 3
   },
   "file_extension": ".py",
   "mimetype": "text/x-python",
   "name": "python",
   "nbconvert_exporter": "python",
   "pygments_lexer": "ipython3",
   "version": "3.7.3"
  }
 },
 "nbformat": 4,
 "nbformat_minor": 2
}
