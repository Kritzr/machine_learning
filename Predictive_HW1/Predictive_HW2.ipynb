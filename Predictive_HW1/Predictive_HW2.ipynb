{
 "cells": [
  {
   "cell_type": "code",
   "execution_count": 1,
   "metadata": {},
   "outputs": [],
   "source": [
    "# Importing packages\n",
    "import matplotlib.pyplot as plt\n",
    "import numpy as np\n",
    "import pandas as pd\n",
    "import os\n",
    "import warnings\n",
    "warnings.filterwarnings('ignore')\n",
    "\n",
    "from sklearn import tree, linear_model, neighbors, svm, naive_bayes\n",
    "from sklearn import metrics\n",
    "from sklearn.model_selection import cross_val_score, train_test_split, GridSearchCV\n",
    "from sklearn.metrics import classification_report, confusion_matrix, accuracy_score\n",
    "from sklearn.preprocessing import MinMaxScaler\n",
    "from sklearn.preprocessing import LabelEncoder\n",
    "import scikitplot as sckplt"
   ]
  },
  {
   "cell_type": "code",
   "execution_count": 2,
   "metadata": {},
   "outputs": [],
   "source": [
    "# setting OS directory\n",
    "os.chdir('C:\\\\Users\\\\rckar\\\\OneDrive\\\\Documents\\\\MSBA\\\\Fall Semester\\\\6420 Predictive Analytics\\\\HW2')"
   ]
  },
  {
   "cell_type": "markdown",
   "metadata": {},
   "source": [
    "# Q4. Predicting Breast Cancer by modelling on UCI Breast Cancer Dataset"
   ]
  },
  {
   "cell_type": "code",
   "execution_count": 3,
   "metadata": {},
   "outputs": [],
   "source": [
    "# Reading Data\n",
    "df = pd.read_csv(\"wdbc.data\", header = None)"
   ]
  },
  {
   "cell_type": "code",
   "execution_count": 4,
   "metadata": {},
   "outputs": [],
   "source": [
    "# Renaming column names\n",
    "col_names = ['id','diagnosis',\n",
    "                 'radius_mean','texture_mean','perimeter_mean','area_mean',\n",
    "                 'smoothness_mean','compactness_mean','concavity_mean',\n",
    "                 'concave points_mean','symmetry_mean','fractal_dimension_mean',\n",
    "                 'radius_se','texture_se','perimeter_se','area_se',\n",
    "                 'smoothness_se','compactness_se','concavity_se','concave points_se',\n",
    "                 'symmetry_se','fractal_dimension_se','radius_worst','texture_worst',\n",
    "                 'perimeter_worst','area_worst','smoothness_worst','compactness_worst',\n",
    "                 'concavity_worst','concave points_worst','symmetry_worst','fractal_dimension_worst']\n",
    "\n",
    "df.columns = col_names"
   ]
  },
  {
   "cell_type": "code",
   "execution_count": 5,
   "metadata": {},
   "outputs": [
    {
     "data": {
      "text/plain": [
       "False"
      ]
     },
     "execution_count": 5,
     "metadata": {},
     "output_type": "execute_result"
    }
   ],
   "source": [
    "# Data pre-processing\n",
    "\n",
    "# checking for null values\n",
    "df.isnull().values.any()"
   ]
  },
  {
   "cell_type": "code",
   "execution_count": 6,
   "metadata": {},
   "outputs": [
    {
     "name": "stdout",
     "output_type": "stream",
     "text": [
      "Index(['M', 'B'], dtype='object')\n"
     ]
    },
    {
     "data": {
      "text/html": [
       "<div>\n",
       "<style scoped>\n",
       "    .dataframe tbody tr th:only-of-type {\n",
       "        vertical-align: middle;\n",
       "    }\n",
       "\n",
       "    .dataframe tbody tr th {\n",
       "        vertical-align: top;\n",
       "    }\n",
       "\n",
       "    .dataframe thead th {\n",
       "        text-align: right;\n",
       "    }\n",
       "</style>\n",
       "<table border=\"1\" class=\"dataframe\">\n",
       "  <thead>\n",
       "    <tr style=\"text-align: right;\">\n",
       "      <th></th>\n",
       "      <th>diagnosis</th>\n",
       "      <th>diagnosis_class</th>\n",
       "    </tr>\n",
       "  </thead>\n",
       "  <tbody>\n",
       "    <tr>\n",
       "      <th>0</th>\n",
       "      <td>M</td>\n",
       "      <td>0</td>\n",
       "    </tr>\n",
       "    <tr>\n",
       "      <th>1</th>\n",
       "      <td>M</td>\n",
       "      <td>0</td>\n",
       "    </tr>\n",
       "  </tbody>\n",
       "</table>\n",
       "</div>"
      ],
      "text/plain": [
       "  diagnosis  diagnosis_class\n",
       "0         M                0\n",
       "1         M                0"
      ]
     },
     "execution_count": 6,
     "metadata": {},
     "output_type": "execute_result"
    }
   ],
   "source": [
    "# Factorizing diagnosis as diagnosis class for modelling purpose\n",
    "df['diagnosis_class'],class_names = pd.factorize(df['diagnosis'])\n",
    "print(class_names)\n",
    "df[['diagnosis','diagnosis_class']].head(n=2)"
   ]
  },
  {
   "cell_type": "code",
   "execution_count": 7,
   "metadata": {},
   "outputs": [
    {
     "data": {
      "text/plain": [
       "1    357\n",
       "0    212\n",
       "Name: diagnosis_class, dtype: int64"
      ]
     },
     "execution_count": 7,
     "metadata": {},
     "output_type": "execute_result"
    }
   ],
   "source": [
    "# Checking for class imbalance\n",
    "df['diagnosis_class'].value_counts()"
   ]
  },
  {
   "cell_type": "markdown",
   "metadata": {},
   "source": [
    "We do not observe heavy class imbalace in the dataset "
   ]
  },
  {
   "cell_type": "markdown",
   "metadata": {},
   "source": [
    "##### Creating the Train and Test data"
   ]
  },
  {
   "cell_type": "code",
   "execution_count": 8,
   "metadata": {},
   "outputs": [],
   "source": [
    "X_df = df.iloc[:,2:32]\n",
    "y_df = df.iloc[:,32:]"
   ]
  },
  {
   "cell_type": "code",
   "execution_count": 9,
   "metadata": {},
   "outputs": [],
   "source": [
    "X_train, X_test_holdout, y_train, y_test_holdout = train_test_split(X_df, y_df, test_size=0.25, \n",
    "                                                                    random_state=42, stratify=y_df['diagnosis_class'])"
   ]
  },
  {
   "cell_type": "markdown",
   "metadata": {},
   "source": [
    "## DECISION TREE"
   ]
  },
  {
   "cell_type": "markdown",
   "metadata": {},
   "source": [
    "###### Tuning the model using GridSearch Cross Validation to find the values of hyperparameters that best fit the model"
   ]
  },
  {
   "cell_type": "code",
   "execution_count": 10,
   "metadata": {},
   "outputs": [
    {
     "name": "stderr",
     "output_type": "stream",
     "text": [
      "C:\\Users\\rckar\\Anaconda3\\lib\\site-packages\\sklearn\\model_selection\\_search.py:841: DeprecationWarning: The default of the `iid` parameter will change from True to False in version 0.22 and will be removed in 0.24. This will change numeric results when test-set sizes are unequal.\n",
      "  DeprecationWarning)\n"
     ]
    },
    {
     "data": {
      "text/plain": [
       "GridSearchCV(cv=5, error_score='raise-deprecating',\n",
       "       estimator=DecisionTreeClassifier(class_weight=None, criterion='gini', max_depth=None,\n",
       "            max_features=None, max_leaf_nodes=None,\n",
       "            min_impurity_decrease=0.0, min_impurity_split=None,\n",
       "            min_samples_leaf=1, min_samples_split=2,\n",
       "            min_weight_fraction_leaf=0.0, presort=False, random_state=None,\n",
       "            splitter='best'),\n",
       "       fit_params=None, iid='warn', n_jobs=None,\n",
       "       param_grid={'max_depth': range(1, 20), 'min_samples_split': range(2, 30), 'criterion': ['gini', 'entropy']},\n",
       "       pre_dispatch='2*n_jobs', refit=True, return_train_score='warn',\n",
       "       scoring='recall', verbose=0)"
      ]
     },
     "execution_count": 10,
     "metadata": {},
     "output_type": "execute_result"
    }
   ],
   "source": [
    "# Hyper parameter tuning using GridSearch\n",
    "param_set ={'max_depth': range(1,20), 'min_samples_split' : range(2,30), 'criterion' : [\"gini\", \"entropy\"]}\n",
    "clf_DTree = tree.DecisionTreeClassifier()\n",
    "grid_DTree = GridSearchCV(clf_DTree, param_grid = param_set, cv=5, scoring='recall')\n",
    "grid_DTree.fit(X_train,y_train)"
   ]
  },
  {
   "cell_type": "markdown",
   "metadata": {},
   "source": [
    "##### Examining the best model"
   ]
  },
  {
   "cell_type": "code",
   "execution_count": 11,
   "metadata": {},
   "outputs": [
    {
     "name": "stdout",
     "output_type": "stream",
     "text": [
      "Best score achieved across all parameters:  0.9663290715642562\n",
      " \n",
      "Best parameters\n",
      "{'criterion': 'gini', 'max_depth': 16, 'min_samples_split': 5}\n",
      " \n",
      "Best estimator\n",
      "DecisionTreeClassifier(class_weight=None, criterion='gini', max_depth=16,\n",
      "            max_features=None, max_leaf_nodes=None,\n",
      "            min_impurity_decrease=0.0, min_impurity_split=None,\n",
      "            min_samples_leaf=1, min_samples_split=5,\n",
      "            min_weight_fraction_leaf=0.0, presort=False, random_state=None,\n",
      "            splitter='best')\n"
     ]
    }
   ],
   "source": [
    "# examine the best model\n",
    "\n",
    "print(\"Best score achieved across all parameters: \", grid_DTree.best_score_)\n",
    "\n",
    "# Dictionary containing the parameters used to generate that score\n",
    "print(\" \")\n",
    "print(\"Best parameters\")\n",
    "print(grid_DTree.best_params_)\n",
    "\n",
    "print(\" \")\n",
    "print(\"Best estimator\")\n",
    "print(grid_DTree.best_estimator_)"
   ]
  },
  {
   "cell_type": "markdown",
   "metadata": {},
   "source": [
    "##### cross - validation with the best hyperparameters"
   ]
  },
  {
   "cell_type": "code",
   "execution_count": 12,
   "metadata": {},
   "outputs": [
    {
     "name": "stdout",
     "output_type": "stream",
     "text": [
      "Below are the scores for each model run\n",
      "[0.88372093 0.93023256 0.97674419 0.93023256 0.93023256 0.88372093\n",
      " 0.97674419 0.88095238 1.         0.92682927]\n",
      " \n",
      "Mean Accuracy and variance: 0.93 (+/- 0.08)\n"
     ]
    }
   ],
   "source": [
    "clf_Dtree_best = grid_DTree.best_estimator_\n",
    "\n",
    "scores = cross_val_score(clf_Dtree_best, X_train, y_train, cv=10)\n",
    "\n",
    "print(\"Below are the scores for each model run\")\n",
    "print(scores)\n",
    "\n",
    "print(\" \")\n",
    "print(\"Mean Accuracy and variance: %0.2f (+/- %0.2f)\" % (scores.mean(), scores.std() * 2))"
   ]
  },
  {
   "cell_type": "markdown",
   "metadata": {},
   "source": [
    "##### Fitting the Train data and Prediction on test data"
   ]
  },
  {
   "cell_type": "code",
   "execution_count": 13,
   "metadata": {},
   "outputs": [
    {
     "name": "stdout",
     "output_type": "stream",
     "text": [
      "Decision Tree : accuracy on test data is  90.91 %\n",
      " \n",
      "Decision Tree : Confusion Matrix\n",
      " \n",
      "[[48  5]\n",
      " [ 8 82]]\n",
      " \n",
      "Decision Tree : Classification Report\n",
      "              precision    recall  f1-score   support\n",
      "\n",
      "           0       0.86      0.91      0.88        53\n",
      "           1       0.94      0.91      0.93        90\n",
      "\n",
      "   micro avg       0.91      0.91      0.91       143\n",
      "   macro avg       0.90      0.91      0.90       143\n",
      "weighted avg       0.91      0.91      0.91       143\n",
      "\n"
     ]
    }
   ],
   "source": [
    "clf_Dtree_best.fit(X_train,y_train)\n",
    "\n",
    "y_pred = clf_Dtree_best.predict(X_test_holdout)\n",
    "print(\"Decision Tree : accuracy on test data is \",round(accuracy_score(y_test_holdout, y_pred)*100,2),\"%\")\n",
    "print(\" \")\n",
    "print(\"Decision Tree : Confusion Matrix\")\n",
    "print(\" \")\n",
    "print(confusion_matrix(y_test_holdout, y_pred))\n",
    "print(\" \")\n",
    "print(\"Decision Tree : Classification Report\")\n",
    "print(classification_report(y_test_holdout, y_pred))"
   ]
  },
  {
   "cell_type": "markdown",
   "metadata": {},
   "source": [
    "##### ROC curve and Area Under the Curve"
   ]
  },
  {
   "cell_type": "code",
   "execution_count": 14,
   "metadata": {},
   "outputs": [
    {
     "name": "stderr",
     "output_type": "stream",
     "text": [
      "C:\\Users\\rckar\\Anaconda3\\lib\\site-packages\\sklearn\\utils\\deprecation.py:77: DeprecationWarning: Function plot_roc_curve is deprecated; This will be removed in v0.5.0. Please use scikitplot.metrics.plot_roc instead.\n",
      "  warnings.warn(msg, category=DeprecationWarning)\n"
     ]
    },
    {
     "data": {
      "image/png": "[encoded data removed]",
      "text/plain": [
       "<Figure size 432x288 with 1 Axes>"
      ]
     },
     "metadata": {
      "needs_background": "light"
     },
     "output_type": "display_data"
    }
   ],
   "source": [
    "y_probas =  clf_Dtree_best.predict_proba(X_test_holdout) # predicted probabilities generated by classifier\n",
    "sckplt.metrics.plot_roc_curve(y_test_holdout, y_probas)\n",
    "plt.show()"
   ]
  },
  {
   "cell_type": "markdown",
   "metadata": {},
   "source": [
    "##### Lift curve"
   ]
  },
  {
   "cell_type": "code",
   "execution_count": 15,
   "metadata": {},
   "outputs": [
    {
     "data": {
      "image/png": "[encoded data removed]",
      "text/plain": [
       "<Figure size 432x288 with 1 Axes>"
      ]
     },
     "metadata": {
      "needs_background": "light"
     },
     "output_type": "display_data"
    }
   ],
   "source": [
    "sckplt.metrics.plot_lift_curve(y_test_holdout, y_probas)\n",
    "plt.show()"
   ]
  },
  {
   "cell_type": "markdown",
   "metadata": {},
   "source": [
    "## Logistic Regression"
   ]
  },
  {
   "cell_type": "markdown",
   "metadata": {},
   "source": [
    "###### Tuning the model using GridSearch Cross Validation to find the values of hyperparameters that best fit the model"
   ]
  },
  {
   "cell_type": "code",
   "execution_count": 16,
   "metadata": {},
   "outputs": [
    {
     "data": {
      "text/plain": [
       "GridSearchCV(cv=5, error_score='raise-deprecating',\n",
       "       estimator=LogisticRegression(C=1.0, class_weight=None, dual=False, fit_intercept=True,\n",
       "          intercept_scaling=1, max_iter=100, multi_class='warn',\n",
       "          n_jobs=None, penalty='l2', random_state=None, solver='warn',\n",
       "          tol=0.0001, verbose=0, warm_start=False),\n",
       "       fit_params=None, iid='warn', n_jobs=None,\n",
       "       param_grid={'penalty': ['l1', 'l2'], 'C': array([0.2, 0.3, 0.4, 0.5, 0.6, 0.7, 0.8, 0.9]), 'class_weight': [None, 'balanced']},\n",
       "       pre_dispatch='2*n_jobs', refit=True, return_train_score='warn',\n",
       "       scoring='recall', verbose=0)"
      ]
     },
     "execution_count": 16,
     "metadata": {},
     "output_type": "execute_result"
    }
   ],
   "source": [
    "param_set ={'penalty' : [\"l1\",\"l2\"], 'C':np.arange(0.2,1,0.1), 'class_weight': [None, 'balanced']}\n",
    "\n",
    "clf_logistic = linear_model.LogisticRegression()\n",
    "\n",
    "grid_logistic = GridSearchCV(clf_logistic, param_grid = param_set, cv=5, scoring='recall')\n",
    "grid_logistic.fit(X_train,y_train)"
   ]
  },
  {
   "cell_type": "markdown",
   "metadata": {},
   "source": [
    "##### examine the best model"
   ]
  },
  {
   "cell_type": "code",
   "execution_count": 17,
   "metadata": {},
   "outputs": [
    {
     "name": "stdout",
     "output_type": "stream",
     "text": [
      "Best score achieved across all parameters:  0.9700232609259095\n",
      " \n",
      "Best parameters\n",
      "{'C': 0.8000000000000003, 'class_weight': None, 'penalty': 'l1'}\n",
      " \n",
      "Best estimator\n",
      "LogisticRegression(C=0.8000000000000003, class_weight=None, dual=False,\n",
      "          fit_intercept=True, intercept_scaling=1, max_iter=100,\n",
      "          multi_class='warn', n_jobs=None, penalty='l1', random_state=None,\n",
      "          solver='warn', tol=0.0001, verbose=0, warm_start=False)\n"
     ]
    }
   ],
   "source": [
    "# Single best score achieved across all params\n",
    "print(\"Best score achieved across all parameters: \", grid_logistic.best_score_)\n",
    "\n",
    "# Dictionary containing the parameters used to generate that score\n",
    "print(\" \")\n",
    "print(\"Best parameters\")\n",
    "print(grid_logistic.best_params_)\n",
    "\n",
    "# Actual model object fit with those best parameters\n",
    "# Shows default parameters that we did not specify\n",
    "print(\" \")\n",
    "print(\"Best estimator\")\n",
    "print(grid_logistic.best_estimator_)"
   ]
  },
  {
   "cell_type": "markdown",
   "metadata": {},
   "source": [
    "##### cross - validation with the best hyperparameters"
   ]
  },
  {
   "cell_type": "code",
   "execution_count": 18,
   "metadata": {},
   "outputs": [
    {
     "name": "stdout",
     "output_type": "stream",
     "text": [
      "Below are the scores for each model run\n",
      "[0.96511628 0.96511628 0.91764706 0.92941176 0.94047619]\n",
      " \n",
      "Mean Accuracy and variance: 0.94 (+/- 0.04)\n"
     ]
    }
   ],
   "source": [
    "clf_logistic_best = grid_logistic.best_estimator_\n",
    "\n",
    "scores = cross_val_score(clf_logistic_best, X_train, y_train, cv=5)\n",
    "\n",
    "print(\"Below are the scores for each model run\")\n",
    "print(scores)\n",
    "\n",
    "print(\" \")\n",
    "print(\"Mean Accuracy and variance: %0.2f (+/- %0.2f)\" % (scores.mean(), scores.std() * 2))"
   ]
  },
  {
   "cell_type": "markdown",
   "metadata": {},
   "source": [
    "##### Fitting the Train data and Prediction on test data"
   ]
  },
  {
   "cell_type": "code",
   "execution_count": 19,
   "metadata": {},
   "outputs": [
    {
     "name": "stdout",
     "output_type": "stream",
     "text": [
      "Logistic Regression : accuracy on test data is  95.8 %\n",
      " \n",
      "Logistic Regression : Confusion Matrix\n",
      " \n",
      "[[48  5]\n",
      " [ 1 89]]\n",
      " \n",
      "Logistic Regression : Classification Report\n",
      "              precision    recall  f1-score   support\n",
      "\n",
      "           0       0.98      0.91      0.94        53\n",
      "           1       0.95      0.99      0.97        90\n",
      "\n",
      "   micro avg       0.96      0.96      0.96       143\n",
      "   macro avg       0.96      0.95      0.95       143\n",
      "weighted avg       0.96      0.96      0.96       143\n",
      "\n"
     ]
    }
   ],
   "source": [
    "clf_logistic_best.fit(X_train,y_train)\n",
    "\n",
    "y_pred = clf_logistic_best.predict(X_test_holdout)\n",
    "\n",
    "print(\"Logistic Regression : accuracy on test data is \",round(accuracy_score(y_test_holdout, y_pred)*100,2),\"%\")\n",
    "print(\" \")\n",
    "print(\"Logistic Regression : Confusion Matrix\")\n",
    "print(\" \")\n",
    "print(confusion_matrix(y_test_holdout, y_pred))\n",
    "print(\" \")\n",
    "print(\"Logistic Regression : Classification Report\")\n",
    "print(classification_report(y_test_holdout, y_pred))"
   ]
  },
  {
   "cell_type": "markdown",
   "metadata": {},
   "source": [
    "##### ROC curve and Area Under the Curve"
   ]
  },
  {
   "cell_type": "code",
   "execution_count": 20,
   "metadata": {},
   "outputs": [
    {
     "name": "stderr",
     "output_type": "stream",
     "text": [
      "C:\\Users\\rckar\\Anaconda3\\lib\\site-packages\\sklearn\\utils\\deprecation.py:77: DeprecationWarning: Function plot_roc_curve is deprecated; This will be removed in v0.5.0. Please use scikitplot.metrics.plot_roc instead.\n",
      "  warnings.warn(msg, category=DeprecationWarning)\n"
     ]
    },
    {
     "data": {
      "image/png": "[encoded data removed]",
      "text/plain": [
       "<Figure size 432x288 with 1 Axes>"
      ]
     },
     "metadata": {
      "needs_background": "light"
     },
     "output_type": "display_data"
    }
   ],
   "source": [
    "y_probas =  clf_logistic_best.predict_proba(X_test_holdout) # predicted probabilities generated by classifier\n",
    "sckplt.metrics.plot_roc_curve(y_test_holdout, y_probas)\n",
    "plt.show()"
   ]
  },
  {
   "cell_type": "markdown",
   "metadata": {},
   "source": [
    "##### Lift Curve"
   ]
  },
  {
   "cell_type": "code",
   "execution_count": 21,
   "metadata": {},
   "outputs": [
    {
     "data": {
      "image/png": "[encoded data removed]",
      "text/plain": [
       "<Figure size 432x288 with 1 Axes>"
      ]
     },
     "metadata": {
      "needs_background": "light"
     },
     "output_type": "display_data"
    }
   ],
   "source": [
    "sckplt.metrics.plot_lift_curve(y_test_holdout, y_probas)\n",
    "plt.show()"
   ]
  },
  {
   "cell_type": "markdown",
   "metadata": {},
   "source": [
    "## KNN Classifier"
   ]
  },
  {
   "cell_type": "markdown",
   "metadata": {},
   "source": [
    "##### Normalizing the input parameters"
   ]
  },
  {
   "cell_type": "code",
   "execution_count": 22,
   "metadata": {},
   "outputs": [],
   "source": [
    "scaler = MinMaxScaler(feature_range=(0, 1))"
   ]
  },
  {
   "cell_type": "code",
   "execution_count": 23,
   "metadata": {},
   "outputs": [],
   "source": [
    "x_train_scaled = scaler.fit_transform(X_train)\n",
    "x_train_scaled = pd.DataFrame(x_train_scaled)\n",
    "\n",
    "x_test_scaled = scaler.fit_transform(X_test_holdout)\n",
    "x_test_scaled = pd.DataFrame(x_test_scaled)"
   ]
  },
  {
   "cell_type": "markdown",
   "metadata": {},
   "source": [
    "###### Tuning the model using GridSearch Cross Validation to find the values of hyperparameters that best fit the model"
   ]
  },
  {
   "cell_type": "code",
   "execution_count": 24,
   "metadata": {},
   "outputs": [
    {
     "data": {
      "text/plain": [
       "GridSearchCV(cv=5, error_score='raise-deprecating',\n",
       "       estimator=KNeighborsClassifier(algorithm='auto', leaf_size=30, metric='minkowski',\n",
       "           metric_params=None, n_jobs=None, n_neighbors=5, p=2,\n",
       "           weights='uniform'),\n",
       "       fit_params=None, iid='warn', n_jobs=None,\n",
       "       param_grid={'n_neighbors': [1, 2, 3, 4, 5, 6, 7, 8, 9, 10, 11, 12, 13, 14, 15, 16, 17, 18, 19, 20, 21, 22, 23, 24, 25, 26, 27, 28, 29], 'weights': ['uniform', 'distance']},\n",
       "       pre_dispatch='2*n_jobs', refit=True, return_train_score='warn',\n",
       "       scoring='recall', verbose=0)"
      ]
     },
     "execution_count": 24,
     "metadata": {},
     "output_type": "execute_result"
    }
   ],
   "source": [
    "param_set ={'n_neighbors': list(range(1,30)), 'weights': [\"uniform\", \"distance\"]}\n",
    "\n",
    "clf_knn = neighbors.KNeighborsClassifier()\n",
    "\n",
    "grid_knn = GridSearchCV(clf_knn, param_grid = param_set, cv=5, scoring='recall')\n",
    "grid_knn.fit(x_train_scaled,y_train)"
   ]
  },
  {
   "cell_type": "markdown",
   "metadata": {},
   "source": [
    "##### examine the best model"
   ]
  },
  {
   "cell_type": "code",
   "execution_count": 25,
   "metadata": {},
   "outputs": [
    {
     "name": "stdout",
     "output_type": "stream",
     "text": [
      "Best score achieved across all parameters:  0.9925148374523874\n",
      " \n",
      "Best parameters\n",
      "{'n_neighbors': 10, 'weights': 'distance'}\n",
      " \n",
      "Best estimator\n",
      "KNeighborsClassifier(algorithm='auto', leaf_size=30, metric='minkowski',\n",
      "           metric_params=None, n_jobs=None, n_neighbors=10, p=2,\n",
      "           weights='distance')\n"
     ]
    }
   ],
   "source": [
    "# Single best score achieved across all params\n",
    "print(\"Best score achieved across all parameters: \", grid_knn.best_score_)\n",
    "\n",
    "# Dictionary containing the parameters used to generate that score\n",
    "print(\" \")\n",
    "print(\"Best parameters\")\n",
    "print(grid_knn.best_params_)\n",
    "\n",
    "# Actual model object fit with those best parameters\n",
    "# Shows default parameters that we did not specify\n",
    "print(\" \")\n",
    "print(\"Best estimator\")\n",
    "print(grid_knn.best_estimator_)"
   ]
  },
  {
   "cell_type": "markdown",
   "metadata": {},
   "source": [
    "##### cross - validation with the best hyperparameters"
   ]
  },
  {
   "cell_type": "code",
   "execution_count": 26,
   "metadata": {},
   "outputs": [
    {
     "name": "stdout",
     "output_type": "stream",
     "text": [
      "Below are the scores for each model run\n",
      "[0.97674419 0.97674419 1.         1.         0.93023256 0.95348837\n",
      " 0.95348837 0.97619048 1.         0.95121951]\n",
      " \n",
      "Mean Accuracy and variance: 0.97 (+/- 0.05)\n"
     ]
    }
   ],
   "source": [
    "clf_knn_best = grid_knn.best_estimator_\n",
    "\n",
    "scores = cross_val_score(clf_knn_best, x_train_scaled, y_train, cv=10)\n",
    "\n",
    "print(\"Below are the scores for each model run\")\n",
    "print(scores)\n",
    "\n",
    "print(\" \")\n",
    "print(\"Mean Accuracy and variance: %0.2f (+/- %0.2f)\" % (scores.mean(), scores.std() * 2))"
   ]
  },
  {
   "cell_type": "markdown",
   "metadata": {},
   "source": [
    "##### Fitting the Train data and Prediction on test data"
   ]
  },
  {
   "cell_type": "code",
   "execution_count": 27,
   "metadata": {},
   "outputs": [
    {
     "name": "stdout",
     "output_type": "stream",
     "text": [
      "KNN : accuracy on test data is  95.1 %\n",
      " \n",
      "KNN : Confusion Matrix\n",
      " \n",
      "[[48  5]\n",
      " [ 2 88]]\n",
      " \n",
      "KNN : Classification Report\n",
      "              precision    recall  f1-score   support\n",
      "\n",
      "           0       0.96      0.91      0.93        53\n",
      "           1       0.95      0.98      0.96        90\n",
      "\n",
      "   micro avg       0.95      0.95      0.95       143\n",
      "   macro avg       0.95      0.94      0.95       143\n",
      "weighted avg       0.95      0.95      0.95       143\n",
      "\n"
     ]
    }
   ],
   "source": [
    "clf_knn_best.fit(X_train,y_train)\n",
    "\n",
    "\n",
    "y_pred = clf_knn_best.predict(X_test_holdout)\n",
    "\n",
    "print(\"KNN : accuracy on test data is \",round(accuracy_score(y_test_holdout, y_pred)*100,2),\"%\")\n",
    "print(\" \")\n",
    "print(\"KNN : Confusion Matrix\")\n",
    "print(\" \")\n",
    "print(confusion_matrix(y_test_holdout, y_pred))\n",
    "print(\" \")\n",
    "print(\"KNN : Classification Report\")\n",
    "print(classification_report(y_test_holdout, y_pred))"
   ]
  },
  {
   "cell_type": "markdown",
   "metadata": {},
   "source": [
    "##### ROC curve and Area Under the Curve"
   ]
  },
  {
   "cell_type": "code",
   "execution_count": 28,
   "metadata": {},
   "outputs": [
    {
     "name": "stderr",
     "output_type": "stream",
     "text": [
      "C:\\Users\\rckar\\Anaconda3\\lib\\site-packages\\sklearn\\utils\\deprecation.py:77: DeprecationWarning: Function plot_roc_curve is deprecated; This will be removed in v0.5.0. Please use scikitplot.metrics.plot_roc instead.\n",
      "  warnings.warn(msg, category=DeprecationWarning)\n"
     ]
    },
    {
     "data": {
      "image/png": "[encoded data removed]",
      "text/plain": [
       "<Figure size 432x288 with 1 Axes>"
      ]
     },
     "metadata": {
      "needs_background": "light"
     },
     "output_type": "display_data"
    }
   ],
   "source": [
    "y_probas =  clf_knn_best.predict_proba(X_test_holdout) # predicted probabilities generated by classifier\n",
    "sckplt.metrics.plot_roc_curve(y_test_holdout, y_probas)\n",
    "plt.show()"
   ]
  },
  {
   "cell_type": "markdown",
   "metadata": {},
   "source": [
    "##### Lift curve"
   ]
  },
  {
   "cell_type": "code",
   "execution_count": 29,
   "metadata": {},
   "outputs": [
    {
     "data": {
      "image/png": "[encoded data removed]",
      "text/plain": [
       "<Figure size 432x288 with 1 Axes>"
      ]
     },
     "metadata": {
      "needs_background": "light"
     },
     "output_type": "display_data"
    }
   ],
   "source": [
    "sckplt.metrics.plot_lift_curve(y_test_holdout, y_probas)\n",
    "plt.show()"
   ]
  },
  {
   "cell_type": "markdown",
   "metadata": {},
   "source": [
    "## SVM Classifier"
   ]
  },
  {
   "cell_type": "markdown",
   "metadata": {},
   "source": [
    "###### Tuning the model using GridSearch Cross Validation to find the values of hyperparameters that best fit the model"
   ]
  },
  {
   "cell_type": "code",
   "execution_count": 30,
   "metadata": {},
   "outputs": [
    {
     "data": {
      "text/plain": [
       "GridSearchCV(cv=5, error_score='raise-deprecating',\n",
       "       estimator=SVC(C=1.0, cache_size=200, class_weight=None, coef0=0.0,\n",
       "  decision_function_shape='ovr', degree=3, gamma='auto_deprecated',\n",
       "  kernel='rbf', max_iter=-1, probability=True, random_state=None,\n",
       "  shrinking=True, tol=0.001, verbose=False),\n",
       "       fit_params=None, iid='warn', n_jobs=None,\n",
       "       param_grid=[{'kernel': ['rbf'], 'gamma': [0.001, 0.0001], 'C': [1, 2, 3, 4, 5, 10, 100]}, {'kernel': ['linear'], 'C': [1, 2, 3, 5, 10, 100]}],\n",
       "       pre_dispatch='2*n_jobs', refit=True, return_train_score='warn',\n",
       "       scoring='recall', verbose=0)"
      ]
     },
     "execution_count": 30,
     "metadata": {},
     "output_type": "execute_result"
    }
   ],
   "source": [
    "# Hyper parameter tuning using GridSearch\n",
    "param_set = [{'kernel': ['rbf'], 'gamma': [1e-3, 1e-4],\n",
    "                     'C': [1,2,3,4,5,10,100]},\n",
    "                    {'kernel': ['linear'], 'C': [1,2,3,5,10,100]}]\n",
    "clf_SVC = svm.SVC(probability=True)\n",
    "grid_SVC = GridSearchCV(clf_SVC, param_grid = param_set, cv=5, scoring='recall')\n",
    "grid_SVC.fit(X_train,y_train)"
   ]
  },
  {
   "cell_type": "markdown",
   "metadata": {},
   "source": [
    "##### examine the best model"
   ]
  },
  {
   "cell_type": "code",
   "execution_count": 31,
   "metadata": {},
   "outputs": [
    {
     "name": "stdout",
     "output_type": "stream",
     "text": [
      "Best score achieved across all parameters:  0.9737354947293826\n",
      " \n",
      "Best parameters\n",
      "{'C': 5, 'kernel': 'linear'}\n",
      " \n",
      "Best estimator\n",
      "SVC(C=5, cache_size=200, class_weight=None, coef0=0.0,\n",
      "  decision_function_shape='ovr', degree=3, gamma='auto_deprecated',\n",
      "  kernel='linear', max_iter=-1, probability=True, random_state=None,\n",
      "  shrinking=True, tol=0.001, verbose=False)\n"
     ]
    }
   ],
   "source": [
    "print(\"Best score achieved across all parameters: \", grid_SVC.best_score_)\n",
    "\n",
    "# Dictionary containing the parameters used to generate that score\n",
    "print(\" \")\n",
    "print(\"Best parameters\")\n",
    "print(grid_SVC.best_params_)\n",
    "\n",
    "print(\" \")\n",
    "print(\"Best estimator\")\n",
    "print(grid_SVC.best_estimator_)"
   ]
  },
  {
   "cell_type": "markdown",
   "metadata": {},
   "source": [
    "##### cross - validation with the best hyperparameters"
   ]
  },
  {
   "cell_type": "code",
   "execution_count": 32,
   "metadata": {},
   "outputs": [
    {
     "name": "stdout",
     "output_type": "stream",
     "text": [
      "Below are the scores for each model run\n",
      "[0.95348837 0.96511628 0.94117647 0.94117647 0.96428571]\n",
      " \n",
      "Mean Accuracy and variance: 0.95 (+/- 0.02)\n"
     ]
    }
   ],
   "source": [
    "clf_SVC_best = grid_SVC.best_estimator_\n",
    "\n",
    "scores = cross_val_score(clf_SVC_best, X_train, y_train, cv=5)\n",
    "\n",
    "print(\"Below are the scores for each model run\")\n",
    "print(scores)\n",
    "\n",
    "print(\" \")\n",
    "print(\"Mean Accuracy and variance: %0.2f (+/- %0.2f)\" % (scores.mean(), scores.std() * 2))"
   ]
  },
  {
   "cell_type": "markdown",
   "metadata": {},
   "source": [
    "##### Fitting the Train data and Prediction on test data"
   ]
  },
  {
   "cell_type": "code",
   "execution_count": 33,
   "metadata": {},
   "outputs": [
    {
     "name": "stdout",
     "output_type": "stream",
     "text": [
      "SVC : accuracy on test data is  95.1 %\n",
      " \n",
      "SVC : Confusion Matrix\n",
      " \n",
      "[[47  6]\n",
      " [ 1 89]]\n",
      " \n",
      "SVC : Classification Report\n",
      "              precision    recall  f1-score   support\n",
      "\n",
      "           0       0.98      0.89      0.93        53\n",
      "           1       0.94      0.99      0.96        90\n",
      "\n",
      "   micro avg       0.95      0.95      0.95       143\n",
      "   macro avg       0.96      0.94      0.95       143\n",
      "weighted avg       0.95      0.95      0.95       143\n",
      "\n"
     ]
    }
   ],
   "source": [
    "clf_SVC_best.fit(X_train,y_train)\n",
    "\n",
    "y_pred = clf_SVC_best.predict(X_test_holdout)\n",
    "print(\"SVC : accuracy on test data is \",round(accuracy_score(y_test_holdout, y_pred)*100,2),\"%\")\n",
    "print(\" \")\n",
    "print(\"SVC : Confusion Matrix\")\n",
    "print(\" \")\n",
    "print(confusion_matrix(y_test_holdout, y_pred))\n",
    "print(\" \")\n",
    "print(\"SVC : Classification Report\")\n",
    "print(classification_report(y_test_holdout, y_pred))"
   ]
  },
  {
   "cell_type": "markdown",
   "metadata": {},
   "source": [
    "##### ROC curve and Area Under the Curve"
   ]
  },
  {
   "cell_type": "code",
   "execution_count": 34,
   "metadata": {},
   "outputs": [
    {
     "name": "stderr",
     "output_type": "stream",
     "text": [
      "C:\\Users\\rckar\\Anaconda3\\lib\\site-packages\\sklearn\\utils\\deprecation.py:77: DeprecationWarning: Function plot_roc_curve is deprecated; This will be removed in v0.5.0. Please use scikitplot.metrics.plot_roc instead.\n",
      "  warnings.warn(msg, category=DeprecationWarning)\n"
     ]
    },
    {
     "data": {
      "image/png": "[encoded data removed]",
      "text/plain": [
       "<Figure size 432x288 with 1 Axes>"
      ]
     },
     "metadata": {
      "needs_background": "light"
     },
     "output_type": "display_data"
    }
   ],
   "source": [
    "y_probas =  clf_SVC_best.predict_proba(X_test_holdout) # predicted probabilities generated by classifier\n",
    "sckplt.metrics.plot_roc_curve(y_test_holdout, y_probas)\n",
    "plt.show()"
   ]
  },
  {
   "cell_type": "markdown",
   "metadata": {},
   "source": [
    "##### Lift curve"
   ]
  },
  {
   "cell_type": "code",
   "execution_count": 35,
   "metadata": {},
   "outputs": [
    {
     "data": {
      "image/png": "[encoded data removed]",
      "text/plain": [
       "<Figure size 432x288 with 1 Axes>"
      ]
     },
     "metadata": {
      "needs_background": "light"
     },
     "output_type": "display_data"
    }
   ],
   "source": [
    "sckplt.metrics.plot_lift_curve(y_test_holdout, y_probas)\n",
    "plt.show()"
   ]
  },
  {
   "cell_type": "markdown",
   "metadata": {},
   "source": [
    "# Q5. Predicting the Evaluation of a car"
   ]
  },
  {
   "cell_type": "code",
   "execution_count": 36,
   "metadata": {},
   "outputs": [],
   "source": [
    "# Reading Data\n",
    "car = pd.read_csv(\"car.data\", header = None)"
   ]
  },
  {
   "cell_type": "code",
   "execution_count": 37,
   "metadata": {},
   "outputs": [],
   "source": [
    "# Renaming column names\n",
    "col_names = ['buying_price','maint_price',\n",
    "                 'doors','persons','lug_boot_size','safety',\n",
    "                 'eval_class']\n",
    "\n",
    "car.columns = col_names"
   ]
  },
  {
   "cell_type": "code",
   "execution_count": 38,
   "metadata": {},
   "outputs": [
    {
     "data": {
      "text/html": [
       "<div>\n",
       "<style scoped>\n",
       "    .dataframe tbody tr th:only-of-type {\n",
       "        vertical-align: middle;\n",
       "    }\n",
       "\n",
       "    .dataframe tbody tr th {\n",
       "        vertical-align: top;\n",
       "    }\n",
       "\n",
       "    .dataframe thead th {\n",
       "        text-align: right;\n",
       "    }\n",
       "</style>\n",
       "<table border=\"1\" class=\"dataframe\">\n",
       "  <thead>\n",
       "    <tr style=\"text-align: right;\">\n",
       "      <th></th>\n",
       "      <th>buying_price</th>\n",
       "      <th>maint_price</th>\n",
       "      <th>doors</th>\n",
       "      <th>persons</th>\n",
       "      <th>lug_boot_size</th>\n",
       "      <th>safety</th>\n",
       "      <th>eval_class</th>\n",
       "    </tr>\n",
       "  </thead>\n",
       "  <tbody>\n",
       "    <tr>\n",
       "      <th>count</th>\n",
       "      <td>1728</td>\n",
       "      <td>1728</td>\n",
       "      <td>1728</td>\n",
       "      <td>1728</td>\n",
       "      <td>1728</td>\n",
       "      <td>1728</td>\n",
       "      <td>1728</td>\n",
       "    </tr>\n",
       "    <tr>\n",
       "      <th>unique</th>\n",
       "      <td>4</td>\n",
       "      <td>4</td>\n",
       "      <td>4</td>\n",
       "      <td>3</td>\n",
       "      <td>3</td>\n",
       "      <td>3</td>\n",
       "      <td>4</td>\n",
       "    </tr>\n",
       "    <tr>\n",
       "      <th>top</th>\n",
       "      <td>med</td>\n",
       "      <td>med</td>\n",
       "      <td>3</td>\n",
       "      <td>more</td>\n",
       "      <td>med</td>\n",
       "      <td>med</td>\n",
       "      <td>unacc</td>\n",
       "    </tr>\n",
       "    <tr>\n",
       "      <th>freq</th>\n",
       "      <td>432</td>\n",
       "      <td>432</td>\n",
       "      <td>432</td>\n",
       "      <td>576</td>\n",
       "      <td>576</td>\n",
       "      <td>576</td>\n",
       "      <td>1210</td>\n",
       "    </tr>\n",
       "  </tbody>\n",
       "</table>\n",
       "</div>"
      ],
      "text/plain": [
       "       buying_price maint_price doors persons lug_boot_size safety eval_class\n",
       "count          1728        1728  1728    1728          1728   1728       1728\n",
       "unique            4           4     4       3             3      3          4\n",
       "top             med         med     3    more           med    med      unacc\n",
       "freq            432         432   432     576           576    576       1210"
      ]
     },
     "execution_count": 38,
     "metadata": {},
     "output_type": "execute_result"
    }
   ],
   "source": [
    "car.describe()"
   ]
  },
  {
   "cell_type": "code",
   "execution_count": 39,
   "metadata": {},
   "outputs": [],
   "source": [
    "ord_mapper = {'vhigh':3, \n",
    "                'high':2,\n",
    "                'med':1,\n",
    "             'low':0}\n",
    "car['BuyingPrice_ord_coded'] = car['buying_price'].replace(ord_mapper)"
   ]
  },
  {
   "cell_type": "code",
   "execution_count": 40,
   "metadata": {},
   "outputs": [],
   "source": [
    "ord_mapper = {'vhigh':3, \n",
    "                'high':2,\n",
    "                'med':1,\n",
    "             'low':0}\n",
    "car['MaintPrice_ord_coded'] = car['maint_price'].replace(ord_mapper)"
   ]
  },
  {
   "cell_type": "code",
   "execution_count": 41,
   "metadata": {},
   "outputs": [],
   "source": [
    "ord_mapper = {'2':2,'3':3,'4':4,'5more':5}\n",
    "car['doors_ord_coded'] = car['doors'].replace(ord_mapper)"
   ]
  },
  {
   "cell_type": "code",
   "execution_count": 42,
   "metadata": {},
   "outputs": [],
   "source": [
    "ord_mapper = {'2':2,'4':4,'more':6}\n",
    "car['persons_ord_coded'] = car['persons'].replace(ord_mapper)"
   ]
  },
  {
   "cell_type": "code",
   "execution_count": 43,
   "metadata": {},
   "outputs": [],
   "source": [
    "ord_mapper = {'big':2,'med':1,'small':0}\n",
    "car['LugBootSize_ord_coded'] = car['lug_boot_size'].replace(ord_mapper)"
   ]
  },
  {
   "cell_type": "code",
   "execution_count": 44,
   "metadata": {},
   "outputs": [],
   "source": [
    "ord_mapper = {'high':2,'med':1,'low':0}\n",
    "car['Safety_ord_coded'] = car['safety'].replace(ord_mapper)"
   ]
  },
  {
   "cell_type": "code",
   "execution_count": 45,
   "metadata": {},
   "outputs": [
    {
     "name": "stdout",
     "output_type": "stream",
     "text": [
      "Index(['unacc', 'acc', 'vgood', 'good'], dtype='object')\n"
     ]
    },
    {
     "data": {
      "text/html": [
       "<div>\n",
       "<style scoped>\n",
       "    .dataframe tbody tr th:only-of-type {\n",
       "        vertical-align: middle;\n",
       "    }\n",
       "\n",
       "    .dataframe tbody tr th {\n",
       "        vertical-align: top;\n",
       "    }\n",
       "\n",
       "    .dataframe thead th {\n",
       "        text-align: right;\n",
       "    }\n",
       "</style>\n",
       "<table border=\"1\" class=\"dataframe\">\n",
       "  <thead>\n",
       "    <tr style=\"text-align: right;\">\n",
       "      <th></th>\n",
       "      <th>eval_class</th>\n",
       "      <th>evaluation</th>\n",
       "    </tr>\n",
       "  </thead>\n",
       "  <tbody>\n",
       "    <tr>\n",
       "      <th>0</th>\n",
       "      <td>unacc</td>\n",
       "      <td>0</td>\n",
       "    </tr>\n",
       "    <tr>\n",
       "      <th>1</th>\n",
       "      <td>unacc</td>\n",
       "      <td>0</td>\n",
       "    </tr>\n",
       "  </tbody>\n",
       "</table>\n",
       "</div>"
      ],
      "text/plain": [
       "  eval_class  evaluation\n",
       "0      unacc           0\n",
       "1      unacc           0"
      ]
     },
     "execution_count": 45,
     "metadata": {},
     "output_type": "execute_result"
    }
   ],
   "source": [
    "# Factorizing evaluation class for modelling purpose\n",
    "car['evaluation'],class_names = pd.factorize(car['eval_class'])\n",
    "print(class_names)\n",
    "car[['eval_class','evaluation']].head(n=2)"
   ]
  },
  {
   "cell_type": "code",
   "execution_count": 46,
   "metadata": {},
   "outputs": [
    {
     "data": {
      "text/plain": [
       "unacc    1210\n",
       "acc       384\n",
       "good       69\n",
       "vgood      65\n",
       "Name: eval_class, dtype: int64"
      ]
     },
     "execution_count": 46,
     "metadata": {},
     "output_type": "execute_result"
    }
   ],
   "source": [
    "# Checking for class imbalance\n",
    "car['eval_class'].value_counts()"
   ]
  },
  {
   "cell_type": "markdown",
   "metadata": {},
   "source": [
    "There is an imbalance of target varaible class in the dataset"
   ]
  },
  {
   "cell_type": "code",
   "execution_count": 47,
   "metadata": {},
   "outputs": [],
   "source": [
    "car_ord_coded = car.iloc[:,7:14]\n",
    "car_category = car.iloc[:,[0,1,2,3,4,5,13]]"
   ]
  },
  {
   "cell_type": "code",
   "execution_count": 48,
   "metadata": {},
   "outputs": [],
   "source": [
    "car_category['buying_price'] = pd.factorize(car_category.iloc[:,0])[0]\n",
    "car_category['maint_price'] = pd.factorize(car_category.iloc[:,1])[0]\n",
    "car_category['doors'] = pd.factorize(car_category.iloc[:,2])[0]\n",
    "car_category['persons'] = pd.factorize(car_category.iloc[:,3])[0]\n",
    "car_category['lug_boot_size'] = pd.factorize(car_category.iloc[:,4])[0]\n",
    "car_category['safety'] = pd.factorize(car_category.iloc[:,5])[0]"
   ]
  },
  {
   "cell_type": "markdown",
   "metadata": {},
   "source": [
    "# Considering Ordinal variables as categorical"
   ]
  },
  {
   "cell_type": "markdown",
   "metadata": {},
   "source": [
    "##### Creating the Train and Test data"
   ]
  },
  {
   "cell_type": "code",
   "execution_count": 49,
   "metadata": {},
   "outputs": [],
   "source": [
    "X_df = car_category.iloc[:,0:6]\n",
    "y_df = car_category.iloc[:,6:]"
   ]
  },
  {
   "cell_type": "code",
   "execution_count": 50,
   "metadata": {},
   "outputs": [],
   "source": [
    "X_train, X_test_holdout, y_train, y_test_holdout = train_test_split(X_df, y_df, \n",
    "                                                                    test_size=0.25,stratify=y_df['evaluation'])"
   ]
  },
  {
   "cell_type": "markdown",
   "metadata": {},
   "source": [
    "### Decision Tree"
   ]
  },
  {
   "cell_type": "markdown",
   "metadata": {},
   "source": [
    "###### Tuning the model using GridSearch Cross Validation to find the values of hyperparameters that best fit the model"
   ]
  },
  {
   "cell_type": "code",
   "execution_count": 51,
   "metadata": {},
   "outputs": [
    {
     "data": {
      "text/plain": [
       "GridSearchCV(cv=5, error_score='raise-deprecating',\n",
       "       estimator=DecisionTreeClassifier(class_weight=None, criterion='gini', max_depth=None,\n",
       "            max_features=None, max_leaf_nodes=None,\n",
       "            min_impurity_decrease=0.0, min_impurity_split=None,\n",
       "            min_samples_leaf=1, min_samples_split=2,\n",
       "            min_weight_fraction_leaf=0.0, presort=False, random_state=None,\n",
       "            splitter='best'),\n",
       "       fit_params=None, iid='warn', n_jobs=None,\n",
       "       param_grid={'max_depth': range(1, 20), 'min_samples_split': range(3, 30), 'criterion': ['gini', 'entropy']},\n",
       "       pre_dispatch='2*n_jobs', refit=True, return_train_score='warn',\n",
       "       scoring='accuracy', verbose=0)"
      ]
     },
     "execution_count": 51,
     "metadata": {},
     "output_type": "execute_result"
    }
   ],
   "source": [
    "# Hyper parameter tuning using GridSearch\n",
    "param_set ={'max_depth': range(1,20), 'min_samples_split' : range(3,30), 'criterion' : [\"gini\", \"entropy\"]}\n",
    "clf_DTree = tree.DecisionTreeClassifier()\n",
    "grid_DTree = GridSearchCV(clf_DTree, param_grid = param_set, cv=5, scoring='accuracy')\n",
    "grid_DTree.fit(X_train,y_train)"
   ]
  },
  {
   "cell_type": "markdown",
   "metadata": {},
   "source": [
    "##### Examining the best model"
   ]
  },
  {
   "cell_type": "code",
   "execution_count": 52,
   "metadata": {},
   "outputs": [
    {
     "name": "stdout",
     "output_type": "stream",
     "text": [
      "Best score achieved across all parameters:  0.9760802469135802\n",
      " \n",
      "Best parameters\n",
      "{'criterion': 'entropy', 'max_depth': 17, 'min_samples_split': 3}\n",
      " \n",
      "Best estimator\n",
      "DecisionTreeClassifier(class_weight=None, criterion='entropy', max_depth=17,\n",
      "            max_features=None, max_leaf_nodes=None,\n",
      "            min_impurity_decrease=0.0, min_impurity_split=None,\n",
      "            min_samples_leaf=1, min_samples_split=3,\n",
      "            min_weight_fraction_leaf=0.0, presort=False, random_state=None,\n",
      "            splitter='best')\n"
     ]
    }
   ],
   "source": [
    "# examine the best model\n",
    "\n",
    "print(\"Best score achieved across all parameters: \", grid_DTree.best_score_)\n",
    "\n",
    "# Dictionary containing the parameters used to generate that score\n",
    "print(\" \")\n",
    "print(\"Best parameters\")\n",
    "print(grid_DTree.best_params_)\n",
    "\n",
    "print(\" \")\n",
    "print(\"Best estimator\")\n",
    "print(grid_DTree.best_estimator_)"
   ]
  },
  {
   "cell_type": "markdown",
   "metadata": {},
   "source": [
    "##### cross - validation with the best hyperparameters"
   ]
  },
  {
   "cell_type": "code",
   "execution_count": 53,
   "metadata": {},
   "outputs": [
    {
     "name": "stdout",
     "output_type": "stream",
     "text": [
      "Below are the scores for each model run\n",
      "[0.96551724 0.98467433 0.97683398 0.96124031 0.97276265]\n",
      " \n",
      "Mean Accuracy and variance: 0.97 (+/- 0.02)\n"
     ]
    }
   ],
   "source": [
    "clf_Dtree_best = grid_DTree.best_estimator_\n",
    "\n",
    "scores = cross_val_score(clf_Dtree_best, X_train, y_train, cv=5)\n",
    "\n",
    "print(\"Below are the scores for each model run\")\n",
    "print(scores)\n",
    "\n",
    "print(\" \")\n",
    "print(\"Mean Accuracy and variance: %0.2f (+/- %0.2f)\" % (scores.mean(), scores.std() * 2))"
   ]
  },
  {
   "cell_type": "markdown",
   "metadata": {},
   "source": [
    "##### Fitting the Train data and Prediction on test data"
   ]
  },
  {
   "cell_type": "code",
   "execution_count": 54,
   "metadata": {},
   "outputs": [
    {
     "name": "stdout",
     "output_type": "stream",
     "text": [
      "Decision Tree : accuracy on test data is  97.69 %\n",
      " \n",
      "Decision Tree : Confusion Matrix\n",
      " \n",
      "[[301   2   0   0]\n",
      " [  6  89   1   0]\n",
      " [  0   0  16   0]\n",
      " [  0   1   0  16]]\n",
      " \n",
      "Decision Tree : Classification Report\n",
      "              precision    recall  f1-score   support\n",
      "\n",
      "           0       0.98      0.99      0.99       303\n",
      "           1       0.97      0.93      0.95        96\n",
      "           2       0.94      1.00      0.97        16\n",
      "           3       1.00      0.94      0.97        17\n",
      "\n",
      "   micro avg       0.98      0.98      0.98       432\n",
      "   macro avg       0.97      0.97      0.97       432\n",
      "weighted avg       0.98      0.98      0.98       432\n",
      "\n"
     ]
    }
   ],
   "source": [
    "clf_Dtree_best.fit(X_train,y_train)\n",
    "\n",
    "y_pred = clf_Dtree_best.predict(X_test_holdout)\n",
    "print(\"Decision Tree : accuracy on test data is \",round(accuracy_score(y_test_holdout, y_pred)*100,2),\"%\")\n",
    "print(\" \")\n",
    "print(\"Decision Tree : Confusion Matrix\")\n",
    "print(\" \")\n",
    "print(confusion_matrix(y_test_holdout, y_pred))\n",
    "print(\" \")\n",
    "print(\"Decision Tree : Classification Report\")\n",
    "print(classification_report(y_test_holdout, y_pred))"
   ]
  },
  {
   "cell_type": "markdown",
   "metadata": {},
   "source": [
    "##### ROC curve and Area Under the Curve"
   ]
  },
  {
   "cell_type": "code",
   "execution_count": 55,
   "metadata": {},
   "outputs": [
    {
     "name": "stderr",
     "output_type": "stream",
     "text": [
      "C:\\Users\\rckar\\Anaconda3\\lib\\site-packages\\sklearn\\utils\\deprecation.py:77: DeprecationWarning: Function plot_roc_curve is deprecated; This will be removed in v0.5.0. Please use scikitplot.metrics.plot_roc instead.\n",
      "  warnings.warn(msg, category=DeprecationWarning)\n"
     ]
    },
    {
     "data": {
      "image/png": "[encoded data removed]",
      "text/plain": [
       "<Figure size 432x288 with 1 Axes>"
      ]
     },
     "metadata": {
      "needs_background": "light"
     },
     "output_type": "display_data"
    }
   ],
   "source": [
    "y_probas =  clf_Dtree_best.predict_proba(X_test_holdout) # predicted probabilities generated by classifier\n",
    "sckplt.metrics.plot_roc_curve(y_test_holdout, y_probas)\n",
    "plt.show()"
   ]
  },
  {
   "cell_type": "markdown",
   "metadata": {},
   "source": [
    "### Logistic Regression"
   ]
  },
  {
   "cell_type": "markdown",
   "metadata": {},
   "source": [
    "###### Tuning the model using GridSearch Cross Validation to find the values of hyperparameters that best fit the model"
   ]
  },
  {
   "cell_type": "code",
   "execution_count": 56,
   "metadata": {},
   "outputs": [
    {
     "name": "stderr",
     "output_type": "stream",
     "text": [
      "C:\\Users\\rckar\\Anaconda3\\lib\\site-packages\\sklearn\\model_selection\\_search.py:841: DeprecationWarning: The default of the `iid` parameter will change from True to False in version 0.22 and will be removed in 0.24. This will change numeric results when test-set sizes are unequal.\n",
      "  DeprecationWarning)\n"
     ]
    },
    {
     "data": {
      "text/plain": [
       "GridSearchCV(cv=5, error_score='raise-deprecating',\n",
       "       estimator=LogisticRegression(C=1.0, class_weight=None, dual=False, fit_intercept=True,\n",
       "          intercept_scaling=1, max_iter=100, multi_class='warn',\n",
       "          n_jobs=None, penalty='l2', random_state=None, solver='warn',\n",
       "          tol=0.0001, verbose=0, warm_start=False),\n",
       "       fit_params=None, iid='warn', n_jobs=None,\n",
       "       param_grid={'multi_class': ['multinomial'], 'C': array([0.2, 0.3, 0.4, 0.5, 0.6, 0.7, 0.8, 0.9]), 'class_weight': [None, 'balanced'], 'solver': ['newton-cg', 'lbfgs', 'sag', 'saga']},\n",
       "       pre_dispatch='2*n_jobs', refit=True, return_train_score='warn',\n",
       "       scoring='accuracy', verbose=0)"
      ]
     },
     "execution_count": 56,
     "metadata": {},
     "output_type": "execute_result"
    }
   ],
   "source": [
    "param_set ={'multi_class' : ['multinomial'], 'C':np.arange(0.2,1,0.1),\n",
    "            'class_weight': [None, 'balanced'], 'solver': ['newton-cg', 'lbfgs','sag','saga']}\n",
    "\n",
    "clf_logistic = linear_model.LogisticRegression()\n",
    "\n",
    "grid_logistic = GridSearchCV(clf_logistic, param_grid = param_set, cv=5, scoring='accuracy')\n",
    "grid_logistic.fit(X_train,y_train)"
   ]
  },
  {
   "cell_type": "markdown",
   "metadata": {},
   "source": [
    "##### Examining the best model"
   ]
  },
  {
   "cell_type": "code",
   "execution_count": 57,
   "metadata": {},
   "outputs": [
    {
     "name": "stdout",
     "output_type": "stream",
     "text": [
      "Best score achieved across all parameters:  0.8310185185185185\n",
      " \n",
      "Best parameters\n",
      "{'C': 0.9000000000000001, 'class_weight': None, 'multi_class': 'multinomial', 'solver': 'newton-cg'}\n",
      " \n",
      "Best estimator\n",
      "LogisticRegression(C=0.9000000000000001, class_weight=None, dual=False,\n",
      "          fit_intercept=True, intercept_scaling=1, max_iter=100,\n",
      "          multi_class='multinomial', n_jobs=None, penalty='l2',\n",
      "          random_state=None, solver='newton-cg', tol=0.0001, verbose=0,\n",
      "          warm_start=False)\n"
     ]
    }
   ],
   "source": [
    "# Single best score achieved across all params\n",
    "print(\"Best score achieved across all parameters: \", grid_logistic.best_score_)\n",
    "\n",
    "# Dictionary containing the parameters used to generate that score\n",
    "print(\" \")\n",
    "print(\"Best parameters\")\n",
    "print(grid_logistic.best_params_)\n",
    "\n",
    "# Actual model object fit with those best parameters\n",
    "# Shows default parameters that we did not specify\n",
    "print(\" \")\n",
    "print(\"Best estimator\")\n",
    "print(grid_logistic.best_estimator_)"
   ]
  },
  {
   "cell_type": "markdown",
   "metadata": {},
   "source": [
    "##### cross - validation with the best hyperparameters"
   ]
  },
  {
   "cell_type": "code",
   "execution_count": 58,
   "metadata": {},
   "outputs": [
    {
     "name": "stdout",
     "output_type": "stream",
     "text": [
      "Below are the scores for each model run\n",
      "[0.86206897 0.81992337 0.83397683 0.8372093  0.80155642]\n",
      " \n",
      "Mean Accuracy and variance: 0.83 (+/- 0.04)\n"
     ]
    }
   ],
   "source": [
    "clf_logistic_best = grid_logistic.best_estimator_\n",
    "\n",
    "scores = cross_val_score(clf_logistic_best, X_train, y_train, cv=5)\n",
    "\n",
    "print(\"Below are the scores for each model run\")\n",
    "print(scores)\n",
    "\n",
    "print(\" \")\n",
    "print(\"Mean Accuracy and variance: %0.2f (+/- %0.2f)\" % (scores.mean(), scores.std() * 2))"
   ]
  },
  {
   "cell_type": "markdown",
   "metadata": {},
   "source": [
    "##### Fitting the Train data and Prediction on test data"
   ]
  },
  {
   "cell_type": "code",
   "execution_count": 59,
   "metadata": {},
   "outputs": [
    {
     "name": "stdout",
     "output_type": "stream",
     "text": [
      "Logistic Regression : accuracy on test data is  81.02 %\n",
      " \n",
      "Logistic Regression : Confusion Matrix\n",
      " \n",
      "[[279  15   1   8]\n",
      " [ 40  53   3   0]\n",
      " [  0   4  12   0]\n",
      " [  0  11   0   6]]\n",
      " \n",
      "Logistic Regression : Classification Report\n",
      "              precision    recall  f1-score   support\n",
      "\n",
      "           0       0.87      0.92      0.90       303\n",
      "           1       0.64      0.55      0.59        96\n",
      "           2       0.75      0.75      0.75        16\n",
      "           3       0.43      0.35      0.39        17\n",
      "\n",
      "   micro avg       0.81      0.81      0.81       432\n",
      "   macro avg       0.67      0.64      0.66       432\n",
      "weighted avg       0.80      0.81      0.80       432\n",
      "\n"
     ]
    }
   ],
   "source": [
    "clf_logistic_best.fit(X_train,y_train)\n",
    "\n",
    "y_pred = clf_logistic_best.predict(X_test_holdout)\n",
    "\n",
    "print(\"Logistic Regression : accuracy on test data is \",round(accuracy_score(y_test_holdout, y_pred)*100,2),\"%\")\n",
    "print(\" \")\n",
    "print(\"Logistic Regression : Confusion Matrix\")\n",
    "print(\" \")\n",
    "print(confusion_matrix(y_test_holdout, y_pred))\n",
    "print(\" \")\n",
    "print(\"Logistic Regression : Classification Report\")\n",
    "print(classification_report(y_test_holdout, y_pred))"
   ]
  },
  {
   "cell_type": "markdown",
   "metadata": {},
   "source": [
    "##### ROC curve and Area Under the Curve"
   ]
  },
  {
   "cell_type": "code",
   "execution_count": 60,
   "metadata": {},
   "outputs": [
    {
     "name": "stderr",
     "output_type": "stream",
     "text": [
      "C:\\Users\\rckar\\Anaconda3\\lib\\site-packages\\sklearn\\utils\\deprecation.py:77: DeprecationWarning: Function plot_roc_curve is deprecated; This will be removed in v0.5.0. Please use scikitplot.metrics.plot_roc instead.\n",
      "  warnings.warn(msg, category=DeprecationWarning)\n"
     ]
    },
    {
     "data": {
      "image/png": "[encoded data removed]",
      "text/plain": [
       "<Figure size 432x288 with 1 Axes>"
      ]
     },
     "metadata": {
      "needs_background": "light"
     },
     "output_type": "display_data"
    }
   ],
   "source": [
    "y_probas =  clf_logistic_best.predict_proba(X_test_holdout) # predicted probabilities generated by classifier\n",
    "sckplt.metrics.plot_roc_curve(y_test_holdout, y_probas)\n",
    "plt.show()"
   ]
  },
  {
   "cell_type": "markdown",
   "metadata": {},
   "source": [
    "### KNN Classifier"
   ]
  },
  {
   "cell_type": "code",
   "execution_count": 61,
   "metadata": {},
   "outputs": [],
   "source": [
    "scaler = MinMaxScaler(feature_range=(0, 1))"
   ]
  },
  {
   "cell_type": "code",
   "execution_count": 62,
   "metadata": {},
   "outputs": [],
   "source": [
    "x_train_scaled = scaler.fit_transform(X_train)\n",
    "x_train_scaled = pd.DataFrame(x_train_scaled)\n",
    "\n",
    "x_test_scaled = scaler.fit_transform(X_test_holdout)\n",
    "x_test_scaled = pd.DataFrame(x_test_scaled)"
   ]
  },
  {
   "cell_type": "markdown",
   "metadata": {},
   "source": [
    "###### Tuning the model using GridSearch Cross Validation to find the values of hyperparameters that best fit the model"
   ]
  },
  {
   "cell_type": "code",
   "execution_count": 63,
   "metadata": {},
   "outputs": [
    {
     "data": {
      "text/plain": [
       "GridSearchCV(cv=5, error_score='raise-deprecating',\n",
       "       estimator=KNeighborsClassifier(algorithm='auto', leaf_size=30, metric='minkowski',\n",
       "           metric_params=None, n_jobs=None, n_neighbors=5, p=2,\n",
       "           weights='uniform'),\n",
       "       fit_params=None, iid='warn', n_jobs=None,\n",
       "       param_grid={'n_neighbors': [1, 2, 3, 4, 5, 6, 7, 8, 9, 10, 11, 12, 13, 14, 15, 16, 17, 18, 19, 20, 21, 22, 23, 24, 25, 26, 27, 28, 29], 'weights': ['uniform', 'distance']},\n",
       "       pre_dispatch='2*n_jobs', refit=True, return_train_score='warn',\n",
       "       scoring='accuracy', verbose=0)"
      ]
     },
     "execution_count": 63,
     "metadata": {},
     "output_type": "execute_result"
    }
   ],
   "source": [
    "param_set ={'n_neighbors': list(range(1,30)), 'weights': [\"uniform\", \"distance\"]}\n",
    "\n",
    "clf_knn = neighbors.KNeighborsClassifier()\n",
    "\n",
    "grid_knn = GridSearchCV(clf_knn, param_grid = param_set, cv=5, scoring='accuracy')\n",
    "grid_knn.fit(x_train_scaled,y_train)"
   ]
  },
  {
   "cell_type": "markdown",
   "metadata": {},
   "source": [
    "##### Examining the best model"
   ]
  },
  {
   "cell_type": "code",
   "execution_count": 64,
   "metadata": {},
   "outputs": [
    {
     "name": "stdout",
     "output_type": "stream",
     "text": [
      "Best score achieved across all parameters:  0.9429012345679012\n",
      " \n",
      "Best parameters\n",
      "{'n_neighbors': 13, 'weights': 'distance'}\n",
      " \n",
      "Best estimator\n",
      "KNeighborsClassifier(algorithm='auto', leaf_size=30, metric='minkowski',\n",
      "           metric_params=None, n_jobs=None, n_neighbors=13, p=2,\n",
      "           weights='distance')\n"
     ]
    }
   ],
   "source": [
    "# Single best score achieved across all params\n",
    "print(\"Best score achieved across all parameters: \", grid_knn.best_score_)\n",
    "\n",
    "# Dictionary containing the parameters used to generate that score\n",
    "print(\" \")\n",
    "print(\"Best parameters\")\n",
    "print(grid_knn.best_params_)\n",
    "\n",
    "# Actual model object fit with those best parameters\n",
    "# Shows default parameters that we did not specify\n",
    "print(\" \")\n",
    "print(\"Best estimator\")\n",
    "print(grid_knn.best_estimator_)"
   ]
  },
  {
   "cell_type": "markdown",
   "metadata": {},
   "source": [
    "##### cross - validation with the best hyperparameters"
   ]
  },
  {
   "cell_type": "code",
   "execution_count": 65,
   "metadata": {},
   "outputs": [
    {
     "name": "stdout",
     "output_type": "stream",
     "text": [
      "Below are the scores for each model run\n",
      "[0.94656489 0.91603053 0.94615385 0.93846154 0.95384615 0.94615385\n",
      " 0.96153846 0.93023256 0.9375     0.92913386]\n",
      " \n",
      "Mean Accuracy and variance: 0.94 (+/- 0.03)\n"
     ]
    }
   ],
   "source": [
    "clf_knn_best = grid_knn.best_estimator_\n",
    "\n",
    "scores = cross_val_score(clf_knn_best, x_train_scaled, y_train, cv=10)\n",
    "\n",
    "print(\"Below are the scores for each model run\")\n",
    "print(scores)\n",
    "\n",
    "print(\" \")\n",
    "print(\"Mean Accuracy and variance: %0.2f (+/- %0.2f)\" % (scores.mean(), scores.std() * 2))"
   ]
  },
  {
   "cell_type": "markdown",
   "metadata": {},
   "source": [
    "##### Fitting the Train data and Prediction on test data"
   ]
  },
  {
   "cell_type": "code",
   "execution_count": 66,
   "metadata": {},
   "outputs": [
    {
     "name": "stdout",
     "output_type": "stream",
     "text": [
      "KNN : accuracy on test data is  91.67 %\n",
      " \n",
      "KNN : Confusion Matrix\n",
      " \n",
      "[[300   2   0   1]\n",
      " [ 23  73   0   0]\n",
      " [  0   5  10   1]\n",
      " [  3   1   0  13]]\n",
      " \n",
      "KNN : Classification Report\n",
      "              precision    recall  f1-score   support\n",
      "\n",
      "           0       0.92      0.99      0.95       303\n",
      "           1       0.90      0.76      0.82        96\n",
      "           2       1.00      0.62      0.77        16\n",
      "           3       0.87      0.76      0.81        17\n",
      "\n",
      "   micro avg       0.92      0.92      0.92       432\n",
      "   macro avg       0.92      0.79      0.84       432\n",
      "weighted avg       0.92      0.92      0.91       432\n",
      "\n"
     ]
    }
   ],
   "source": [
    "clf_knn_best.fit(X_train,y_train)\n",
    "\n",
    "\n",
    "y_pred = clf_knn_best.predict(X_test_holdout)\n",
    "\n",
    "print(\"KNN : accuracy on test data is \",round(accuracy_score(y_test_holdout, y_pred)*100,2),\"%\")\n",
    "print(\" \")\n",
    "print(\"KNN : Confusion Matrix\")\n",
    "print(\" \")\n",
    "print(confusion_matrix(y_test_holdout, y_pred))\n",
    "print(\" \")\n",
    "print(\"KNN : Classification Report\")\n",
    "print(classification_report(y_test_holdout, y_pred))"
   ]
  },
  {
   "cell_type": "markdown",
   "metadata": {},
   "source": [
    "##### ROC curve and Area Under the Curve"
   ]
  },
  {
   "cell_type": "code",
   "execution_count": 67,
   "metadata": {},
   "outputs": [
    {
     "name": "stderr",
     "output_type": "stream",
     "text": [
      "C:\\Users\\rckar\\Anaconda3\\lib\\site-packages\\sklearn\\utils\\deprecation.py:77: DeprecationWarning: Function plot_roc_curve is deprecated; This will be removed in v0.5.0. Please use scikitplot.metrics.plot_roc instead.\n",
      "  warnings.warn(msg, category=DeprecationWarning)\n"
     ]
    },
    {
     "data": {
      "image/png": "[encoded data removed]",
      "text/plain": [
       "<Figure size 432x288 with 1 Axes>"
      ]
     },
     "metadata": {
      "needs_background": "light"
     },
     "output_type": "display_data"
    }
   ],
   "source": [
    "y_probas =  clf_knn_best.predict_proba(X_test_holdout) # predicted probabilities generated by classifier\n",
    "sckplt.metrics.plot_roc_curve(y_test_holdout, y_probas)\n",
    "plt.show()"
   ]
  },
  {
   "cell_type": "markdown",
   "metadata": {},
   "source": [
    "### Naive Bayes"
   ]
  },
  {
   "cell_type": "markdown",
   "metadata": {},
   "source": [
    "##### cross - validation to check training accuracy"
   ]
  },
  {
   "cell_type": "code",
   "execution_count": 68,
   "metadata": {},
   "outputs": [
    {
     "name": "stdout",
     "output_type": "stream",
     "text": [
      "Below are the scores for each model run\n",
      "[0.73563218 0.68965517 0.67567568 0.70930233 0.70038911]\n",
      " \n",
      "Mean Accuracy and variance: 0.70 (+/- 0.04)\n"
     ]
    }
   ],
   "source": [
    "clf_NB = naive_bayes.GaussianNB()\n",
    "\n",
    "scores = cross_val_score(clf_NB, X_train, y_train, cv=5)\n",
    "\n",
    "print(\"Below are the scores for each model run\")\n",
    "print(scores)\n",
    "\n",
    "print(\" \")\n",
    "print(\"Mean Accuracy and variance: %0.2f (+/- %0.2f)\" % (scores.mean(), scores.std() * 2))"
   ]
  },
  {
   "cell_type": "markdown",
   "metadata": {},
   "source": [
    "##### Fitting the Train data and Prediction on test data"
   ]
  },
  {
   "cell_type": "code",
   "execution_count": 69,
   "metadata": {},
   "outputs": [
    {
     "name": "stdout",
     "output_type": "stream",
     "text": [
      "Naive Bayes : accuracy on test data is  68.29 %\n",
      " \n",
      "Naive Bayes : Confusion Matrix\n",
      " \n",
      "[[259   4  39   1]\n",
      " [ 39  16  36   5]\n",
      " [  0   0  16   0]\n",
      " [  2   6   5   4]]\n",
      " \n",
      "Naive Bayes : Classification Report\n",
      "              precision    recall  f1-score   support\n",
      "\n",
      "           0       0.86      0.85      0.86       303\n",
      "           1       0.62      0.17      0.26        96\n",
      "           2       0.17      1.00      0.29        16\n",
      "           3       0.40      0.24      0.30        17\n",
      "\n",
      "   micro avg       0.68      0.68      0.68       432\n",
      "   macro avg       0.51      0.56      0.43       432\n",
      "weighted avg       0.76      0.68      0.68       432\n",
      "\n"
     ]
    }
   ],
   "source": [
    "clf_NB.fit(X_train,y_train)\n",
    "\n",
    "y_pred = clf_NB.predict(X_test_holdout)\n",
    "\n",
    "print(\"Naive Bayes : accuracy on test data is \",round(accuracy_score(y_test_holdout, y_pred)*100,2),\"%\")\n",
    "print(\" \")\n",
    "print(\"Naive Bayes : Confusion Matrix\")\n",
    "print(\" \")\n",
    "print(confusion_matrix(y_test_holdout, y_pred))\n",
    "print(\" \")\n",
    "print(\"Naive Bayes : Classification Report\")\n",
    "print(classification_report(y_test_holdout, y_pred))"
   ]
  },
  {
   "cell_type": "markdown",
   "metadata": {},
   "source": [
    "##### ROC curve and Area Under the Curve"
   ]
  },
  {
   "cell_type": "code",
   "execution_count": 70,
   "metadata": {},
   "outputs": [
    {
     "name": "stderr",
     "output_type": "stream",
     "text": [
      "C:\\Users\\rckar\\Anaconda3\\lib\\site-packages\\sklearn\\utils\\deprecation.py:77: DeprecationWarning: Function plot_roc_curve is deprecated; This will be removed in v0.5.0. Please use scikitplot.metrics.plot_roc instead.\n",
      "  warnings.warn(msg, category=DeprecationWarning)\n"
     ]
    },
    {
     "data": {
      "image/png": "[encoded data removed]",
      "text/plain": [
       "<Figure size 432x288 with 1 Axes>"
      ]
     },
     "metadata": {
      "needs_background": "light"
     },
     "output_type": "display_data"
    }
   ],
   "source": [
    "y_probas =  clf_NB.predict_proba(X_test_holdout) # predicted probabilities generated by classifier\n",
    "sckplt.metrics.plot_roc_curve(y_test_holdout, y_probas)\n",
    "plt.show()"
   ]
  },
  {
   "cell_type": "markdown",
   "metadata": {},
   "source": [
    "### SVM Classifier"
   ]
  },
  {
   "cell_type": "markdown",
   "metadata": {},
   "source": [
    "###### Tuning the model using GridSearch Cross Validation to find the values of hyperparameters that best fit the model"
   ]
  },
  {
   "cell_type": "code",
   "execution_count": 71,
   "metadata": {},
   "outputs": [
    {
     "data": {
      "text/plain": [
       "GridSearchCV(cv=5, error_score='raise-deprecating',\n",
       "       estimator=SVC(C=1.0, cache_size=200, class_weight=None, coef0=0.0,\n",
       "  decision_function_shape='ovr', degree=3, gamma='auto_deprecated',\n",
       "  kernel='rbf', max_iter=-1, probability=True, random_state=None,\n",
       "  shrinking=True, tol=0.001, verbose=False),\n",
       "       fit_params=None, iid='warn', n_jobs=None,\n",
       "       param_grid=[{'kernel': ['rbf'], 'gamma': [0.001, 0.0001], 'C': [1, 2, 3, 4, 5, 10, 100], 'decision_function_shape': ['ovr', 'ovo']}, {'kernel': ['linear'], 'C': [1, 2, 3, 4, 5, 10, 100], 'decision_function_shape': ['ovr', 'ovo']}],\n",
       "       pre_dispatch='2*n_jobs', refit=True, return_train_score='warn',\n",
       "       scoring=None, verbose=0)"
      ]
     },
     "execution_count": 71,
     "metadata": {},
     "output_type": "execute_result"
    }
   ],
   "source": [
    "# Hyper parameter tuning using GridSearch\n",
    "param_set = [{'kernel': ['rbf'], 'gamma': [1e-3, 1e-4],\n",
    "                     'C': [1,2,3,4,5,10,100], 'decision_function_shape':['ovr','ovo']},\n",
    "                    {'kernel': ['linear'], 'C': [1,2,3,4,5,10,100], 'decision_function_shape':['ovr','ovo']}]\n",
    "clf_SVC = svm.SVC(probability=True)\n",
    "grid_SVC = GridSearchCV(clf_SVC, param_grid = param_set, cv=5)\n",
    "grid_SVC.fit(X_train,y_train)"
   ]
  },
  {
   "cell_type": "markdown",
   "metadata": {},
   "source": [
    "##### Examining the best model"
   ]
  },
  {
   "cell_type": "code",
   "execution_count": 72,
   "metadata": {},
   "outputs": [
    {
     "name": "stdout",
     "output_type": "stream",
     "text": [
      "Best score achieved across all parameters:  0.8603395061728395\n",
      " \n",
      "Best parameters\n",
      "{'C': 100, 'decision_function_shape': 'ovr', 'kernel': 'linear'}\n",
      " \n",
      "Best estimator\n",
      "SVC(C=100, cache_size=200, class_weight=None, coef0=0.0,\n",
      "  decision_function_shape='ovr', degree=3, gamma='auto_deprecated',\n",
      "  kernel='linear', max_iter=-1, probability=True, random_state=None,\n",
      "  shrinking=True, tol=0.001, verbose=False)\n"
     ]
    }
   ],
   "source": [
    "# examine the best model\n",
    "\n",
    "print(\"Best score achieved across all parameters: \", grid_SVC.best_score_)\n",
    "\n",
    "# Dictionary containing the parameters used to generate that score\n",
    "print(\" \")\n",
    "print(\"Best parameters\")\n",
    "print(grid_SVC.best_params_)\n",
    "\n",
    "print(\" \")\n",
    "print(\"Best estimator\")\n",
    "print(grid_SVC.best_estimator_)"
   ]
  },
  {
   "cell_type": "markdown",
   "metadata": {},
   "source": [
    "##### cross - validation with the best hyperparameters"
   ]
  },
  {
   "cell_type": "code",
   "execution_count": 73,
   "metadata": {},
   "outputs": [
    {
     "name": "stdout",
     "output_type": "stream",
     "text": [
      "Below are the scores for each model run\n",
      "[0.88549618 0.8778626  0.86153846 0.85384615 0.82307692 0.87692308\n",
      " 0.84615385 0.86821705 0.8125     0.84251969]\n",
      " \n",
      "Mean Accuracy and variance: 0.85 (+/- 0.05)\n"
     ]
    }
   ],
   "source": [
    "clf_SVC_best = grid_SVC.best_estimator_\n",
    "\n",
    "scores = cross_val_score(clf_SVC_best, X_train, y_train, cv=10)\n",
    "\n",
    "print(\"Below are the scores for each model run\")\n",
    "print(scores)\n",
    "\n",
    "print(\" \")\n",
    "print(\"Mean Accuracy and variance: %0.2f (+/- %0.2f)\" % (scores.mean(), scores.std() * 2))"
   ]
  },
  {
   "cell_type": "markdown",
   "metadata": {},
   "source": [
    "##### Fitting the Train data and Prediction on test data"
   ]
  },
  {
   "cell_type": "code",
   "execution_count": 74,
   "metadata": {},
   "outputs": [
    {
     "name": "stdout",
     "output_type": "stream",
     "text": [
      "SVC : accuracy on test data is  84.95 %\n",
      " \n",
      "SVC : Confusion Matrix\n",
      " \n",
      "[[284  14   2   3]\n",
      " [ 39  57   0   0]\n",
      " [  1   0  15   0]\n",
      " [  4   2   0  11]]\n",
      " \n",
      "SVC : Classification Report\n",
      "              precision    recall  f1-score   support\n",
      "\n",
      "           0       0.87      0.94      0.90       303\n",
      "           1       0.78      0.59      0.67        96\n",
      "           2       0.88      0.94      0.91        16\n",
      "           3       0.79      0.65      0.71        17\n",
      "\n",
      "   micro avg       0.85      0.85      0.85       432\n",
      "   macro avg       0.83      0.78      0.80       432\n",
      "weighted avg       0.84      0.85      0.84       432\n",
      "\n"
     ]
    }
   ],
   "source": [
    "clf_SVC_best.fit(X_train,y_train)\n",
    "\n",
    "y_pred = clf_SVC_best.predict(X_test_holdout)\n",
    "print(\"SVC : accuracy on test data is \",round(accuracy_score(y_test_holdout, y_pred)*100,2),\"%\")\n",
    "print(\" \")\n",
    "print(\"SVC : Confusion Matrix\")\n",
    "print(\" \")\n",
    "print(confusion_matrix(y_test_holdout, y_pred))\n",
    "print(\" \")\n",
    "print(\"SVC : Classification Report\")\n",
    "print(classification_report(y_test_holdout, y_pred))"
   ]
  },
  {
   "cell_type": "markdown",
   "metadata": {},
   "source": [
    "##### ROC curve and Area Under the Curve"
   ]
  },
  {
   "cell_type": "code",
   "execution_count": 75,
   "metadata": {},
   "outputs": [
    {
     "name": "stderr",
     "output_type": "stream",
     "text": [
      "C:\\Users\\rckar\\Anaconda3\\lib\\site-packages\\sklearn\\utils\\deprecation.py:77: DeprecationWarning: Function plot_roc_curve is deprecated; This will be removed in v0.5.0. Please use scikitplot.metrics.plot_roc instead.\n",
      "  warnings.warn(msg, category=DeprecationWarning)\n"
     ]
    },
    {
     "data": {
      "image/png": "[encoded data removed]",
      "text/plain": [
       "<Figure size 432x288 with 1 Axes>"
      ]
     },
     "metadata": {
      "needs_background": "light"
     },
     "output_type": "display_data"
    }
   ],
   "source": [
    "y_probas =  clf_SVC_best.predict_proba(X_test_holdout) # predicted probabilities generated by classifier\n",
    "sckplt.metrics.plot_roc_curve(y_test_holdout, y_probas)\n",
    "plt.show()"
   ]
  },
  {
   "cell_type": "markdown",
   "metadata": {},
   "source": [
    "# Considering Ordinal variables as numeric (Ordinally encoded)"
   ]
  },
  {
   "cell_type": "markdown",
   "metadata": {},
   "source": [
    "##### Creating the Train and Test data"
   ]
  },
  {
   "cell_type": "code",
   "execution_count": 76,
   "metadata": {},
   "outputs": [],
   "source": [
    "X_df = car_ord_coded.iloc[:,0:6]\n",
    "y_df = car_ord_coded.iloc[:,6:]"
   ]
  },
  {
   "cell_type": "code",
   "execution_count": 77,
   "metadata": {},
   "outputs": [],
   "source": [
    "X_train, X_test_holdout, y_train, y_test_holdout = train_test_split(X_df, y_df, test_size=0.25, stratify=y_df['evaluation'])"
   ]
  },
  {
   "cell_type": "markdown",
   "metadata": {},
   "source": [
    "### Decision Tree"
   ]
  },
  {
   "cell_type": "markdown",
   "metadata": {},
   "source": [
    "###### Tuning the model using GridSearch Cross Validation to find the values of hyperparameters that best fit the model"
   ]
  },
  {
   "cell_type": "code",
   "execution_count": 78,
   "metadata": {},
   "outputs": [
    {
     "data": {
      "text/plain": [
       "GridSearchCV(cv=5, error_score='raise-deprecating',\n",
       "       estimator=DecisionTreeClassifier(class_weight=None, criterion='gini', max_depth=None,\n",
       "            max_features=None, max_leaf_nodes=None,\n",
       "            min_impurity_decrease=0.0, min_impurity_split=None,\n",
       "            min_samples_leaf=1, min_samples_split=2,\n",
       "            min_weight_fraction_leaf=0.0, presort=False, random_state=None,\n",
       "            splitter='best'),\n",
       "       fit_params=None, iid='warn', n_jobs=None,\n",
       "       param_grid={'max_depth': range(1, 20), 'min_samples_split': range(3, 30), 'criterion': ['gini', 'entropy']},\n",
       "       pre_dispatch='2*n_jobs', refit=True, return_train_score='warn',\n",
       "       scoring='accuracy', verbose=0)"
      ]
     },
     "execution_count": 78,
     "metadata": {},
     "output_type": "execute_result"
    }
   ],
   "source": [
    "# Hyper parameter tuning using GridSearch\n",
    "param_set ={'max_depth': range(1,20), 'min_samples_split' : range(3,30), 'criterion' : [\"gini\", \"entropy\"]}\n",
    "clf_DTree = tree.DecisionTreeClassifier()\n",
    "grid_DTree = GridSearchCV(clf_DTree, param_grid = param_set, cv=5, scoring='accuracy')\n",
    "grid_DTree.fit(X_train,y_train)"
   ]
  },
  {
   "cell_type": "markdown",
   "metadata": {},
   "source": [
    "##### Examining the best model"
   ]
  },
  {
   "cell_type": "code",
   "execution_count": 79,
   "metadata": {},
   "outputs": [
    {
     "name": "stdout",
     "output_type": "stream",
     "text": [
      "Best score achieved across all parameters:  0.9714506172839507\n",
      " \n",
      "Best parameters\n",
      "{'criterion': 'gini', 'max_depth': 12, 'min_samples_split': 3}\n",
      " \n",
      "Best estimator\n",
      "DecisionTreeClassifier(class_weight=None, criterion='gini', max_depth=12,\n",
      "            max_features=None, max_leaf_nodes=None,\n",
      "            min_impurity_decrease=0.0, min_impurity_split=None,\n",
      "            min_samples_leaf=1, min_samples_split=3,\n",
      "            min_weight_fraction_leaf=0.0, presort=False, random_state=None,\n",
      "            splitter='best')\n"
     ]
    }
   ],
   "source": [
    "print(\"Best score achieved across all parameters: \", grid_DTree.best_score_)\n",
    "\n",
    "# Dictionary containing the parameters used to generate that score\n",
    "print(\" \")\n",
    "print(\"Best parameters\")\n",
    "print(grid_DTree.best_params_)\n",
    "\n",
    "print(\" \")\n",
    "print(\"Best estimator\")\n",
    "print(grid_DTree.best_estimator_)"
   ]
  },
  {
   "cell_type": "markdown",
   "metadata": {},
   "source": [
    "##### cross - validation with the best hyperparameters"
   ]
  },
  {
   "cell_type": "code",
   "execution_count": 80,
   "metadata": {},
   "outputs": [
    {
     "name": "stdout",
     "output_type": "stream",
     "text": [
      "Below are the scores for each model run\n",
      "[0.97318008 0.94252874 0.98069498 0.98062016 0.96498054]\n",
      " \n",
      "Mean Accuracy and variance: 0.97 (+/- 0.03)\n"
     ]
    }
   ],
   "source": [
    "clf_Dtree_best = grid_DTree.best_estimator_\n",
    "\n",
    "scores = cross_val_score(clf_Dtree_best, X_train, y_train, cv=5)\n",
    "\n",
    "print(\"Below are the scores for each model run\")\n",
    "print(scores)\n",
    "\n",
    "print(\" \")\n",
    "print(\"Mean Accuracy and variance: %0.2f (+/- %0.2f)\" % (scores.mean(), scores.std() * 2))"
   ]
  },
  {
   "cell_type": "markdown",
   "metadata": {},
   "source": [
    "##### Fitting the Train data and Prediction on test data"
   ]
  },
  {
   "cell_type": "code",
   "execution_count": 81,
   "metadata": {},
   "outputs": [
    {
     "name": "stdout",
     "output_type": "stream",
     "text": [
      "Decision Tree : accuracy on test data is  96.53 %\n",
      " \n",
      "Decision Tree : Confusion Matrix\n",
      " \n",
      "[[299   4   0   0]\n",
      " [  4  91   0   1]\n",
      " [  0   1  15   0]\n",
      " [  0   3   2  12]]\n",
      " \n",
      "Decision Tree : Classification Report\n",
      "              precision    recall  f1-score   support\n",
      "\n",
      "           0       0.99      0.99      0.99       303\n",
      "           1       0.92      0.95      0.93        96\n",
      "           2       0.88      0.94      0.91        16\n",
      "           3       0.92      0.71      0.80        17\n",
      "\n",
      "   micro avg       0.97      0.97      0.97       432\n",
      "   macro avg       0.93      0.89      0.91       432\n",
      "weighted avg       0.97      0.97      0.96       432\n",
      "\n"
     ]
    }
   ],
   "source": [
    "clf_Dtree_best.fit(X_train,y_train)\n",
    "\n",
    "y_pred = clf_Dtree_best.predict(X_test_holdout)\n",
    "print(\"Decision Tree : accuracy on test data is \",round(accuracy_score(y_test_holdout, y_pred)*100,2),\"%\")\n",
    "print(\" \")\n",
    "print(\"Decision Tree : Confusion Matrix\")\n",
    "print(\" \")\n",
    "print(confusion_matrix(y_test_holdout, y_pred))\n",
    "print(\" \")\n",
    "print(\"Decision Tree : Classification Report\")\n",
    "print(classification_report(y_test_holdout, y_pred))"
   ]
  },
  {
   "cell_type": "markdown",
   "metadata": {},
   "source": [
    "##### ROC curve and Area Under the Curve"
   ]
  },
  {
   "cell_type": "code",
   "execution_count": 82,
   "metadata": {},
   "outputs": [
    {
     "name": "stderr",
     "output_type": "stream",
     "text": [
      "C:\\Users\\rckar\\Anaconda3\\lib\\site-packages\\sklearn\\utils\\deprecation.py:77: DeprecationWarning: Function plot_roc_curve is deprecated; This will be removed in v0.5.0. Please use scikitplot.metrics.plot_roc instead.\n",
      "  warnings.warn(msg, category=DeprecationWarning)\n"
     ]
    },
    {
     "data": {
      "image/png": "[encoded data removed]",
      "text/plain": [
       "<Figure size 432x288 with 1 Axes>"
      ]
     },
     "metadata": {
      "needs_background": "light"
     },
     "output_type": "display_data"
    }
   ],
   "source": [
    "y_probas =  clf_Dtree_best.predict_proba(X_test_holdout) # predicted probabilities generated by classifier\n",
    "sckplt.metrics.plot_roc_curve(y_test_holdout, y_probas)\n",
    "plt.show()"
   ]
  },
  {
   "cell_type": "markdown",
   "metadata": {},
   "source": [
    "### Logistic Regression"
   ]
  },
  {
   "cell_type": "markdown",
   "metadata": {},
   "source": [
    "###### Tuning the model using GridSearch Cross Validation to find the values of hyperparameters that best fit the model"
   ]
  },
  {
   "cell_type": "code",
   "execution_count": 83,
   "metadata": {},
   "outputs": [
    {
     "name": "stderr",
     "output_type": "stream",
     "text": [
      "C:\\Users\\rckar\\Anaconda3\\lib\\site-packages\\sklearn\\model_selection\\_search.py:841: DeprecationWarning: The default of the `iid` parameter will change from True to False in version 0.22 and will be removed in 0.24. This will change numeric results when test-set sizes are unequal.\n",
      "  DeprecationWarning)\n"
     ]
    },
    {
     "data": {
      "text/plain": [
       "GridSearchCV(cv=5, error_score='raise-deprecating',\n",
       "       estimator=LogisticRegression(C=1.0, class_weight=None, dual=False, fit_intercept=True,\n",
       "          intercept_scaling=1, max_iter=100, multi_class='warn',\n",
       "          n_jobs=None, penalty='l2', random_state=None, solver='warn',\n",
       "          tol=0.0001, verbose=0, warm_start=False),\n",
       "       fit_params=None, iid='warn', n_jobs=None,\n",
       "       param_grid={'multi_class': ['multinomial'], 'C': array([0.2, 0.3, 0.4, 0.5, 0.6, 0.7, 0.8, 0.9]), 'class_weight': [None, 'balanced'], 'solver': ['newton-cg', 'lbfgs', 'sag', 'saga']},\n",
       "       pre_dispatch='2*n_jobs', refit=True, return_train_score='warn',\n",
       "       scoring='accuracy', verbose=0)"
      ]
     },
     "execution_count": 83,
     "metadata": {},
     "output_type": "execute_result"
    }
   ],
   "source": [
    "param_set ={'multi_class' : ['multinomial'], 'C':np.arange(0.2,1,0.1),\n",
    "            'class_weight': [None, 'balanced'], 'solver': ['newton-cg', 'lbfgs','sag','saga']}\n",
    "\n",
    "clf_logistic = linear_model.LogisticRegression()\n",
    "\n",
    "grid_logistic = GridSearchCV(clf_logistic, param_grid = param_set, cv=5, scoring='accuracy')\n",
    "grid_logistic.fit(X_train,y_train)"
   ]
  },
  {
   "cell_type": "markdown",
   "metadata": {},
   "source": [
    "##### Examining the best model"
   ]
  },
  {
   "cell_type": "code",
   "execution_count": 84,
   "metadata": {},
   "outputs": [
    {
     "name": "stdout",
     "output_type": "stream",
     "text": [
      "Best score achieved across all parameters:  0.8240740740740741\n",
      " \n",
      "Best parameters\n",
      "{'C': 0.8000000000000003, 'class_weight': None, 'multi_class': 'multinomial', 'solver': 'lbfgs'}\n",
      " \n",
      "Best estimator\n",
      "LogisticRegression(C=0.8000000000000003, class_weight=None, dual=False,\n",
      "          fit_intercept=True, intercept_scaling=1, max_iter=100,\n",
      "          multi_class='multinomial', n_jobs=None, penalty='l2',\n",
      "          random_state=None, solver='lbfgs', tol=0.0001, verbose=0,\n",
      "          warm_start=False)\n"
     ]
    }
   ],
   "source": [
    "# Single best score achieved across all params\n",
    "print(\"Best score achieved across all parameters: \", grid_logistic.best_score_)\n",
    "\n",
    "# Dictionary containing the parameters used to generate that score\n",
    "print(\" \")\n",
    "print(\"Best parameters\")\n",
    "print(grid_logistic.best_params_)\n",
    "\n",
    "# Actual model object fit with those best parameters\n",
    "# Shows default parameters that we did not specify\n",
    "print(\" \")\n",
    "print(\"Best estimator\")\n",
    "print(grid_logistic.best_estimator_)"
   ]
  },
  {
   "cell_type": "markdown",
   "metadata": {},
   "source": [
    "##### cross - validation with the best hyperparameters"
   ]
  },
  {
   "cell_type": "code",
   "execution_count": 85,
   "metadata": {},
   "outputs": [
    {
     "name": "stdout",
     "output_type": "stream",
     "text": [
      "Below are the scores for each model run\n",
      "[0.82758621 0.82758621 0.81081081 0.79069767 0.86381323]\n",
      " \n",
      "Mean Accuracy and variance: 0.82 (+/- 0.05)\n"
     ]
    }
   ],
   "source": [
    "clf_logistic_best = grid_logistic.best_estimator_\n",
    "\n",
    "scores = cross_val_score(clf_logistic_best, X_train, y_train, cv=5)\n",
    "\n",
    "print(\"Below are the scores for each model run\")\n",
    "print(scores)\n",
    "\n",
    "print(\" \")\n",
    "print(\"Mean Accuracy and variance: %0.2f (+/- %0.2f)\" % (scores.mean(), scores.std() * 2))"
   ]
  },
  {
   "cell_type": "markdown",
   "metadata": {},
   "source": [
    "##### Fitting the Train data and Prediction on test data"
   ]
  },
  {
   "cell_type": "code",
   "execution_count": 86,
   "metadata": {},
   "outputs": [
    {
     "name": "stdout",
     "output_type": "stream",
     "text": [
      "Logistic Regression : accuracy on test data is  83.8 %\n",
      " \n",
      "Logistic Regression : Confusion Matrix\n",
      " \n",
      "[[288  14   0   1]\n",
      " [ 38  55   1   2]\n",
      " [  0   5  11   0]\n",
      " [  2   6   1   8]]\n",
      " \n",
      "Logistic Regression : Classification Report\n",
      "              precision    recall  f1-score   support\n",
      "\n",
      "           0       0.88      0.95      0.91       303\n",
      "           1       0.69      0.57      0.62        96\n",
      "           2       0.85      0.69      0.76        16\n",
      "           3       0.73      0.47      0.57        17\n",
      "\n",
      "   micro avg       0.84      0.84      0.84       432\n",
      "   macro avg       0.78      0.67      0.72       432\n",
      "weighted avg       0.83      0.84      0.83       432\n",
      "\n"
     ]
    }
   ],
   "source": [
    "clf_logistic_best.fit(X_train,y_train)\n",
    "\n",
    "y_pred = clf_logistic_best.predict(X_test_holdout)\n",
    "\n",
    "print(\"Logistic Regression : accuracy on test data is \",round(accuracy_score(y_test_holdout, y_pred)*100,2),\"%\")\n",
    "print(\" \")\n",
    "print(\"Logistic Regression : Confusion Matrix\")\n",
    "print(\" \")\n",
    "print(confusion_matrix(y_test_holdout, y_pred))\n",
    "print(\" \")\n",
    "print(\"Logistic Regression : Classification Report\")\n",
    "print(classification_report(y_test_holdout, y_pred))"
   ]
  },
  {
   "cell_type": "markdown",
   "metadata": {},
   "source": [
    "##### ROC curve and Area Under the Curve"
   ]
  },
  {
   "cell_type": "code",
   "execution_count": 87,
   "metadata": {},
   "outputs": [
    {
     "name": "stderr",
     "output_type": "stream",
     "text": [
      "C:\\Users\\rckar\\Anaconda3\\lib\\site-packages\\sklearn\\utils\\deprecation.py:77: DeprecationWarning: Function plot_roc_curve is deprecated; This will be removed in v0.5.0. Please use scikitplot.metrics.plot_roc instead.\n",
      "  warnings.warn(msg, category=DeprecationWarning)\n"
     ]
    },
    {
     "data": {
      "image/png": "[encoded data removed]",
      "text/plain": [
       "<Figure size 432x288 with 1 Axes>"
      ]
     },
     "metadata": {
      "needs_background": "light"
     },
     "output_type": "display_data"
    }
   ],
   "source": [
    "y_probas =  clf_logistic_best.predict_proba(X_test_holdout) # predicted probabilities generated by classifier\n",
    "sckplt.metrics.plot_roc_curve(y_test_holdout, y_probas)\n",
    "plt.show()"
   ]
  },
  {
   "cell_type": "markdown",
   "metadata": {},
   "source": [
    "### KNN Classifier"
   ]
  },
  {
   "cell_type": "code",
   "execution_count": 88,
   "metadata": {},
   "outputs": [],
   "source": [
    "scaler = MinMaxScaler(feature_range=(0, 1))"
   ]
  },
  {
   "cell_type": "code",
   "execution_count": 89,
   "metadata": {},
   "outputs": [],
   "source": [
    "x_train_scaled = scaler.fit_transform(X_train)\n",
    "x_train_scaled = pd.DataFrame(x_train_scaled)\n",
    "\n",
    "x_test_scaled = scaler.fit_transform(X_test_holdout)\n",
    "x_test_scaled = pd.DataFrame(x_test_scaled)"
   ]
  },
  {
   "cell_type": "markdown",
   "metadata": {},
   "source": [
    "###### Tuning the model using GridSearch Cross Validation to find the values of hyperparameters that best fit the model"
   ]
  },
  {
   "cell_type": "code",
   "execution_count": 90,
   "metadata": {},
   "outputs": [
    {
     "data": {
      "text/plain": [
       "GridSearchCV(cv=5, error_score='raise-deprecating',\n",
       "       estimator=KNeighborsClassifier(algorithm='auto', leaf_size=30, metric='minkowski',\n",
       "           metric_params=None, n_jobs=None, n_neighbors=5, p=2,\n",
       "           weights='uniform'),\n",
       "       fit_params=None, iid='warn', n_jobs=None,\n",
       "       param_grid={'n_neighbors': [1, 2, 3, 4, 5, 6, 7, 8, 9, 10, 11, 12, 13, 14, 15, 16, 17, 18, 19, 20, 21, 22, 23, 24, 25, 26, 27, 28, 29], 'weights': ['uniform', 'distance']},\n",
       "       pre_dispatch='2*n_jobs', refit=True, return_train_score='warn',\n",
       "       scoring='accuracy', verbose=0)"
      ]
     },
     "execution_count": 90,
     "metadata": {},
     "output_type": "execute_result"
    }
   ],
   "source": [
    "param_set ={'n_neighbors': list(range(1,30)), 'weights': [\"uniform\", \"distance\"]}\n",
    "\n",
    "clf_knn = neighbors.KNeighborsClassifier()\n",
    "\n",
    "grid_knn = GridSearchCV(clf_knn, param_grid = param_set, cv=5, scoring='accuracy')\n",
    "grid_knn.fit(x_train_scaled,y_train)"
   ]
  },
  {
   "cell_type": "markdown",
   "metadata": {},
   "source": [
    "##### Examining the best model"
   ]
  },
  {
   "cell_type": "code",
   "execution_count": 91,
   "metadata": {},
   "outputs": [
    {
     "name": "stdout",
     "output_type": "stream",
     "text": [
      "Best score achieved across all parameters:  0.9506172839506173\n",
      " \n",
      "Best parameters\n",
      "{'n_neighbors': 13, 'weights': 'distance'}\n",
      " \n",
      "Best estimator\n",
      "KNeighborsClassifier(algorithm='auto', leaf_size=30, metric='minkowski',\n",
      "           metric_params=None, n_jobs=None, n_neighbors=13, p=2,\n",
      "           weights='distance')\n"
     ]
    }
   ],
   "source": [
    "# Single best score achieved across all params\n",
    "print(\"Best score achieved across all parameters: \", grid_knn.best_score_)\n",
    "\n",
    "# Dictionary containing the parameters used to generate that score\n",
    "print(\" \")\n",
    "print(\"Best parameters\")\n",
    "print(grid_knn.best_params_)\n",
    "\n",
    "# Actual model object fit with those best parameters\n",
    "# Shows default parameters that we did not specify\n",
    "print(\" \")\n",
    "print(\"Best estimator\")\n",
    "print(grid_knn.best_estimator_)"
   ]
  },
  {
   "cell_type": "markdown",
   "metadata": {},
   "source": [
    "##### cross - validation with the best hyperparameters"
   ]
  },
  {
   "cell_type": "code",
   "execution_count": 92,
   "metadata": {},
   "outputs": [
    {
     "name": "stdout",
     "output_type": "stream",
     "text": [
      "Below are the scores for each model run\n",
      "[0.93129771 0.96183206 0.94615385 0.93846154 0.94615385 0.92307692\n",
      " 0.95384615 0.96124031 0.96875    0.96850394]\n",
      " \n",
      "Mean Accuracy and variance: 0.95 (+/- 0.03)\n"
     ]
    }
   ],
   "source": [
    "clf_knn_best = grid_knn.best_estimator_\n",
    "\n",
    "scores = cross_val_score(clf_knn_best, x_train_scaled, y_train, cv=10)\n",
    "\n",
    "print(\"Below are the scores for each model run\")\n",
    "print(scores)\n",
    "\n",
    "print(\" \")\n",
    "print(\"Mean Accuracy and variance: %0.2f (+/- %0.2f)\" % (scores.mean(), scores.std() * 2))"
   ]
  },
  {
   "cell_type": "markdown",
   "metadata": {},
   "source": [
    "##### Fitting the Train data and Prediction on test data"
   ]
  },
  {
   "cell_type": "code",
   "execution_count": 93,
   "metadata": {},
   "outputs": [
    {
     "name": "stdout",
     "output_type": "stream",
     "text": [
      "KNN : accuracy on test data is  94.21 %\n",
      " \n",
      "KNN : Confusion Matrix\n",
      " \n",
      "[[301   2   0   0]\n",
      " [  5  85   1   5]\n",
      " [  0   3  12   1]\n",
      " [  0   7   1   9]]\n",
      " \n",
      "KNN : Classification Report\n",
      "              precision    recall  f1-score   support\n",
      "\n",
      "           0       0.98      0.99      0.99       303\n",
      "           1       0.88      0.89      0.88        96\n",
      "           2       0.86      0.75      0.80        16\n",
      "           3       0.60      0.53      0.56        17\n",
      "\n",
      "   micro avg       0.94      0.94      0.94       432\n",
      "   macro avg       0.83      0.79      0.81       432\n",
      "weighted avg       0.94      0.94      0.94       432\n",
      "\n"
     ]
    }
   ],
   "source": [
    "clf_knn_best.fit(X_train,y_train)\n",
    "\n",
    "\n",
    "y_pred = clf_knn_best.predict(X_test_holdout)\n",
    "\n",
    "print(\"KNN : accuracy on test data is \",round(accuracy_score(y_test_holdout, y_pred)*100,2),\"%\")\n",
    "print(\" \")\n",
    "print(\"KNN : Confusion Matrix\")\n",
    "print(\" \")\n",
    "print(confusion_matrix(y_test_holdout, y_pred))\n",
    "print(\" \")\n",
    "print(\"KNN : Classification Report\")\n",
    "print(classification_report(y_test_holdout, y_pred))"
   ]
  },
  {
   "cell_type": "markdown",
   "metadata": {},
   "source": [
    "##### ROC curve and Area Under the Curve"
   ]
  },
  {
   "cell_type": "code",
   "execution_count": 94,
   "metadata": {},
   "outputs": [
    {
     "name": "stderr",
     "output_type": "stream",
     "text": [
      "C:\\Users\\rckar\\Anaconda3\\lib\\site-packages\\sklearn\\utils\\deprecation.py:77: DeprecationWarning: Function plot_roc_curve is deprecated; This will be removed in v0.5.0. Please use scikitplot.metrics.plot_roc instead.\n",
      "  warnings.warn(msg, category=DeprecationWarning)\n"
     ]
    },
    {
     "data": {
      "image/png": "[encoded data removed]",
      "text/plain": [
       "<Figure size 432x288 with 1 Axes>"
      ]
     },
     "metadata": {
      "needs_background": "light"
     },
     "output_type": "display_data"
    }
   ],
   "source": [
    "y_probas =  clf_knn_best.predict_proba(X_test_holdout) # predicted probabilities generated by classifier\n",
    "sckplt.metrics.plot_roc_curve(y_test_holdout, y_probas)\n",
    "plt.show()"
   ]
  },
  {
   "cell_type": "markdown",
   "metadata": {},
   "source": [
    "### Naive Bayes"
   ]
  },
  {
   "cell_type": "markdown",
   "metadata": {},
   "source": [
    "##### cross - validation to check training accuracy"
   ]
  },
  {
   "cell_type": "code",
   "execution_count": 95,
   "metadata": {},
   "outputs": [
    {
     "name": "stdout",
     "output_type": "stream",
     "text": [
      "Below are the scores for each model run\n",
      "[0.69348659 0.72796935 0.68725869 0.70930233 0.6848249 ]\n",
      " \n",
      "Mean Accuracy and variance: 0.70 (+/- 0.03)\n"
     ]
    }
   ],
   "source": [
    "clf_NB = naive_bayes.GaussianNB()\n",
    "\n",
    "scores = cross_val_score(clf_NB, X_train, y_train, cv=5)\n",
    "\n",
    "print(\"Below are the scores for each model run\")\n",
    "print(scores)\n",
    "\n",
    "print(\" \")\n",
    "print(\"Mean Accuracy and variance: %0.2f (+/- %0.2f)\" % (scores.mean(), scores.std() * 2))"
   ]
  },
  {
   "cell_type": "markdown",
   "metadata": {},
   "source": [
    "##### Fitting the Train data and Prediction on test data"
   ]
  },
  {
   "cell_type": "code",
   "execution_count": 96,
   "metadata": {},
   "outputs": [
    {
     "name": "stdout",
     "output_type": "stream",
     "text": [
      "Naive Bayes : accuracy on test data is  71.3 %\n",
      " \n",
      "Naive Bayes : Confusion Matrix\n",
      " \n",
      "[[269  10  24   0]\n",
      " [ 41  19  31   5]\n",
      " [  0   0  16   0]\n",
      " [  2   4   7   4]]\n",
      " \n",
      "Naive Bayes : Classification Report\n",
      "              precision    recall  f1-score   support\n",
      "\n",
      "           0       0.86      0.89      0.87       303\n",
      "           1       0.58      0.20      0.29        96\n",
      "           2       0.21      1.00      0.34        16\n",
      "           3       0.44      0.24      0.31        17\n",
      "\n",
      "   micro avg       0.71      0.71      0.71       432\n",
      "   macro avg       0.52      0.58      0.45       432\n",
      "weighted avg       0.76      0.71      0.70       432\n",
      "\n"
     ]
    }
   ],
   "source": [
    "clf_NB.fit(X_train,y_train)\n",
    "\n",
    "y_pred = clf_NB.predict(X_test_holdout)\n",
    "\n",
    "print(\"Naive Bayes : accuracy on test data is \",round(accuracy_score(y_test_holdout, y_pred)*100,2),\"%\")\n",
    "print(\" \")\n",
    "print(\"Naive Bayes : Confusion Matrix\")\n",
    "print(\" \")\n",
    "print(confusion_matrix(y_test_holdout, y_pred))\n",
    "print(\" \")\n",
    "print(\"Naive Bayes : Classification Report\")\n",
    "print(classification_report(y_test_holdout, y_pred))"
   ]
  },
  {
   "cell_type": "markdown",
   "metadata": {},
   "source": [
    "##### ROC curve and Area Under the Curve"
   ]
  },
  {
   "cell_type": "code",
   "execution_count": 97,
   "metadata": {},
   "outputs": [
    {
     "name": "stderr",
     "output_type": "stream",
     "text": [
      "C:\\Users\\rckar\\Anaconda3\\lib\\site-packages\\sklearn\\utils\\deprecation.py:77: DeprecationWarning: Function plot_roc_curve is deprecated; This will be removed in v0.5.0. Please use scikitplot.metrics.plot_roc instead.\n",
      "  warnings.warn(msg, category=DeprecationWarning)\n"
     ]
    },
    {
     "data": {
      "image/png": "[encoded data removed]",
      "text/plain": [
       "<Figure size 432x288 with 1 Axes>"
      ]
     },
     "metadata": {
      "needs_background": "light"
     },
     "output_type": "display_data"
    }
   ],
   "source": [
    "y_probas =  clf_NB.predict_proba(X_test_holdout) # predicted probabilities generated by classifier\n",
    "sckplt.metrics.plot_roc_curve(y_test_holdout, y_probas)\n",
    "plt.show()"
   ]
  },
  {
   "cell_type": "markdown",
   "metadata": {},
   "source": [
    "### SVM Classifier"
   ]
  },
  {
   "cell_type": "markdown",
   "metadata": {},
   "source": [
    "###### Tuning the model using GridSearch Cross Validation to find the values of hyperparameters that best fit the model"
   ]
  },
  {
   "cell_type": "code",
   "execution_count": 98,
   "metadata": {},
   "outputs": [
    {
     "data": {
      "text/plain": [
       "GridSearchCV(cv=5, error_score='raise-deprecating',\n",
       "       estimator=SVC(C=1.0, cache_size=200, class_weight=None, coef0=0.0,\n",
       "  decision_function_shape='ovr', degree=3, gamma='auto_deprecated',\n",
       "  kernel='rbf', max_iter=-1, probability=True, random_state=None,\n",
       "  shrinking=True, tol=0.001, verbose=False),\n",
       "       fit_params=None, iid='warn', n_jobs=None,\n",
       "       param_grid=[{'kernel': ['rbf'], 'gamma': [0.001, 0.0001], 'C': [1, 2, 3, 4, 5, 10, 100], 'decision_function_shape': ['ovr', 'ovo']}, {'kernel': ['linear'], 'C': [1, 2, 3, 4, 5, 10, 100], 'decision_function_shape': ['ovr', 'ovo']}],\n",
       "       pre_dispatch='2*n_jobs', refit=True, return_train_score='warn',\n",
       "       scoring=None, verbose=0)"
      ]
     },
     "execution_count": 98,
     "metadata": {},
     "output_type": "execute_result"
    }
   ],
   "source": [
    "# Hyper parameter tuning using GridSearch\n",
    "param_set = [{'kernel': ['rbf'], 'gamma': [1e-3, 1e-4],\n",
    "                     'C': [1,2,3,4,5,10,100], 'decision_function_shape':['ovr','ovo']},\n",
    "                    {'kernel': ['linear'], 'C': [1,2,3,4,5,10,100], 'decision_function_shape':['ovr','ovo']}]\n",
    "clf_SVC = svm.SVC(probability=True)\n",
    "grid_SVC = GridSearchCV(clf_SVC, param_grid = param_set, cv=5)\n",
    "grid_SVC.fit(X_train,y_train)"
   ]
  },
  {
   "cell_type": "markdown",
   "metadata": {},
   "source": [
    "##### Examining the best model"
   ]
  },
  {
   "cell_type": "code",
   "execution_count": 99,
   "metadata": {},
   "outputs": [
    {
     "name": "stdout",
     "output_type": "stream",
     "text": [
      "Best score achieved across all parameters:  0.8680555555555556\n",
      " \n",
      "Best parameters\n",
      "{'C': 100, 'decision_function_shape': 'ovr', 'gamma': 0.001, 'kernel': 'rbf'}\n",
      " \n",
      "Best estimator\n",
      "SVC(C=100, cache_size=200, class_weight=None, coef0=0.0,\n",
      "  decision_function_shape='ovr', degree=3, gamma=0.001, kernel='rbf',\n",
      "  max_iter=-1, probability=True, random_state=None, shrinking=True,\n",
      "  tol=0.001, verbose=False)\n"
     ]
    }
   ],
   "source": [
    "# examine the best model\n",
    "\n",
    "print(\"Best score achieved across all parameters: \", grid_SVC.best_score_)\n",
    "\n",
    "# Dictionary containing the parameters used to generate that score\n",
    "print(\" \")\n",
    "print(\"Best parameters\")\n",
    "print(grid_SVC.best_params_)\n",
    "\n",
    "print(\" \")\n",
    "print(\"Best estimator\")\n",
    "print(grid_SVC.best_estimator_)"
   ]
  },
  {
   "cell_type": "markdown",
   "metadata": {},
   "source": [
    "##### cross - validation with the best hyperparameters"
   ]
  },
  {
   "cell_type": "code",
   "execution_count": 100,
   "metadata": {},
   "outputs": [
    {
     "name": "stdout",
     "output_type": "stream",
     "text": [
      "Below are the scores for each model run\n",
      "[0.85057471 0.87356322 0.86100386 0.86434109 0.89105058]\n",
      " \n",
      "Mean Accuracy and variance: 0.87 (+/- 0.03)\n"
     ]
    }
   ],
   "source": [
    "clf_SVC_best = grid_SVC.best_estimator_\n",
    "\n",
    "scores = cross_val_score(clf_SVC_best, X_train, y_train, cv=5)\n",
    "\n",
    "print(\"Below are the scores for each model run\")\n",
    "print(scores)\n",
    "\n",
    "print(\" \")\n",
    "print(\"Mean Accuracy and variance: %0.2f (+/- %0.2f)\" % (scores.mean(), scores.std() * 2))"
   ]
  },
  {
   "cell_type": "markdown",
   "metadata": {},
   "source": [
    "##### Fitting the Train data and Prediction on test data"
   ]
  },
  {
   "cell_type": "code",
   "execution_count": 101,
   "metadata": {},
   "outputs": [
    {
     "name": "stdout",
     "output_type": "stream",
     "text": [
      "SVC : accuracy on test data is  86.34 %\n",
      " \n",
      "SVC : Confusion Matrix\n",
      " \n",
      "[[292  11   0   0]\n",
      " [ 32  62   1   1]\n",
      " [  0   2  11   3]\n",
      " [  1   6   2   8]]\n",
      " \n",
      "SVC : Classification Report\n",
      "              precision    recall  f1-score   support\n",
      "\n",
      "           0       0.90      0.96      0.93       303\n",
      "           1       0.77      0.65      0.70        96\n",
      "           2       0.79      0.69      0.73        16\n",
      "           3       0.67      0.47      0.55        17\n",
      "\n",
      "   micro avg       0.86      0.86      0.86       432\n",
      "   macro avg       0.78      0.69      0.73       432\n",
      "weighted avg       0.86      0.86      0.86       432\n",
      "\n"
     ]
    }
   ],
   "source": [
    "clf_SVC_best.fit(X_train,y_train)\n",
    "\n",
    "y_pred = clf_SVC_best.predict(X_test_holdout)\n",
    "print(\"SVC : accuracy on test data is \",round(accuracy_score(y_test_holdout, y_pred)*100,2),\"%\")\n",
    "print(\" \")\n",
    "print(\"SVC : Confusion Matrix\")\n",
    "print(\" \")\n",
    "print(confusion_matrix(y_test_holdout, y_pred))\n",
    "print(\" \")\n",
    "print(\"SVC : Classification Report\")\n",
    "print(classification_report(y_test_holdout, y_pred))"
   ]
  },
  {
   "cell_type": "markdown",
   "metadata": {},
   "source": [
    "##### ROC curve and Area Under the Curve"
   ]
  },
  {
   "cell_type": "code",
   "execution_count": 102,
   "metadata": {},
   "outputs": [
    {
     "name": "stderr",
     "output_type": "stream",
     "text": [
      "C:\\Users\\rckar\\Anaconda3\\lib\\site-packages\\sklearn\\utils\\deprecation.py:77: DeprecationWarning: Function plot_roc_curve is deprecated; This will be removed in v0.5.0. Please use scikitplot.metrics.plot_roc instead.\n",
      "  warnings.warn(msg, category=DeprecationWarning)\n"
     ]
    },
    {
     "data": {
      "image/png": "[encoded data removed]",
      "text/plain": [
       "<Figure size 432x288 with 1 Axes>"
      ]
     },
     "metadata": {
      "needs_background": "light"
     },
     "output_type": "display_data"
    }
   ],
   "source": [
    "y_probas =  clf_SVC_best.predict_proba(X_test_holdout) # predicted probabilities generated by classifier\n",
    "sckplt.metrics.plot_roc_curve(y_test_holdout, y_probas)\n",
    "plt.show()"
   ]
  }
 ],
 "metadata": {
  "kernelspec": {
   "display_name": "Python 3",
   "language": "python",
   "name": "python3"
  },
  "language_info": {
   "codemirror_mode": {
    "name": "ipython",
    "version": 3
   },
   "file_extension": ".py",
   "mimetype": "text/x-python",
   "name": "python",
   "nbconvert_exporter": "python",
   "pygments_lexer": "ipython3",
   "version": "3.7.3"
  }
 },
 "nbformat": 4,
 "nbformat_minor": 2
}
