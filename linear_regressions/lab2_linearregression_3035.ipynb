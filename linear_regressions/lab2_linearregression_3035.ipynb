{
 "cells": [
  {
   "cell_type": "code",
   "execution_count": 1,
   "id": "a38f9b13-7b82-4b38-b2a4-1dc344600714",
   "metadata": {
    "tags": []
   },
   "outputs": [
    {
     "name": "stdout",
     "output_type": "stream",
     "text": [
      "hello!~\n"
     ]
    }
   ],
   "source": [
    "print(\"hello!~\")"
   ]
  },
  {
   "cell_type": "code",
   "execution_count": 16,
   "id": "a3cecfec-f8db-4f1b-95d0-b18eb47a44cb",
   "metadata": {
    "tags": []
   },
   "outputs": [
    {
     "name": "stdout",
     "output_type": "stream",
     "text": [
      "    Hours studied   Marks  x_minus_x_prime  y_minus_y_prime  product  \\\n",
      "0                2     69             -2.8             -8.8    24.64   \n",
      "1                9     98              4.2             20.2    84.84   \n",
      "2                5     82              0.2              4.2     0.84   \n",
      "3                5     77              0.2             -0.8    -0.16   \n",
      "4                3     71             -1.8             -6.8    12.24   \n",
      "5                7     84              2.2              6.2    13.64   \n",
      "6                1     55             -3.8            -22.8    86.64   \n",
      "7                8     94              3.2             16.2    51.84   \n",
      "8                6     84              1.2              6.2     7.44   \n",
      "9                2     64             -2.8            -13.8    38.64   \n",
      "\n",
      "   x_minus_x_prime_squared  \n",
      "0                     7.84  \n",
      "1                    17.64  \n",
      "2                     0.04  \n",
      "3                     0.04  \n",
      "4                     3.24  \n",
      "5                     4.84  \n",
      "6                    14.44  \n",
      "7                    10.24  \n",
      "8                     1.44  \n",
      "9                     7.84  \n"
     ]
    }
   ],
   "source": [
    "import pandas as pd\n",
    "file_path = 'C:/Users/2022503035/Documents/linearregression_dataset.xlsx'\n",
    "data = pd.read_excel(file_path)\n",
    "print(data)"
   ]
  },
  {
   "cell_type": "code",
   "execution_count": 34,
   "id": "c7c3a7dd-1493-4b8d-b32d-63411dacd5c1",
   "metadata": {
    "tags": []
   },
   "outputs": [
    {
     "name": "stdout",
     "output_type": "stream",
     "text": [
      "Mean of the x: 4.8\n"
     ]
    }
   ],
   "source": [
    "\n",
    "meanof_x= data.iloc[:, 0].mean() \n",
    "print(f\"Mean of the x: {meanof_x}\")\n"
   ]
  },
  {
   "cell_type": "code",
   "execution_count": 35,
   "id": "c02f5ff6-c270-4d30-961c-67c620e8748d",
   "metadata": {
    "tags": []
   },
   "outputs": [
    {
     "name": "stdout",
     "output_type": "stream",
     "text": [
      "Mean of the y: 77.8\n"
     ]
    }
   ],
   "source": [
    "meanof_y = data.iloc[:, 1].mean() \n",
    "print(f\"Mean of the y: {meanof_y}\")\n"
   ]
  },
  {
   "cell_type": "code",
   "execution_count": 36,
   "id": "c18975f6-c282-42d3-8bba-3e612010c7e6",
   "metadata": {
    "tags": []
   },
   "outputs": [
    {
     "name": "stdout",
     "output_type": "stream",
     "text": [
      "    Hours studied   Marks  x_minus_x_prime  y_minus_y_prime  product  \\\n",
      "0                2     69             -2.8             -8.8    24.64   \n",
      "1                9     98              4.2             20.2    84.84   \n",
      "2                5     82              0.2              4.2     0.84   \n",
      "3                5     77              0.2             -0.8    -0.16   \n",
      "4                3     71             -1.8             -6.8    12.24   \n",
      "5                7     84              2.2              6.2    13.64   \n",
      "6                1     55             -3.8            -22.8    86.64   \n",
      "7                8     94              3.2             16.2    51.84   \n",
      "8                6     84              1.2              6.2     7.44   \n",
      "9                2     64             -2.8            -13.8    38.64   \n",
      "\n",
      "   x_minus_x_prime_squared  x_minus_x_dash  \n",
      "0                     7.84            -2.8  \n",
      "1                    17.64             4.2  \n",
      "2                     0.04             0.2  \n",
      "3                     0.04             0.2  \n",
      "4                     3.24            -1.8  \n",
      "5                     4.84             2.2  \n",
      "6                    14.44            -3.8  \n",
      "7                    10.24             3.2  \n",
      "8                     1.44             1.2  \n",
      "9                     7.84            -2.8  \n",
      "The updated data has been saved to the Excel file.\n"
     ]
    }
   ],
   "source": [
    "data['x_minus_x_dash'] = data.iloc[:, 0] - meanof_x\n",
    "\n",
    "print(data)\n",
    "\n",
    "data.to_excel(file_path, index=False)\n",
    "\n",
    "print(\"The updated data has been saved to the Excel file.\")\n"
   ]
  },
  {
   "cell_type": "code",
   "execution_count": 38,
   "id": "8d0bbf36-ad01-433a-b700-a333c3cd97ab",
   "metadata": {
    "tags": []
   },
   "outputs": [
    {
     "name": "stdout",
     "output_type": "stream",
     "text": [
      "    Hours studied   Marks  x_minus_x_prime  y_minus_y_prime  product  \\\n",
      "0                2     69             -2.8             -8.8    24.64   \n",
      "1                9     98              4.2             20.2    84.84   \n",
      "2                5     82              0.2              4.2     0.84   \n",
      "3                5     77              0.2             -0.8    -0.16   \n",
      "4                3     71             -1.8             -6.8    12.24   \n",
      "5                7     84              2.2              6.2    13.64   \n",
      "6                1     55             -3.8            -22.8    86.64   \n",
      "7                8     94              3.2             16.2    51.84   \n",
      "8                6     84              1.2              6.2     7.44   \n",
      "9                2     64             -2.8            -13.8    38.64   \n",
      "\n",
      "   x_minus_x_prime_squared  x_minus_x_dash  y_minus_y_dash  \n",
      "0                     7.84            -2.8            -8.8  \n",
      "1                    17.64             4.2            20.2  \n",
      "2                     0.04             0.2             4.2  \n",
      "3                     0.04             0.2            -0.8  \n",
      "4                     3.24            -1.8            -6.8  \n",
      "5                     4.84             2.2             6.2  \n",
      "6                    14.44            -3.8           -22.8  \n",
      "7                    10.24             3.2            16.2  \n",
      "8                     1.44             1.2             6.2  \n",
      "9                     7.84            -2.8           -13.8  \n",
      "The updated data has been saved to the Excel file.\n"
     ]
    }
   ],
   "source": [
    "data['y_minus_y_dash'] = data.iloc[:, 1] - meanof_y\n",
    "\n",
    "print(data)\n",
    "\n",
    "data.to_excel(file_path, index=False)\n",
    "\n",
    "print(\"The updated data has been saved to the Excel file.\")\n"
   ]
  },
  {
   "cell_type": "code",
   "execution_count": 39,
   "id": "7a5cced5-12a0-4ac7-9bec-5b3487364bdf",
   "metadata": {
    "tags": []
   },
   "outputs": [
    {
     "name": "stdout",
     "output_type": "stream",
     "text": [
      "    Hours studied   Marks  x_minus_x_prime  y_minus_y_prime  product  \\\n",
      "0                2     69             -2.8             -8.8    24.64   \n",
      "1                9     98              4.2             20.2    84.84   \n",
      "2                5     82              0.2              4.2     0.84   \n",
      "3                5     77              0.2             -0.8    -0.16   \n",
      "4                3     71             -1.8             -6.8    12.24   \n",
      "5                7     84              2.2              6.2    13.64   \n",
      "6                1     55             -3.8            -22.8    86.64   \n",
      "7                8     94              3.2             16.2    51.84   \n",
      "8                6     84              1.2              6.2     7.44   \n",
      "9                2     64             -2.8            -13.8    38.64   \n",
      "\n",
      "   x_minus_x_prime_squared  x_minus_x_dash  y_minus_y_dash  \n",
      "0                     7.84            -2.8            -8.8  \n",
      "1                    17.64             4.2            20.2  \n",
      "2                     0.04             0.2             4.2  \n",
      "3                     0.04             0.2            -0.8  \n",
      "4                     3.24            -1.8            -6.8  \n",
      "5                     4.84             2.2             6.2  \n",
      "6                    14.44            -3.8           -22.8  \n",
      "7                    10.24             3.2            16.2  \n",
      "8                     1.44             1.2             6.2  \n",
      "9                     7.84            -2.8           -13.8  \n",
      "The updated data with the product column has been saved to the Excel file.\n"
     ]
    }
   ],
   "source": [
    "data['product'] = data['x_minus_x_dash'] * data['y_minus_y_dash']\n",
    "print(data)\n",
    "data.to_excel(file_path, index=False)\n",
    "print(\"The updated data with the product column has been saved to the Excel file.\")\n"
   ]
  },
  {
   "cell_type": "code",
   "execution_count": 40,
   "id": "2620a70d-ab29-4e70-bac5-b9bea167e9ae",
   "metadata": {
    "tags": []
   },
   "outputs": [
    {
     "name": "stdout",
     "output_type": "stream",
     "text": [
      "    Hours studied   Marks  x_minus_x_prime  y_minus_y_prime  product  \\\n",
      "0                2     69             -2.8             -8.8    24.64   \n",
      "1                9     98              4.2             20.2    84.84   \n",
      "2                5     82              0.2              4.2     0.84   \n",
      "3                5     77              0.2             -0.8    -0.16   \n",
      "4                3     71             -1.8             -6.8    12.24   \n",
      "5                7     84              2.2              6.2    13.64   \n",
      "6                1     55             -3.8            -22.8    86.64   \n",
      "7                8     94              3.2             16.2    51.84   \n",
      "8                6     84              1.2              6.2     7.44   \n",
      "9                2     64             -2.8            -13.8    38.64   \n",
      "\n",
      "   x_minus_x_prime_squared  x_minus_x_dash  y_minus_y_dash  \\\n",
      "0                     7.84            -2.8            -8.8   \n",
      "1                    17.64             4.2            20.2   \n",
      "2                     0.04             0.2             4.2   \n",
      "3                     0.04             0.2            -0.8   \n",
      "4                     3.24            -1.8            -6.8   \n",
      "5                     4.84             2.2             6.2   \n",
      "6                    14.44            -3.8           -22.8   \n",
      "7                    10.24             3.2            16.2   \n",
      "8                     1.44             1.2             6.2   \n",
      "9                     7.84            -2.8           -13.8   \n",
      "\n",
      "   x_minus_x_dash_squared  \n",
      "0                    7.84  \n",
      "1                   17.64  \n",
      "2                    0.04  \n",
      "3                    0.04  \n",
      "4                    3.24  \n",
      "5                    4.84  \n",
      "6                   14.44  \n",
      "7                   10.24  \n",
      "8                    1.44  \n",
      "9                    7.84  \n",
      "The updated data with (x - x')^2 column has been saved to the Excel file.\n"
     ]
    }
   ],
   "source": [
    "\n",
    "data['x_minus_x_dash_squared'] = data['x_minus_x_dash'] ** 2\n",
    "\n",
    "print(data)\n",
    "\n",
    "data.to_excel(file_path, index=False)\n",
    "\n",
    "print(\"The updated data with (x - x')^2 column has been saved to the Excel file.\")\n"
   ]
  },
  {
   "cell_type": "code",
   "execution_count": 41,
   "id": "165d2d06-7aab-4f24-96c5-a0556a66a947",
   "metadata": {
    "tags": []
   },
   "outputs": [
    {
     "name": "stdout",
     "output_type": "stream",
     "text": [
      "4.742603550295858\n"
     ]
    }
   ],
   "source": [
    "b = data['product'].sum() / data['x_minus_x_dash_squared'].sum()\n",
    "print(b)"
   ]
  },
  {
   "cell_type": "code",
   "execution_count": 42,
   "id": "f570752d-93bd-43d4-8138-b44b69ccd911",
   "metadata": {
    "tags": []
   },
   "outputs": [
    {
     "name": "stdout",
     "output_type": "stream",
     "text": [
      "55.03550295857988\n"
     ]
    }
   ],
   "source": [
    "a = meanof_y - b * meanof_x\n",
    "print(a)"
   ]
  },
  {
   "cell_type": "code",
   "execution_count": 53,
   "id": "a7d6c96c-c5fc-4c61-b32d-401a1e1f8064",
   "metadata": {
    "tags": []
   },
   "outputs": [
    {
     "data": {
      "image/png": "[encoded data removed]",
      "text/plain": [
       "<Figure size 800x600 with 1 Axes>"
      ]
     },
     "metadata": {},
     "output_type": "display_data"
    }
   ],
   "source": [
    "import matplotlib.pyplot as plt\n",
    "y_pred = a + b * data.iloc[:, 0]  \n",
    "plt.figure(figsize=(8, 6))\n",
    "\n",
    "plt.scatter(data.iloc[:, 0], data.iloc[:, 1], color='blue', label='Original Data')\n",
    "\n",
    "plt.plot(data.iloc[:, 0], y_pred, color='red', label='Regression Line')\n",
    "\n",
    "plt.xlabel('x (hours studied)')\n",
    "plt.ylabel('y (marks)')\n",
    "plt.title('Linear Regression: y^ = a + bx')\n",
    "plt.legend()\n",
    "plt.grid(True)\n",
    "\n",
    "plt.show()"
   ]
  },
  {
   "cell_type": "code",
   "execution_count": 55,
   "id": "6106447f-df18-452e-bdc4-679b605f995a",
   "metadata": {
    "tags": []
   },
   "outputs": [
    {
     "name": "stdin",
     "output_type": "stream",
     "text": [
      "Enter the x value to predict y:  4\n"
     ]
    },
    {
     "name": "stdout",
     "output_type": "stream",
     "text": [
      "For x = 4.0, the predicted y value (y^) is: 74.00591715976331\n"
     ]
    },
    {
     "name": "stdin",
     "output_type": "stream",
     "text": [
      "Do you want to predict for another x value? (yes/no):  yes\n",
      "Enter the x value to predict y:  3\n"
     ]
    },
    {
     "name": "stdout",
     "output_type": "stream",
     "text": [
      "For x = 3.0, the predicted y value (y^) is: 69.26331360946746\n"
     ]
    },
    {
     "name": "stdin",
     "output_type": "stream",
     "text": [
      "Do you want to predict for another x value? (yes/no):  no\n"
     ]
    },
    {
     "name": "stdout",
     "output_type": "stream",
     "text": [
      "exit\n"
     ]
    },
    {
     "data": {
      "image/png": "[encoded data removed]",
      "text/plain": [
       "<Figure size 800x600 with 1 Axes>"
      ]
     },
     "metadata": {},
     "output_type": "display_data"
    }
   ],
   "source": [
    "while True:\n",
    "    x_input = float(input(\"Enter the x value to predict y: \"))\n",
    "    y_predip=  a + b * x_input\n",
    "    print(f\"For x = {x_input}, the predicted y value (y^) is: {y_predip}\")\n",
    "    user_choice = input(\"Do you want to predict for another x value? (yes/no): \").lower()\n",
    "    if user_choice == 'no':\n",
    "        print(\"exit\")\n",
    "        break\n",
    "data.to_excel(file_path, index=False)\n",
    "plt.figure(figsize=(8, 6))\n",
    "\n",
    "plt.scatter(data.iloc[:, 0], data.iloc[:, 1], color='green', label='Updated data')\n",
    "\n",
    "plt.plot(data.iloc[:, 0], y_pred, color='red', label='Regression Line')\n",
    "\n",
    "plt.xlabel('x (hours studied)')\n",
    "plt.ylabel('y (marks)')\n",
    "plt.title('Linear Regression: y^ = a + bx')\n",
    "plt.legend()\n",
    "plt.grid(True)\n",
    "\n",
    "plt.show()"
   ]
  },
  {
   "cell_type": "code",
   "execution_count": null,
   "id": "2013c7f9-c4b5-4513-9725-2c65ea9fd2b2",
   "metadata": {},
   "outputs": [],
   "source": []
  }
 ],
 "metadata": {
  "kernelspec": {
   "display_name": "Python 3 (ipykernel)",
   "language": "python",
   "name": "python3"
  },
  "language_info": {
   "codemirror_mode": {
    "name": "ipython",
    "version": 3
   },
   "file_extension": ".py",
   "mimetype": "text/x-python",
   "name": "python",
   "nbconvert_exporter": "python",
   "pygments_lexer": "ipython3",
   "version": "3.11.5"
  }
 },
 "nbformat": 4,
 "nbformat_minor": 5
}
