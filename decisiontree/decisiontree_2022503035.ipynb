{
 "cells": [
  {
   "cell_type": "code",
   "execution_count": 21,
   "id": "21b431b0-e637-4e44-a3fb-fa2fceb2e7fe",
   "metadata": {
    "tags": []
   },
   "outputs": [
    {
     "name": "stdout",
     "output_type": "stream",
     "text": [
      "            AGE  INCOME STUDENT CREDIT_RATING CLASS:BUYS_COMPUTER\n",
      "0        youth     high      no          fair                  no\n",
      "1        youth     high      no     excellent                  no\n",
      "2   middle_aged    high      no          fair                 yes\n",
      "3        senior  medium      no          fair                 yes\n",
      "4        senior     low     yes          fair                 yes\n",
      "5        senior     low     yes     excellent                  no\n",
      "6   middle_aged     low     yes     excellent                 yes\n",
      "7        youth   medium      no          fair                  no\n",
      "8        youth      low     yes          fair                 yes\n",
      "9        senior  medium     yes          fair                 yes\n",
      "10       youth   medium     yes     excellent                 yes\n",
      "11  middle_aged  medium      no     excellent                 yes\n",
      "12  middle_aged    high     yes          fair                 yes\n",
      "13       senior  medium      no     excellent                  no\n"
     ]
    }
   ],
   "source": [
    "import numpy as np\n",
    "import pandas as pd\n",
    "import math \n",
    "\n",
    "file_path = 'C:/Users/2022503035/Documents/machine_learning_2022503035/decisiontree/dataset.xlsx'\n",
    "df = pd.read_excel(file_path)\n",
    "print(df)\n",
    "target_data = df['CLASS:BUYS_COMPUTER']"
   ]
  },
  {
   "cell_type": "code",
   "execution_count": 22,
   "id": "72246670-9947-4826-bf96-6d911286c526",
   "metadata": {
    "tags": []
   },
   "outputs": [
    {
     "name": "stdout",
     "output_type": "stream",
     "text": [
      "Entropy of the dataset is :0.9403\n"
     ]
    }
   ],
   "source": [
    "def entropy (x) :\n",
    "    class_count = {}\n",
    "    for val in x:\n",
    "        if val in class_count:\n",
    "            class_count[val]+=1\n",
    "        else:\n",
    "            class_count[val] = 1\n",
    "    total_instances = len(x)\n",
    "    entropy = 0\n",
    "    \n",
    "    for count in class_count.values():\n",
    "        prob = count/total_instances\n",
    "        entropy -= prob * math.log2(prob)\n",
    "    return entropy\n",
    "\n",
    "dataentropy = entropy (target_data)\n",
    "print(f\"Entropy of the dataset is :{dataentropy:.4f}\")\n",
    "    "
   ]
  },
  {
   "cell_type": "code",
   "execution_count": 23,
   "id": "04563171-76b8-4dd1-ac0c-b88cc5e8cf98",
   "metadata": {
    "tags": []
   },
   "outputs": [
    {
     "name": "stdout",
     "output_type": "stream",
     "text": [
      "\n",
      "Information Gain for each attribute:\n",
      "AGE: 0.2467\n",
      "INCOME: 0.0292\n",
      "STUDENT: 0.1518\n",
      "CREDIT_RATING: 0.0481\n",
      "\n",
      "Best attribute for splitting: AGE\n"
     ]
    }
   ],
   "source": [
    "def info_gain(df, attribute, target_column):\n",
    "    total_entropy = entropy(df[target_column])\n",
    "    values = df[attribute].unique()\n",
    "    # this helps find the unique values of a given attribute apparently \n",
    "    weight_entropy = 0\n",
    "    # this is for the sum of weighted entropies of subsets \n",
    "    total_instances = len(df)\n",
    "    # total number of rows in the dataset\n",
    "    \n",
    "    for value in values:\n",
    "        subset = df[df[attribute] == value]\n",
    "        subset_entropy = entropy(subset[target_column])\n",
    "        weight = len(subset) / total_instances\n",
    "        weight_entropy += weight* subset_entropy\n",
    "    return total_entropy - weight_entropy\n",
    "\n",
    "target_column = 'CLASS:BUYS_COMPUTER'\n",
    "attributes = df.columns[:-1] \n",
    "\n",
    "info_gain_values = {}  \n",
    "\n",
    "for attribute in attributes:\n",
    "    info_gain_values[attribute] = info_gain(df, attribute, target_column)\n",
    "\n",
    "# Print Information Gain for each attribute\n",
    "print(\"\\nInformation Gain for each attribute:\")\n",
    "for attr, ig in info_gain_values.items():\n",
    "    print(f\"{attr}: {ig:.4f}\")\n",
    "\n",
    "# Find the best attribute for splitting\n",
    "best_attribute = max(info_gain_values, key=info_gain_values.get)\n",
    "print(f\"\\nBest attribute for splitting: {best_attribute}\")\n",
    "        \n",
    "    "
   ]
  },
  {
   "cell_type": "code",
   "execution_count": 29,
   "id": "8ac230f6-0dfe-4d3c-826a-ffa7bbf1c623",
   "metadata": {
    "tags": []
   },
   "outputs": [
    {
     "name": "stdout",
     "output_type": "stream",
     "text": [
      "AGE\n",
      " ├── youth \n",
      " │   STUDENT\n",
      " │    ├── no\n",
      " │    │   → no\n",
      " │    ├── yes\n",
      " │    │   → yes\n",
      " ├── middle_aged\n",
      " │   → yes\n",
      " ├── senior\n",
      " │   CREDIT_RATING\n",
      " │    ├── fair\n",
      " │    │   → yes\n",
      " │    ├── excellent\n",
      " │    │   → no\n"
     ]
    }
   ],
   "source": [
    "def id3(df, target_column, attributes):\n",
    "    if len(df[target_column].unique()) == 1:\n",
    "        return df[target_column].unique()[0]\n",
    "    if len(attributes) == 0:\n",
    "        return df[target_column].mode()[0] \n",
    "\n",
    "    info_gain_values = {attr: info_gain(df, attr, target_column) for attr in attributes}\n",
    "    best_attribute = max(info_gain_values, key=info_gain_values.get)\n",
    "    tree = {best_attribute: {}}\n",
    "    remaining_attributes = [attr for attr in attributes if attr != best_attribute]\n",
    "    \n",
    "    for value in df[best_attribute].unique():\n",
    "        subset = df[df[best_attribute] == value]\n",
    "        tree[best_attribute][value] = id3(subset, target_column, remaining_attributes)\n",
    "\n",
    "    return tree\n",
    "\n",
    "\n",
    "def print_tree(tree, indent=\"\"):\n",
    "    if not isinstance(tree, dict):\n",
    "        print(indent + \"→ \" + str(tree))  \n",
    "        return\n",
    "    for key, value in tree.items():\n",
    "        print(indent + key)  \n",
    "        for sub_key, sub_value in value.items():\n",
    "            print(indent + f\" ├── {sub_key}\")  \n",
    "            print_tree(sub_value, indent + \" │   \")  \n",
    "\n",
    "\n",
    "target_column = 'CLASS:BUYS_COMPUTER'\n",
    "attributes = [col for col in df.columns if col not in ['RID', target_column]]\n",
    "\n",
    "decision_tree = id3(df, target_column, attributes)\n",
    "\n",
    "print_tree(decision_tree)\n"
   ]
  },
  {
   "cell_type": "code",
   "execution_count": 37,
   "id": "2dde48cf-da63-467d-a2e5-e61d4245d85c",
   "metadata": {
    "tags": []
   },
   "outputs": [
    {
     "name": "stdout",
     "output_type": "stream",
     "text": [
      "Gini for AGE is 0.343\n",
      "Gini for INCOME is 0.440\n",
      "Gini for STUDENT is 0.367\n",
      "Gini for CREDIT_RATING is 0.429\n"
     ]
    }
   ],
   "source": [
    "def gini_split(df, attribute, target_column):\n",
    "    attribute_values = df[attribute].value_counts()\n",
    "    total_instances = len(df)\n",
    "    weighted_gini = 0\n",
    "    for value in attribute_values.keys():\n",
    "        subset = df[df[attribute] == value]\n",
    "        subset_class_counts = subset[target_column].value_counts()\n",
    "        gini_A = gini_impurity(subset_class_counts)\n",
    "        weighted_gini += (len(subset) / total_instances) * gini_A\n",
    "    \n",
    "    return weighted_gini\n",
    "\n",
    "# this is to compute ggini impurity for each attribute\n",
    "gini_attribute = {}\n",
    "for attr in df.columns:\n",
    "    if attr != 'CLASS:BUYS_COMPUTER':\n",
    "        gini_attribute[attr] = gini_split(df, attr, 'CLASS:BUYS_COMPUTER')\n",
    "        print(f'Gini for {attr} is {gini_attribute[attr]:.3f}')\n",
    "\n",
    "\n"
   ]
  },
  {
   "cell_type": "code",
   "execution_count": 39,
   "id": "efeebee0-dd02-4487-a49d-440763f795d2",
   "metadata": {
    "tags": []
   },
   "outputs": [
    {
     "name": "stdout",
     "output_type": "stream",
     "text": [
      "\n",
      "CART Decision Tree\n",
      "AGE\n",
      " ├── youth \n",
      " │   STUDENT\n",
      " │    ├── no\n",
      " │    │   → no\n",
      " │    ├── yes\n",
      " │    │   → yes\n",
      " ├── middle_aged\n",
      " │   → yes\n",
      " ├── senior\n",
      " │   CREDIT_RATING\n",
      " │    ├── fair\n",
      " │    │   → yes\n",
      " │    ├── excellent\n",
      " │    │   → no\n",
      "The selected attribute is: AGE\n"
     ]
    }
   ],
   "source": [
    "def cart(df, target_column, attributes):\n",
    "\n",
    "    if len(df[target_column].unique()) == 1:\n",
    "        return df[target_column].unique()[0]\n",
    "    if len(attributes) == 0:\n",
    "        return df[target_column].mode()[0] \n",
    "\n",
    "   \n",
    "    gini_values = {attr: gini_split(df, attr, target_column) for attr in attributes}\n",
    "    # the best binary split is calculated based on the most min value\n",
    "    best_attribute = min(gini_values, key=gini_values.get)\n",
    "\n",
    "    # creatingg a subtree \n",
    "    tree = {best_attribute: {}}\n",
    "\n",
    "    remaining_attributes = [attr for attr in attributes if attr != best_attribute]\n",
    "\n",
    "    for value in df[best_attribute].unique():\n",
    "        subset = df[df[best_attribute] == value]\n",
    "        tree[best_attribute][value] = cart(subset, target_column, remaining_attributes)\n",
    "\n",
    "    return tree\n",
    "\n",
    "def print_tree(tree, indent=\"\"):\n",
    "    if not isinstance(tree, dict):\n",
    "        print(indent + \"→ \" + str(tree))\n",
    "        return\n",
    "    for key, value in tree.items():\n",
    "        print(indent + key) \n",
    "        for sub_key, sub_value in value.items():\n",
    "            print(indent + f\" ├── {sub_key}\")  \n",
    "            print_tree(sub_value, indent + \" │   \")  \n",
    "\n",
    "\n",
    "target_column = 'CLASS:BUYS_COMPUTER'\n",
    "attributes = [col for col in df.columns if col not in ['RID', target_column]]\n",
    "\n",
    "cart_tree = cart(df, target_column, attributes)\n",
    "\n",
    "print(\"\\nCART Decision Tree\")\n",
    "print_tree(cart_tree)\n",
    "\n",
    "selected_attribute = min(gini_attribute, key=gini_attribute.get)\n",
    "print(f'The selected attribute is: {selected_attribute}')"
   ]
  },
  {
   "cell_type": "code",
   "execution_count": null,
   "id": "f7ed0547-2460-45c9-806a-a1ed7cdf0016",
   "metadata": {},
   "outputs": [],
   "source": []
  }
 ],
 "metadata": {
  "kernelspec": {
   "display_name": "Python 3 (ipykernel)",
   "language": "python",
   "name": "python3"
  },
  "language_info": {
   "codemirror_mode": {
    "name": "ipython",
    "version": 3
   },
   "file_extension": ".py",
   "mimetype": "text/x-python",
   "name": "python",
   "nbconvert_exporter": "python",
   "pygments_lexer": "ipython3",
   "version": "3.11.5"
  }
 },
 "nbformat": 4,
 "nbformat_minor": 5
}
